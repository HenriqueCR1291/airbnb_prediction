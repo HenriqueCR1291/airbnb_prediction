{
 "cells": [
  {
   "cell_type": "markdown",
   "metadata": {
    "ExecuteTime": {
     "end_time": "2021-04-21T19:35:21.931278Z",
     "start_time": "2021-04-21T19:35:21.926280Z"
    }
   },
   "source": [
    "# 0.0. Understanding the problem"
   ]
  },
  {
   "cell_type": "markdown",
   "metadata": {},
   "source": [
    "--Goal:\n",
    "    --1.0 Predict the first destination that the new user will choose\n",
    "    \n",
    "    --Why?\n",
    "        --What is the business model of Airbnb?\n",
    "            --Marketplace (connect people who offer acomodation to whom are seeking a place)\n",
    "            --Offer\n",
    "                --Portfolio size\n",
    "                --Portfolio diversity and density\n",
    "                --Average price\n",
    "                \n",
    "            --Demand\n",
    "                --Number of users\n",
    "                --LTV (lifetime value)\n",
    "                --CAC (client acquisition cost)\n",
    "                \n",
    "                Gross Revenue = (Fee*Number of clients) - CAC\n",
    "                \n",
    "--Solution\n",
    "    --Predictive model for the first destination of new user\n",
    "    --1.0 Prediction save in a database\n",
    "    --2.0 API\n",
    "        --Input: User and features\n",
    "        --Output: User and feature with destination prediction\n",
    "        "
   ]
  },
  {
   "cell_type": "markdown",
   "metadata": {},
   "source": [
    "# Module 1"
   ]
  },
  {
   "cell_type": "markdown",
   "metadata": {},
   "source": [
    "## 0.0. Imports"
   ]
  },
  {
   "cell_type": "markdown",
   "metadata": {},
   "source": [
    "### 0.1. Helper Functions"
   ]
  },
  {
   "cell_type": "code",
   "execution_count": 68,
   "metadata": {
    "ExecuteTime": {
     "end_time": "2021-04-21T23:32:18.546398Z",
     "start_time": "2021-04-21T23:30:02.540753Z"
    }
   },
   "outputs": [
    {
     "name": "stdout",
     "output_type": "stream",
     "text": [
      "Requirement already satisfied: keras in c:\\users\\henrique\\anaconda3\\lib\\site-packages (2.4.3)\n",
      "Requirement already satisfied: pyyaml in c:\\users\\henrique\\anaconda3\\lib\\site-packages (from keras) (5.3.1)\n",
      "Requirement already satisfied: numpy>=1.9.1 in c:\\users\\henrique\\anaconda3\\lib\\site-packages (from keras) (1.19.2)\n",
      "Requirement already satisfied: h5py in c:\\users\\henrique\\anaconda3\\lib\\site-packages (from keras) (2.10.0)\n",
      "Requirement already satisfied: scipy>=0.14 in c:\\users\\henrique\\anaconda3\\lib\\site-packages (from keras) (1.5.2)\n",
      "Requirement already satisfied: six in c:\\users\\henrique\\anaconda3\\lib\\site-packages (from h5py->keras) (1.15.0)\n",
      "Requirement already satisfied: tensorflow in c:\\users\\henrique\\anaconda3\\lib\\site-packages (2.4.1)\n",
      "Requirement already satisfied: numpy~=1.19.2 in c:\\users\\henrique\\anaconda3\\lib\\site-packages (from tensorflow) (1.19.2)\n",
      "Requirement already satisfied: h5py~=2.10.0 in c:\\users\\henrique\\anaconda3\\lib\\site-packages (from tensorflow) (2.10.0)\n",
      "Requirement already satisfied: tensorflow-estimator<2.5.0,>=2.4.0 in c:\\users\\henrique\\anaconda3\\lib\\site-packages (from tensorflow) (2.4.0)\n",
      "Requirement already satisfied: astunparse~=1.6.3 in c:\\users\\henrique\\anaconda3\\lib\\site-packages (from tensorflow) (1.6.3)\n",
      "Requirement already satisfied: google-pasta~=0.2 in c:\\users\\henrique\\anaconda3\\lib\\site-packages (from tensorflow) (0.2.0)\n",
      "Requirement already satisfied: tensorboard~=2.4 in c:\\users\\henrique\\anaconda3\\lib\\site-packages (from tensorflow) (2.5.0)\n",
      "Requirement already satisfied: opt-einsum~=3.3.0 in c:\\users\\henrique\\anaconda3\\lib\\site-packages (from tensorflow) (3.3.0)\n",
      "Requirement already satisfied: keras-preprocessing~=1.1.2 in c:\\users\\henrique\\anaconda3\\lib\\site-packages (from tensorflow) (1.1.2)\n",
      "Requirement already satisfied: gast==0.3.3 in c:\\users\\henrique\\anaconda3\\lib\\site-packages (from tensorflow) (0.3.3)\n",
      "Requirement already satisfied: absl-py~=0.10 in c:\\users\\henrique\\anaconda3\\lib\\site-packages (from tensorflow) (0.12.0)\n",
      "Requirement already satisfied: grpcio~=1.32.0 in c:\\users\\henrique\\anaconda3\\lib\\site-packages (from tensorflow) (1.32.0)\n",
      "Requirement already satisfied: wheel~=0.35 in c:\\users\\henrique\\anaconda3\\lib\\site-packages (from tensorflow) (0.35.1)\n",
      "Requirement already satisfied: wrapt~=1.12.1 in c:\\users\\henrique\\anaconda3\\lib\\site-packages (from tensorflow) (1.12.1)\n",
      "Requirement already satisfied: protobuf>=3.9.2 in c:\\users\\henrique\\anaconda3\\lib\\site-packages (from tensorflow) (3.15.1)\n",
      "Requirement already satisfied: typing-extensions~=3.7.4 in c:\\users\\henrique\\anaconda3\\lib\\site-packages (from tensorflow) (3.7.4.3)\n",
      "Requirement already satisfied: flatbuffers~=1.12.0 in c:\\users\\henrique\\anaconda3\\lib\\site-packages (from tensorflow) (1.12)\n",
      "Requirement already satisfied: six~=1.15.0 in c:\\users\\henrique\\anaconda3\\lib\\site-packages (from tensorflow) (1.15.0)\n",
      "Requirement already satisfied: termcolor~=1.1.0 in c:\\users\\henrique\\anaconda3\\lib\\site-packages (from tensorflow) (1.1.0)\n",
      "Requirement already satisfied: markdown>=2.6.8 in c:\\users\\henrique\\anaconda3\\lib\\site-packages (from tensorboard~=2.4->tensorflow) (3.3.4)\n",
      "Requirement already satisfied: setuptools>=41.0.0 in c:\\users\\henrique\\anaconda3\\lib\\site-packages (from tensorboard~=2.4->tensorflow) (50.3.1.post20201107)\n",
      "Requirement already satisfied: tensorboard-data-server<0.7.0,>=0.6.0 in c:\\users\\henrique\\anaconda3\\lib\\site-packages (from tensorboard~=2.4->tensorflow) (0.6.0)\n",
      "Requirement already satisfied: werkzeug>=0.11.15 in c:\\users\\henrique\\anaconda3\\lib\\site-packages (from tensorboard~=2.4->tensorflow) (1.0.1)\n",
      "Requirement already satisfied: tensorboard-plugin-wit>=1.6.0 in c:\\users\\henrique\\anaconda3\\lib\\site-packages (from tensorboard~=2.4->tensorflow) (1.8.0)\n",
      "Requirement already satisfied: google-auth<2,>=1.6.3 in c:\\users\\henrique\\anaconda3\\lib\\site-packages (from tensorboard~=2.4->tensorflow) (1.29.0)\n",
      "Requirement already satisfied: requests<3,>=2.21.0 in c:\\users\\henrique\\anaconda3\\lib\\site-packages (from tensorboard~=2.4->tensorflow) (2.24.0)\n",
      "Requirement already satisfied: google-auth-oauthlib<0.5,>=0.4.1 in c:\\users\\henrique\\anaconda3\\lib\\site-packages (from tensorboard~=2.4->tensorflow) (0.4.4)\n",
      "Requirement already satisfied: pyasn1-modules>=0.2.1 in c:\\users\\henrique\\anaconda3\\lib\\site-packages (from google-auth<2,>=1.6.3->tensorboard~=2.4->tensorflow) (0.2.8)\n",
      "Requirement already satisfied: cachetools<5.0,>=2.0.0 in c:\\users\\henrique\\anaconda3\\lib\\site-packages (from google-auth<2,>=1.6.3->tensorboard~=2.4->tensorflow) (4.2.1)\n",
      "Requirement already satisfied: rsa<5,>=3.1.4; python_version >= \"3.6\" in c:\\users\\henrique\\anaconda3\\lib\\site-packages (from google-auth<2,>=1.6.3->tensorboard~=2.4->tensorflow) (4.7.2)\n",
      "Requirement already satisfied: certifi>=2017.4.17 in c:\\users\\henrique\\anaconda3\\lib\\site-packages (from requests<3,>=2.21.0->tensorboard~=2.4->tensorflow) (2020.6.20)\n",
      "Requirement already satisfied: urllib3!=1.25.0,!=1.25.1,<1.26,>=1.21.1 in c:\\users\\henrique\\anaconda3\\lib\\site-packages (from requests<3,>=2.21.0->tensorboard~=2.4->tensorflow) (1.25.11)\n",
      "Requirement already satisfied: chardet<4,>=3.0.2 in c:\\users\\henrique\\anaconda3\\lib\\site-packages (from requests<3,>=2.21.0->tensorboard~=2.4->tensorflow) (3.0.4)\n",
      "Requirement already satisfied: idna<3,>=2.5 in c:\\users\\henrique\\anaconda3\\lib\\site-packages (from requests<3,>=2.21.0->tensorboard~=2.4->tensorflow) (2.10)\n",
      "Requirement already satisfied: requests-oauthlib>=0.7.0 in c:\\users\\henrique\\anaconda3\\lib\\site-packages (from google-auth-oauthlib<0.5,>=0.4.1->tensorboard~=2.4->tensorflow) (1.3.0)\n",
      "Requirement already satisfied: pyasn1<0.5.0,>=0.4.6 in c:\\users\\henrique\\anaconda3\\lib\\site-packages (from pyasn1-modules>=0.2.1->google-auth<2,>=1.6.3->tensorboard~=2.4->tensorflow) (0.4.8)\n",
      "Requirement already satisfied: oauthlib>=3.0.0 in c:\\users\\henrique\\anaconda3\\lib\\site-packages (from requests-oauthlib>=0.7.0->google-auth-oauthlib<0.5,>=0.4.1->tensorboard~=2.4->tensorflow) (3.1.0)\n",
      "Collecting scikit-plot\n",
      "  Downloading scikit_plot-0.3.7-py3-none-any.whl (33 kB)\n",
      "Requirement already satisfied: scikit-learn>=0.18 in c:\\users\\henrique\\anaconda3\\lib\\site-packages (from scikit-plot) (0.23.2)\n",
      "Requirement already satisfied: joblib>=0.10 in c:\\users\\henrique\\anaconda3\\lib\\site-packages (from scikit-plot) (0.17.0)\n",
      "Requirement already satisfied: scipy>=0.9 in c:\\users\\henrique\\anaconda3\\lib\\site-packages (from scikit-plot) (1.5.2)\n",
      "Requirement already satisfied: matplotlib>=1.4.0 in c:\\users\\henrique\\anaconda3\\lib\\site-packages (from scikit-plot) (3.3.2)\n",
      "Requirement already satisfied: numpy>=1.13.3 in c:\\users\\henrique\\anaconda3\\lib\\site-packages (from scikit-learn>=0.18->scikit-plot) (1.19.2)\n",
      "Requirement already satisfied: threadpoolctl>=2.0.0 in c:\\users\\henrique\\anaconda3\\lib\\site-packages (from scikit-learn>=0.18->scikit-plot) (2.1.0)\n",
      "Requirement already satisfied: certifi>=2020.06.20 in c:\\users\\henrique\\anaconda3\\lib\\site-packages (from matplotlib>=1.4.0->scikit-plot) (2020.6.20)\n",
      "Requirement already satisfied: python-dateutil>=2.1 in c:\\users\\henrique\\anaconda3\\lib\\site-packages (from matplotlib>=1.4.0->scikit-plot) (2.8.1)\n",
      "Requirement already satisfied: kiwisolver>=1.0.1 in c:\\users\\henrique\\anaconda3\\lib\\site-packages (from matplotlib>=1.4.0->scikit-plot) (1.3.0)\n",
      "Requirement already satisfied: pyparsing!=2.0.4,!=2.1.2,!=2.1.6,>=2.0.3 in c:\\users\\henrique\\anaconda3\\lib\\site-packages (from matplotlib>=1.4.0->scikit-plot) (2.4.7)\n",
      "Requirement already satisfied: cycler>=0.10 in c:\\users\\henrique\\anaconda3\\lib\\site-packages (from matplotlib>=1.4.0->scikit-plot) (0.10.0)\n",
      "Requirement already satisfied: pillow>=6.2.0 in c:\\users\\henrique\\anaconda3\\lib\\site-packages (from matplotlib>=1.4.0->scikit-plot) (8.0.1)\n",
      "Requirement already satisfied: six>=1.5 in c:\\users\\henrique\\anaconda3\\lib\\site-packages (from python-dateutil>=2.1->matplotlib>=1.4.0->scikit-plot) (1.15.0)\n",
      "Installing collected packages: scikit-plot\n",
      "Successfully installed scikit-plot-0.3.7\n"
     ]
    }
   ],
   "source": [
    "!pip install keras\n",
    "!pip install tensorflow\n",
    "!pip install scikit-plot"
   ]
  },
  {
   "cell_type": "code",
   "execution_count": 69,
   "metadata": {
    "ExecuteTime": {
     "end_time": "2021-04-21T23:32:24.334443Z",
     "start_time": "2021-04-21T23:32:18.549397Z"
    }
   },
   "outputs": [],
   "source": [
    "import pandas as pd\n",
    "\n",
    "from sklearn    import metrics         as m\n",
    "from sklearn    import model_selection as ms\n",
    "from sklearn    import preprocessing   as pp\n",
    "from scikitplot import metrics         as mt\n",
    "\n",
    "from keras import models as ml\n",
    "from keras import layers as l"
   ]
  },
  {
   "cell_type": "markdown",
   "metadata": {},
   "source": [
    "### 0.2. Loading Data"
   ]
  },
  {
   "cell_type": "code",
   "execution_count": 47,
   "metadata": {
    "ExecuteTime": {
     "end_time": "2021-04-21T23:20:04.546757Z",
     "start_time": "2021-04-21T23:20:03.757809Z"
    }
   },
   "outputs": [
    {
     "data": {
      "text/plain": [
       "(213451, 16)"
      ]
     },
     "execution_count": 47,
     "metadata": {},
     "output_type": "execute_result"
    }
   ],
   "source": [
    "df_raw = pd.read_csv('dataset/train_users_2.csv', low_memory=True)\n",
    "df_raw.shape"
   ]
  },
  {
   "cell_type": "code",
   "execution_count": 48,
   "metadata": {
    "ExecuteTime": {
     "end_time": "2021-04-21T23:20:04.609612Z",
     "start_time": "2021-04-21T23:20:04.603616Z"
    }
   },
   "outputs": [],
   "source": [
    "#df_sessions = pd.read_csv('dataset/sessions.csv', low_memory=True)\n",
    "#df_sessions.shape"
   ]
  },
  {
   "cell_type": "markdown",
   "metadata": {},
   "source": [
    "# 1.0. Data Description"
   ]
  },
  {
   "cell_type": "code",
   "execution_count": 49,
   "metadata": {
    "ExecuteTime": {
     "end_time": "2021-04-21T23:20:05.849845Z",
     "start_time": "2021-04-21T23:20:05.818865Z"
    }
   },
   "outputs": [],
   "source": [
    "df1 = df_raw.copy()"
   ]
  },
  {
   "cell_type": "code",
   "execution_count": 50,
   "metadata": {
    "ExecuteTime": {
     "end_time": "2021-04-21T23:20:06.288614Z",
     "start_time": "2021-04-21T23:20:06.281618Z"
    }
   },
   "outputs": [
    {
     "name": "stdout",
     "output_type": "stream",
     "text": [
      "Number of rows: 213451\n",
      "Number of columns: 16\n"
     ]
    }
   ],
   "source": [
    "print('Number of rows: {}'.format(df1.shape[0]))\n",
    "print('Number of columns: {}'.format(df1.shape[1]))"
   ]
  },
  {
   "cell_type": "markdown",
   "metadata": {},
   "source": [
    "## 1.1. Data Type"
   ]
  },
  {
   "cell_type": "code",
   "execution_count": 51,
   "metadata": {
    "ExecuteTime": {
     "end_time": "2021-04-21T23:20:07.381799Z",
     "start_time": "2021-04-21T23:20:07.369808Z"
    }
   },
   "outputs": [
    {
     "data": {
      "text/plain": [
       "id                          object\n",
       "date_account_created        object\n",
       "timestamp_first_active       int64\n",
       "date_first_booking          object\n",
       "gender                      object\n",
       "age                        float64\n",
       "signup_method               object\n",
       "signup_flow                  int64\n",
       "language                    object\n",
       "affiliate_channel           object\n",
       "affiliate_provider          object\n",
       "first_affiliate_tracked     object\n",
       "signup_app                  object\n",
       "first_device_type           object\n",
       "first_browser               object\n",
       "country_destination         object\n",
       "dtype: object"
      ]
     },
     "execution_count": 51,
     "metadata": {},
     "output_type": "execute_result"
    }
   ],
   "source": [
    "df1.dtypes"
   ]
  },
  {
   "cell_type": "markdown",
   "metadata": {},
   "source": [
    "## 1.2. NA Check"
   ]
  },
  {
   "cell_type": "code",
   "execution_count": 52,
   "metadata": {
    "ExecuteTime": {
     "end_time": "2021-04-21T23:20:08.550046Z",
     "start_time": "2021-04-21T23:20:08.411442Z"
    }
   },
   "outputs": [
    {
     "data": {
      "text/plain": [
       "id                              0\n",
       "date_account_created            0\n",
       "timestamp_first_active          0\n",
       "date_first_booking         124543\n",
       "gender                          0\n",
       "age                         87990\n",
       "signup_method                   0\n",
       "signup_flow                     0\n",
       "language                        0\n",
       "affiliate_channel               0\n",
       "affiliate_provider              0\n",
       "first_affiliate_tracked      6065\n",
       "signup_app                      0\n",
       "first_device_type               0\n",
       "first_browser                   0\n",
       "country_destination             0\n",
       "dtype: int64"
      ]
     },
     "execution_count": 52,
     "metadata": {},
     "output_type": "execute_result"
    }
   ],
   "source": [
    "df1.isna().sum()"
   ]
  },
  {
   "cell_type": "code",
   "execution_count": 53,
   "metadata": {
    "ExecuteTime": {
     "end_time": "2021-04-21T23:20:09.147439Z",
     "start_time": "2021-04-21T23:20:08.968156Z"
    }
   },
   "outputs": [
    {
     "data": {
      "text/plain": [
       "(68171, 16)"
      ]
     },
     "execution_count": 53,
     "metadata": {},
     "output_type": "execute_result"
    }
   ],
   "source": [
    "#remove missing data\n",
    "df1 = df1.dropna()\n",
    "df1.shape"
   ]
  },
  {
   "cell_type": "markdown",
   "metadata": {
    "ExecuteTime": {
     "end_time": "2021-04-21T20:26:36.247449Z",
     "start_time": "2021-04-21T20:26:36.244451Z"
    }
   },
   "source": [
    "## 1.3. Change Data Type"
   ]
  },
  {
   "cell_type": "code",
   "execution_count": 54,
   "metadata": {
    "ExecuteTime": {
     "end_time": "2021-04-21T23:20:11.294010Z",
     "start_time": "2021-04-21T23:20:10.164769Z"
    }
   },
   "outputs": [],
   "source": [
    "#date_account_created\n",
    "df1['date_account_created'] = pd.to_datetime(df1['date_account_created'])\n",
    "\n",
    "#timestamp_first_active\n",
    "df1['timestamp_first_active'] = pd.to_datetime(df1['timestamp_first_active'], format='%Y%m%d%H%M%S')\n",
    "\n",
    "#date_first_booking\n",
    "df1['date_first_booking'] = pd.to_datetime(df1['date_first_booking'])\n",
    "\n",
    "#age\n",
    "df1['age'] = df1['age'].astype(int)"
   ]
  },
  {
   "cell_type": "markdown",
   "metadata": {},
   "source": [
    "## 1.4. Change Balanced Data"
   ]
  },
  {
   "cell_type": "code",
   "execution_count": 55,
   "metadata": {
    "ExecuteTime": {
     "end_time": "2021-04-21T23:20:12.240804Z",
     "start_time": "2021-04-21T23:20:12.224814Z"
    }
   },
   "outputs": [
    {
     "data": {
      "text/plain": [
       "US       0.708864\n",
       "other    0.110854\n",
       "FR       0.054085\n",
       "IT       0.029763\n",
       "GB       0.025935\n",
       "ES       0.024864\n",
       "CA       0.015696\n",
       "DE       0.012454\n",
       "NL       0.008801\n",
       "AU       0.006366\n",
       "PT       0.002318\n",
       "Name: country_destination, dtype: float64"
      ]
     },
     "execution_count": 55,
     "metadata": {},
     "output_type": "execute_result"
    }
   ],
   "source": [
    "df1['country_destination'].value_counts(normalize=True)"
   ]
  },
  {
   "cell_type": "markdown",
   "metadata": {},
   "source": [
    "# 2.0. "
   ]
  },
  {
   "cell_type": "code",
   "execution_count": 56,
   "metadata": {
    "ExecuteTime": {
     "end_time": "2021-04-21T23:20:13.540396Z",
     "start_time": "2021-04-21T23:20:13.525404Z"
    }
   },
   "outputs": [],
   "source": [
    "df2 = df1.copy()"
   ]
  },
  {
   "cell_type": "markdown",
   "metadata": {},
   "source": [
    "## 2.1. Filtering Rows"
   ]
  },
  {
   "cell_type": "markdown",
   "metadata": {},
   "source": [
    "## 2.2. Columns Selection"
   ]
  },
  {
   "cell_type": "markdown",
   "metadata": {},
   "source": [
    "# 3.0. Data Preparation"
   ]
  },
  {
   "cell_type": "code",
   "execution_count": 57,
   "metadata": {
    "ExecuteTime": {
     "end_time": "2021-04-21T23:20:15.135714Z",
     "start_time": "2021-04-21T23:20:15.115728Z"
    }
   },
   "outputs": [],
   "source": [
    "df3 = df2.copy()"
   ]
  },
  {
   "cell_type": "code",
   "execution_count": 58,
   "metadata": {
    "ExecuteTime": {
     "end_time": "2021-04-21T23:20:17.414236Z",
     "start_time": "2021-04-21T23:20:17.215700Z"
    }
   },
   "outputs": [],
   "source": [
    "#dummy variable\n",
    "df3_dummy = pd.get_dummies(df3.drop(['id','country_destination'], axis=1))\n",
    "\n",
    "#join id and country destination\n",
    "df3 = pd.concat([df3[['id','country_destination']], df3_dummy], axis=1)"
   ]
  },
  {
   "cell_type": "markdown",
   "metadata": {},
   "source": [
    "# 4.0. Feature Seleciotn"
   ]
  },
  {
   "cell_type": "code",
   "execution_count": 59,
   "metadata": {
    "ExecuteTime": {
     "end_time": "2021-04-21T23:20:18.732753Z",
     "start_time": "2021-04-21T23:20:18.710764Z"
    }
   },
   "outputs": [],
   "source": [
    "cols_drop = ['date_account_created', 'timestamp_first_active', 'date_first_booking']\n",
    "df4 = df3.drop(cols_drop, axis=1)"
   ]
  },
  {
   "cell_type": "markdown",
   "metadata": {},
   "source": [
    "# 5.0. Machine Learning"
   ]
  },
  {
   "cell_type": "code",
   "execution_count": 60,
   "metadata": {
    "ExecuteTime": {
     "end_time": "2021-04-21T23:20:21.791961Z",
     "start_time": "2021-04-21T23:20:21.764688Z"
    }
   },
   "outputs": [],
   "source": [
    "X = df4.drop(['id', 'country_destination'], axis=1)\n",
    "y = df4['country_destination'].copy()"
   ]
  },
  {
   "cell_type": "code",
   "execution_count": 61,
   "metadata": {
    "ExecuteTime": {
     "end_time": "2021-04-21T23:20:22.637385Z",
     "start_time": "2021-04-21T23:20:22.554686Z"
    }
   },
   "outputs": [],
   "source": [
    "#split dataset into train and test\n",
    "X_train, X_test, y_train, y_test = ms.train_test_split(X, y, test_size=0.2, random_state=32)"
   ]
  },
  {
   "cell_type": "code",
   "execution_count": 62,
   "metadata": {
    "ExecuteTime": {
     "end_time": "2021-04-21T23:20:23.572643Z",
     "start_time": "2021-04-21T23:20:23.408702Z"
    }
   },
   "outputs": [],
   "source": [
    "ohe = pp.OneHotEncoder()\n",
    "y_train_nn = ohe.fit_transform(y_train.values.reshape(-1, 1)).toarray()"
   ]
  },
  {
   "cell_type": "code",
   "execution_count": 64,
   "metadata": {
    "ExecuteTime": {
     "end_time": "2021-04-21T23:24:26.821408Z",
     "start_time": "2021-04-21T23:21:09.169161Z"
    }
   },
   "outputs": [
    {
     "name": "stdout",
     "output_type": "stream",
     "text": [
      "Epoch 1/100\n",
      "1705/1705 [==============================] - 5s 1ms/step - loss: 1.3882 - accuracy: 0.6928\n",
      "Epoch 2/100\n",
      "1705/1705 [==============================] - 2s 1ms/step - loss: 1.2738 - accuracy: 0.7054\n",
      "Epoch 3/100\n",
      "1705/1705 [==============================] - 2s 1ms/step - loss: 1.2317 - accuracy: 0.7112\n",
      "Epoch 4/100\n",
      "1705/1705 [==============================] - 2s 1ms/step - loss: 1.2080 - accuracy: 0.7099\n",
      "Epoch 5/100\n",
      "1705/1705 [==============================] - 2s 1ms/step - loss: 1.1943 - accuracy: 0.7090\n",
      "Epoch 6/100\n",
      "1705/1705 [==============================] - 2s 1ms/step - loss: 1.1828 - accuracy: 0.7082\n",
      "Epoch 7/100\n",
      "1705/1705 [==============================] - 2s 1ms/step - loss: 1.1601 - accuracy: 0.7101\n",
      "Epoch 8/100\n",
      "1705/1705 [==============================] - 2s 1ms/step - loss: 1.1524 - accuracy: 0.7080\n",
      "Epoch 9/100\n",
      "1705/1705 [==============================] - 2s 1ms/step - loss: 1.1492 - accuracy: 0.7073\n",
      "Epoch 10/100\n",
      "1705/1705 [==============================] - 2s 1ms/step - loss: 1.1442 - accuracy: 0.7079\n",
      "Epoch 11/100\n",
      "1705/1705 [==============================] - 2s 1ms/step - loss: 1.1461 - accuracy: 0.7047\n",
      "Epoch 12/100\n",
      "1705/1705 [==============================] - 2s 1ms/step - loss: 1.1397 - accuracy: 0.7082\n",
      "Epoch 13/100\n",
      "1705/1705 [==============================] - 2s 1ms/step - loss: 1.1373 - accuracy: 0.7077\n",
      "Epoch 14/100\n",
      "1705/1705 [==============================] - 2s 1ms/step - loss: 1.1203 - accuracy: 0.7120\n",
      "Epoch 15/100\n",
      "1705/1705 [==============================] - 2s 1ms/step - loss: 1.1320 - accuracy: 0.7075\n",
      "Epoch 16/100\n",
      "1705/1705 [==============================] - 2s 1ms/step - loss: 1.1252 - accuracy: 0.7100\n",
      "Epoch 17/100\n",
      "1705/1705 [==============================] - 2s 1ms/step - loss: 1.1248 - accuracy: 0.7098\n",
      "Epoch 18/100\n",
      "1705/1705 [==============================] - 2s 1ms/step - loss: 1.1298 - accuracy: 0.7087\n",
      "Epoch 19/100\n",
      "1705/1705 [==============================] - 2s 1ms/step - loss: 1.1235 - accuracy: 0.7097\n",
      "Epoch 20/100\n",
      "1705/1705 [==============================] - 2s 1ms/step - loss: 1.1184 - accuracy: 0.7102\n",
      "Epoch 21/100\n",
      "1705/1705 [==============================] - 2s 1ms/step - loss: 1.1200 - accuracy: 0.7103\n",
      "Epoch 22/100\n",
      "1705/1705 [==============================] - 2s 1ms/step - loss: 1.1166 - accuracy: 0.7119\n",
      "Epoch 23/100\n",
      "1705/1705 [==============================] - 2s 1ms/step - loss: 1.1182 - accuracy: 0.7108\n",
      "Epoch 24/100\n",
      "1705/1705 [==============================] - 2s 1ms/step - loss: 1.1184 - accuracy: 0.7108\n",
      "Epoch 25/100\n",
      "1705/1705 [==============================] - 2s 1ms/step - loss: 1.1152 - accuracy: 0.7108\n",
      "Epoch 26/100\n",
      "1705/1705 [==============================] - 2s 1ms/step - loss: 1.1266 - accuracy: 0.7075\n",
      "Epoch 27/100\n",
      "1705/1705 [==============================] - 2s 1ms/step - loss: 1.1187 - accuracy: 0.7091\n",
      "Epoch 28/100\n",
      "1705/1705 [==============================] - 2s 1ms/step - loss: 1.1236 - accuracy: 0.7084\n",
      "Epoch 29/100\n",
      "1705/1705 [==============================] - 2s 1ms/step - loss: 1.1164 - accuracy: 0.7106\n",
      "Epoch 30/100\n",
      "1705/1705 [==============================] - 2s 1ms/step - loss: 1.1222 - accuracy: 0.7076\n",
      "Epoch 31/100\n",
      "1705/1705 [==============================] - 2s 1ms/step - loss: 1.1249 - accuracy: 0.7067\n",
      "Epoch 32/100\n",
      "1705/1705 [==============================] - 2s 1ms/step - loss: 1.1121 - accuracy: 0.7107\n",
      "Epoch 33/100\n",
      "1705/1705 [==============================] - 2s 1ms/step - loss: 1.1187 - accuracy: 0.7071\n",
      "Epoch 34/100\n",
      "1705/1705 [==============================] - 2s 1ms/step - loss: 1.1066 - accuracy: 0.7142\n",
      "Epoch 35/100\n",
      "1705/1705 [==============================] - 2s 1ms/step - loss: 1.1102 - accuracy: 0.7109\n",
      "Epoch 36/100\n",
      "1705/1705 [==============================] - 2s 1ms/step - loss: 1.1052 - accuracy: 0.7124\n",
      "Epoch 37/100\n",
      "1705/1705 [==============================] - 2s 1ms/step - loss: 1.1087 - accuracy: 0.7108\n",
      "Epoch 38/100\n",
      "1705/1705 [==============================] - 2s 1ms/step - loss: 1.1106 - accuracy: 0.7095\n",
      "Epoch 39/100\n",
      "1705/1705 [==============================] - 2s 1ms/step - loss: 1.1048 - accuracy: 0.7119\n",
      "Epoch 40/100\n",
      "1705/1705 [==============================] - 2s 1ms/step - loss: 1.1161 - accuracy: 0.7098\n",
      "Epoch 41/100\n",
      "1705/1705 [==============================] - 2s 1ms/step - loss: 1.1116 - accuracy: 0.7103\n",
      "Epoch 42/100\n",
      "1705/1705 [==============================] - 2s 1ms/step - loss: 1.1072 - accuracy: 0.7117\n",
      "Epoch 43/100\n",
      "1705/1705 [==============================] - 2s 1ms/step - loss: 1.1087 - accuracy: 0.7096\n",
      "Epoch 44/100\n",
      "1705/1705 [==============================] - 2s 1ms/step - loss: 1.1112 - accuracy: 0.7107\n",
      "Epoch 45/100\n",
      "1705/1705 [==============================] - 2s 1ms/step - loss: 1.1007 - accuracy: 0.7127\n",
      "Epoch 46/100\n",
      "1705/1705 [==============================] - 2s 1ms/step - loss: 1.1095 - accuracy: 0.7107\n",
      "Epoch 47/100\n",
      "1705/1705 [==============================] - 2s 1ms/step - loss: 1.1053 - accuracy: 0.7103\n",
      "Epoch 48/100\n",
      "1705/1705 [==============================] - 2s 1ms/step - loss: 1.1065 - accuracy: 0.7113\n",
      "Epoch 49/100\n",
      "1705/1705 [==============================] - 2s 1ms/step - loss: 1.1040 - accuracy: 0.7118\n",
      "Epoch 50/100\n",
      "1705/1705 [==============================] - 2s 1ms/step - loss: 1.1027 - accuracy: 0.7120\n",
      "Epoch 51/100\n",
      "1705/1705 [==============================] - 2s 1ms/step - loss: 1.1002 - accuracy: 0.7130\n",
      "Epoch 52/100\n",
      "1705/1705 [==============================] - 2s 1ms/step - loss: 1.1025 - accuracy: 0.7112\n",
      "Epoch 53/100\n",
      "1705/1705 [==============================] - 2s 1ms/step - loss: 1.1110 - accuracy: 0.7104\n",
      "Epoch 54/100\n",
      "1705/1705 [==============================] - 2s 1ms/step - loss: 1.0928 - accuracy: 0.7153\n",
      "Epoch 55/100\n",
      "1705/1705 [==============================] - 2s 1ms/step - loss: 1.1067 - accuracy: 0.7096\n",
      "Epoch 56/100\n",
      "1705/1705 [==============================] - 2s 1ms/step - loss: 1.1004 - accuracy: 0.7130\n",
      "Epoch 57/100\n",
      "1705/1705 [==============================] - 2s 1ms/step - loss: 1.1055 - accuracy: 0.7104\n",
      "Epoch 58/100\n",
      "1705/1705 [==============================] - 2s 1ms/step - loss: 1.1016 - accuracy: 0.7113\n",
      "Epoch 59/100\n",
      "1705/1705 [==============================] - 2s 1ms/step - loss: 1.1003 - accuracy: 0.7124\n",
      "Epoch 60/100\n",
      "1705/1705 [==============================] - 2s 1ms/step - loss: 1.1071 - accuracy: 0.7110\n",
      "Epoch 61/100\n",
      "1705/1705 [==============================] - 2s 1ms/step - loss: 1.1139 - accuracy: 0.7070\n",
      "Epoch 62/100\n",
      "1705/1705 [==============================] - 2s 1ms/step - loss: 1.0979 - accuracy: 0.7127\n",
      "Epoch 63/100\n",
      "1705/1705 [==============================] - 2s 1ms/step - loss: 1.0950 - accuracy: 0.7144\n",
      "Epoch 64/100\n",
      "1705/1705 [==============================] - 2s 1ms/step - loss: 1.1091 - accuracy: 0.7091\n",
      "Epoch 65/100\n",
      "1705/1705 [==============================] - 2s 1ms/step - loss: 1.0996 - accuracy: 0.7116\n",
      "Epoch 66/100\n",
      "1705/1705 [==============================] - 2s 1ms/step - loss: 1.1045 - accuracy: 0.7101\n",
      "Epoch 67/100\n",
      "1705/1705 [==============================] - 2s 1ms/step - loss: 1.1039 - accuracy: 0.7099\n",
      "Epoch 68/100\n",
      "1705/1705 [==============================] - 2s 1ms/step - loss: 1.0999 - accuracy: 0.7098\n",
      "Epoch 69/100\n",
      "1705/1705 [==============================] - ETA: 0s - loss: 1.1069 - accuracy: 0.70 - 2s 1ms/step - loss: 1.1069 - accuracy: 0.7094\n",
      "Epoch 70/100\n",
      "1705/1705 [==============================] - 2s 1ms/step - loss: 1.1072 - accuracy: 0.7083\n",
      "Epoch 71/100\n",
      "1705/1705 [==============================] - 2s 1ms/step - loss: 1.1007 - accuracy: 0.7112\n",
      "Epoch 72/100\n",
      "1705/1705 [==============================] - 2s 1ms/step - loss: 1.0932 - accuracy: 0.7125\n",
      "Epoch 73/100\n",
      "1705/1705 [==============================] - 2s 1ms/step - loss: 1.1064 - accuracy: 0.7090\n",
      "Epoch 74/100\n",
      "1705/1705 [==============================] - 2s 1ms/step - loss: 1.0952 - accuracy: 0.7119\n",
      "Epoch 75/100\n",
      "1705/1705 [==============================] - 2s 1ms/step - loss: 1.0947 - accuracy: 0.7148\n",
      "Epoch 76/100\n",
      "1705/1705 [==============================] - 2s 1ms/step - loss: 1.1052 - accuracy: 0.7086\n",
      "Epoch 77/100\n",
      "1705/1705 [==============================] - 2s 1ms/step - loss: 1.0897 - accuracy: 0.7153\n",
      "Epoch 78/100\n",
      "1705/1705 [==============================] - 2s 1ms/step - loss: 1.0905 - accuracy: 0.7158\n",
      "Epoch 79/100\n"
     ]
    },
    {
     "name": "stdout",
     "output_type": "stream",
     "text": [
      "1705/1705 [==============================] - 2s 1ms/step - loss: 1.1012 - accuracy: 0.7099\n",
      "Epoch 80/100\n",
      "1705/1705 [==============================] - 2s 1ms/step - loss: 1.1073 - accuracy: 0.7090\n",
      "Epoch 81/100\n",
      "1705/1705 [==============================] - 2s 1ms/step - loss: 1.1033 - accuracy: 0.7095\n",
      "Epoch 82/100\n",
      "1705/1705 [==============================] - 2s 1ms/step - loss: 1.0993 - accuracy: 0.7112\n",
      "Epoch 83/100\n",
      "1705/1705 [==============================] - 2s 1ms/step - loss: 1.0876 - accuracy: 0.7161\n",
      "Epoch 84/100\n",
      "1705/1705 [==============================] - 2s 1ms/step - loss: 1.1006 - accuracy: 0.7106\n",
      "Epoch 85/100\n",
      "1705/1705 [==============================] - 2s 1ms/step - loss: 1.0912 - accuracy: 0.7146\n",
      "Epoch 86/100\n",
      "1705/1705 [==============================] - 2s 1ms/step - loss: 1.1004 - accuracy: 0.7107\n",
      "Epoch 87/100\n",
      "1705/1705 [==============================] - 2s 1ms/step - loss: 1.0954 - accuracy: 0.7118\n",
      "Epoch 88/100\n",
      "1705/1705 [==============================] - 2s 1ms/step - loss: 1.0939 - accuracy: 0.7135\n",
      "Epoch 89/100\n",
      "1705/1705 [==============================] - 2s 1ms/step - loss: 1.0852 - accuracy: 0.7159\n",
      "Epoch 90/100\n",
      "1705/1705 [==============================] - 2s 1ms/step - loss: 1.1013 - accuracy: 0.7111\n",
      "Epoch 91/100\n",
      "1705/1705 [==============================] - 2s 1ms/step - loss: 1.0944 - accuracy: 0.7120\n",
      "Epoch 92/100\n",
      "1705/1705 [==============================] - 2s 1ms/step - loss: 1.1022 - accuracy: 0.7095\n",
      "Epoch 93/100\n",
      "1705/1705 [==============================] - 2s 1ms/step - loss: 1.0979 - accuracy: 0.7111\n",
      "Epoch 94/100\n",
      "1705/1705 [==============================] - 2s 1ms/step - loss: 1.0922 - accuracy: 0.7140\n",
      "Epoch 95/100\n",
      "1705/1705 [==============================] - 2s 1ms/step - loss: 1.0943 - accuracy: 0.7122\n",
      "Epoch 96/100\n",
      "1705/1705 [==============================] - 2s 1ms/step - loss: 1.0970 - accuracy: 0.7118\n",
      "Epoch 97/100\n",
      "1705/1705 [==============================] - 2s 1ms/step - loss: 1.0892 - accuracy: 0.7152\n",
      "Epoch 98/100\n",
      "1705/1705 [==============================] - 2s 1ms/step - loss: 1.1003 - accuracy: 0.7111\n",
      "Epoch 99/100\n",
      "1705/1705 [==============================] - 2s 1ms/step - loss: 1.1010 - accuracy: 0.7102\n",
      "Epoch 100/100\n",
      "1705/1705 [==============================] - 2s 1ms/step - loss: 1.1041 - accuracy: 0.7087\n"
     ]
    },
    {
     "data": {
      "text/plain": [
       "<tensorflow.python.keras.callbacks.History at 0x1b1340b6a00>"
      ]
     },
     "execution_count": 64,
     "metadata": {},
     "output_type": "execute_result"
    }
   ],
   "source": [
    "#model definition\n",
    "model = ml.Sequential()\n",
    "model.add(l.Dense(128, input_dim=X_train.shape[1], activation='relu'))\n",
    "model.add(l.Dense(11, activation='softmax'))\n",
    "\n",
    "#model compile\n",
    "model.compile(loss='categorical_crossentropy', optimizer='adam', metrics=['accuracy'])\n",
    "\n",
    "model.fit(X_train, y_train_nn, epochs=100)"
   ]
  },
  {
   "cell_type": "markdown",
   "metadata": {},
   "source": [
    "# 5.0. NN Performance"
   ]
  },
  {
   "cell_type": "code",
   "execution_count": 70,
   "metadata": {
    "ExecuteTime": {
     "end_time": "2021-04-21T23:40:29.171144Z",
     "start_time": "2021-04-21T23:40:28.171018Z"
    }
   },
   "outputs": [],
   "source": [
    "#prediction\n",
    "pred_nn = model.predict(X_test)\n",
    "\n",
    "#invert prediction\n",
    "yhat_nn = ohe.inverse_transform(pred_nn)\n",
    "\n",
    "#prediction prepare\n",
    "y_test_nn = y_test.to_numpy()\n",
    "yhat_nn = yhat_nn.reshape(1, -1)[0]"
   ]
  },
  {
   "cell_type": "code",
   "execution_count": 71,
   "metadata": {
    "ExecuteTime": {
     "end_time": "2021-04-21T23:40:34.112389Z",
     "start_time": "2021-04-21T23:40:30.880976Z"
    }
   },
   "outputs": [
    {
     "name": "stdout",
     "output_type": "stream",
     "text": [
      "Accuracy: 0.7037037037037037\n"
     ]
    },
    {
     "data": {
      "text/plain": [
       "<AxesSubplot:title={'center':'Confusion Matrix'}, xlabel='Predicted label', ylabel='True label'>"
      ]
     },
     "execution_count": 71,
     "metadata": {},
     "output_type": "execute_result"
    },
    {
     "data": {
      "image/png": "[encoded data removed]",
      "text/plain": [
       "<Figure size 864x864 with 2 Axes>"
      ]
     },
     "metadata": {
      "needs_background": "light"
     },
     "output_type": "display_data"
    }
   ],
   "source": [
    "#accuracy\n",
    "acc_nn = m.accuracy_score(y_test_nn, yhat_nn)\n",
    "print('Accuracy: {}'.format(acc_nn))\n",
    "\n",
    "#confusion matrix\n",
    "mt.plot_confusion_matrix(y_test_nn, yhat_nn, normalize=False, figsize=(12,12))"
   ]
  },
  {
   "cell_type": "code",
   "execution_count": null,
   "metadata": {},
   "outputs": [],
   "source": []
  }
 ],
 "metadata": {
  "kernelspec": {
   "display_name": "Python 3",
   "language": "python",
   "name": "python3"
  },
  "language_info": {
   "codemirror_mode": {
    "name": "ipython",
    "version": 3
   },
   "file_extension": ".py",
   "mimetype": "text/x-python",
   "name": "python",
   "nbconvert_exporter": "python",
   "pygments_lexer": "ipython3",
   "version": "3.8.5"
  }
 },
 "nbformat": 4,
 "nbformat_minor": 4
}
