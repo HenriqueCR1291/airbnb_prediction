{
 "cells": [
  {
   "cell_type": "markdown",
   "metadata": {
    "ExecuteTime": {
     "end_time": "2021-04-21T19:35:21.931278Z",
     "start_time": "2021-04-21T19:35:21.926280Z"
    }
   },
   "source": [
    "# 0.0. Understanding the problem"
   ]
  },
  {
   "cell_type": "markdown",
   "metadata": {},
   "source": [
    "--Goal:\n",
    "    \n",
    "    --1.0 Predict the first destination that the new user will choose\n",
    "    \n",
    "    --Why?\n",
    "        --What is the business model of Airbnb?\n",
    "            --Marketplace (connect people who offer acomodation to whom are seeking a place)\n",
    "            --Offer\n",
    "                --Portfolio size\n",
    "                --Portfolio diversity and density\n",
    "                --Average price\n",
    "                \n",
    "            --Demand\n",
    "                --Number of users\n",
    "                --LTV (lifetime value)\n",
    "                --CAC (client acquisition cost)\n",
    "                \n",
    "                Gross Revenue = (Fee*Number of clients) - CAC\n",
    "                \n",
    "--Solution:\n",
    "    \n",
    "    --Predictive model for the first destination of new user\n",
    "    --1.0 Prediction save in a database\n",
    "    --2.0 API\n",
    "        --Input: User and features\n",
    "        --Output: User and feature with destination prediction\n",
    "        "
   ]
  },
  {
   "cell_type": "markdown",
   "metadata": {},
   "source": [
    "# Module 1"
   ]
  },
  {
   "cell_type": "markdown",
   "metadata": {},
   "source": [
    "## 0.0. Imports"
   ]
  },
  {
   "cell_type": "code",
   "execution_count": 1,
   "metadata": {
    "ExecuteTime": {
     "end_time": "2021-05-10T21:32:40.630239Z",
     "start_time": "2021-05-10T21:30:54.913866Z"
    }
   },
   "outputs": [],
   "source": [
    "#!pip install keras\n",
    "#!pip install tensorflow\n",
    "#!pip install scikit-plot\n",
    "#!pip install imblearn\n",
    "#!pip install delayed\n",
    "#!pip install pandas-profiling\n",
    "#!pip install matplotlib\n",
    "\n",
    "import random\n",
    "import pickle\n",
    "\n",
    "import numpy   as np\n",
    "import pandas  as pd\n",
    "import seaborn as sns\n",
    "\n",
    "from sklearn    import model_selection as ms\n",
    "from sklearn    import preprocessing   as pp\n",
    "from sklearn    import metrics         as m\n",
    "from scikitplot import metrics         as mt\n",
    "from scipy      import stats           as ss\n",
    "from imblearn   import under_sampling  as us\n",
    "from imblearn   import over_sampling   as oversamp\n",
    "from imblearn   import combine         as c\n",
    "from keras      import models          as ml\n",
    "from keras      import layers          as l\n",
    "from matplotlib import pyplot          as plt\n",
    "\n",
    "from pandas_profiling import ProfileReport"
   ]
  },
  {
   "cell_type": "markdown",
   "metadata": {},
   "source": [
    "### 0.1. Helper Functions"
   ]
  },
  {
   "cell_type": "code",
   "execution_count": 2,
   "metadata": {
    "ExecuteTime": {
     "end_time": "2021-05-10T21:32:40.645771Z",
     "start_time": "2021-05-10T21:32:40.630239Z"
    }
   },
   "outputs": [],
   "source": [
    "def cramer_v( x, y ):\n",
    "    cm = pd.crosstab( x, y ).values\n",
    "    n = cm.sum()\n",
    "    r, k = cm.shape\n",
    "    \n",
    "    chi2 = ss.chi2_contingency( cm )[0]\n",
    "    chi2corr = max( 0, chi2 - (k-1)*(r-1)/(n-1) )\n",
    "    \n",
    "    kcorr = k - (k-1)**2/(n-1)\n",
    "    rcorr = r - (r-1)**2/(n-1)\n",
    "    \n",
    "    return np.sqrt( (chi2corr/n) / ( min( kcorr-1, rcorr-1 ) ) )"
   ]
  },
  {
   "cell_type": "markdown",
   "metadata": {},
   "source": [
    "### 0.2. Loading Data"
   ]
  },
  {
   "cell_type": "code",
   "execution_count": 3,
   "metadata": {
    "ExecuteTime": {
     "end_time": "2021-05-10T21:32:42.032265Z",
     "start_time": "2021-05-10T21:32:40.648769Z"
    }
   },
   "outputs": [
    {
     "data": {
      "text/plain": [
       "(213451, 16)"
      ]
     },
     "execution_count": 3,
     "metadata": {},
     "output_type": "execute_result"
    }
   ],
   "source": [
    "df_raw = pd.read_csv('dataset/train_users_2.csv', low_memory=True)\n",
    "df_raw.shape"
   ]
  },
  {
   "cell_type": "code",
   "execution_count": 4,
   "metadata": {
    "ExecuteTime": {
     "end_time": "2021-05-10T21:32:57.230020Z",
     "start_time": "2021-05-10T21:32:42.035262Z"
    }
   },
   "outputs": [
    {
     "data": {
      "text/plain": [
       "(10567737, 6)"
      ]
     },
     "execution_count": 4,
     "metadata": {},
     "output_type": "execute_result"
    }
   ],
   "source": [
    "df_sessions = pd.read_csv('dataset/sessions.csv', low_memory=True)\n",
    "df_sessions.shape"
   ]
  },
  {
   "cell_type": "markdown",
   "metadata": {},
   "source": [
    "# 1.0. Data Description"
   ]
  },
  {
   "cell_type": "code",
   "execution_count": 5,
   "metadata": {
    "ExecuteTime": {
     "end_time": "2021-05-10T21:32:57.262000Z",
     "start_time": "2021-05-10T21:32:57.232019Z"
    }
   },
   "outputs": [],
   "source": [
    "df1 = df_raw.copy()"
   ]
  },
  {
   "cell_type": "markdown",
   "metadata": {},
   "source": [
    "## 1.1. Data Dimensions"
   ]
  },
  {
   "cell_type": "code",
   "execution_count": 6,
   "metadata": {
    "ExecuteTime": {
     "end_time": "2021-05-10T21:32:57.653368Z",
     "start_time": "2021-05-10T21:32:57.264001Z"
    }
   },
   "outputs": [
    {
     "name": "stdout",
     "output_type": "stream",
     "text": [
      "Number of rows: 213451\n",
      "Number of columns: 16\n"
     ]
    }
   ],
   "source": [
    "print('Number of rows: {}'.format(df1.shape[0]))\n",
    "print('Number of columns: {}'.format(df1.shape[1]))"
   ]
  },
  {
   "cell_type": "code",
   "execution_count": 7,
   "metadata": {
    "ExecuteTime": {
     "end_time": "2021-05-10T21:32:57.902787Z",
     "start_time": "2021-05-10T21:32:57.655363Z"
    }
   },
   "outputs": [
    {
     "name": "stdout",
     "output_type": "stream",
     "text": [
      "Number of rows: 10567737\n",
      "Number of columns: 6\n"
     ]
    }
   ],
   "source": [
    "print('Number of rows: {}'.format(df_sessions.shape[0]))\n",
    "print('Number of columns: {}'.format(df_sessions.shape[1]))"
   ]
  },
  {
   "cell_type": "markdown",
   "metadata": {},
   "source": [
    "## 1.2. Data Type"
   ]
  },
  {
   "cell_type": "code",
   "execution_count": 8,
   "metadata": {
    "ExecuteTime": {
     "end_time": "2021-05-10T21:32:58.786705Z",
     "start_time": "2021-05-10T21:32:57.908787Z"
    }
   },
   "outputs": [
    {
     "data": {
      "text/plain": [
       "id                          object\n",
       "date_account_created        object\n",
       "timestamp_first_active       int64\n",
       "date_first_booking          object\n",
       "gender                      object\n",
       "age                        float64\n",
       "signup_method               object\n",
       "signup_flow                  int64\n",
       "language                    object\n",
       "affiliate_channel           object\n",
       "affiliate_provider          object\n",
       "first_affiliate_tracked     object\n",
       "signup_app                  object\n",
       "first_device_type           object\n",
       "first_browser               object\n",
       "country_destination         object\n",
       "dtype: object"
      ]
     },
     "execution_count": 8,
     "metadata": {},
     "output_type": "execute_result"
    }
   ],
   "source": [
    "df1.dtypes"
   ]
  },
  {
   "cell_type": "code",
   "execution_count": 9,
   "metadata": {
    "ExecuteTime": {
     "end_time": "2021-05-10T21:32:58.802692Z",
     "start_time": "2021-05-10T21:32:58.789701Z"
    }
   },
   "outputs": [
    {
     "data": {
      "text/plain": [
       "user_id           object\n",
       "action            object\n",
       "action_type       object\n",
       "action_detail     object\n",
       "device_type       object\n",
       "secs_elapsed     float64\n",
       "dtype: object"
      ]
     },
     "execution_count": 9,
     "metadata": {},
     "output_type": "execute_result"
    }
   ],
   "source": [
    "df_sessions.dtypes"
   ]
  },
  {
   "cell_type": "markdown",
   "metadata": {},
   "source": [
    "## 1.3. NA Check"
   ]
  },
  {
   "cell_type": "code",
   "execution_count": 10,
   "metadata": {
    "ExecuteTime": {
     "end_time": "2021-05-10T21:32:59.687615Z",
     "start_time": "2021-05-10T21:32:58.804690Z"
    }
   },
   "outputs": [
    {
     "data": {
      "text/plain": [
       "id                         0.000000\n",
       "date_account_created       0.000000\n",
       "timestamp_first_active     0.000000\n",
       "date_first_booking         0.583473\n",
       "gender                     0.000000\n",
       "age                        0.412226\n",
       "signup_method              0.000000\n",
       "signup_flow                0.000000\n",
       "language                   0.000000\n",
       "affiliate_channel          0.000000\n",
       "affiliate_provider         0.000000\n",
       "first_affiliate_tracked    0.028414\n",
       "signup_app                 0.000000\n",
       "first_device_type          0.000000\n",
       "first_browser              0.000000\n",
       "country_destination        0.000000\n",
       "dtype: float64"
      ]
     },
     "execution_count": 10,
     "metadata": {},
     "output_type": "execute_result"
    }
   ],
   "source": [
    "df1.isna().sum()/len(df1)"
   ]
  },
  {
   "cell_type": "code",
   "execution_count": 11,
   "metadata": {
    "ExecuteTime": {
     "end_time": "2021-05-10T21:33:02.058742Z",
     "start_time": "2021-05-10T21:32:59.689612Z"
    }
   },
   "outputs": [
    {
     "data": {
      "text/plain": [
       "user_id          0.003264\n",
       "action           0.007535\n",
       "action_type      0.106570\n",
       "action_detail    0.106570\n",
       "device_type      0.000000\n",
       "secs_elapsed     0.012872\n",
       "dtype: float64"
      ]
     },
     "execution_count": 11,
     "metadata": {},
     "output_type": "execute_result"
    }
   ],
   "source": [
    "df_sessions.isna().sum()/len(df_sessions)"
   ]
  },
  {
   "cell_type": "code",
   "execution_count": 12,
   "metadata": {
    "ExecuteTime": {
     "end_time": "2021-05-10T21:33:10.155503Z",
     "start_time": "2021-05-10T21:33:02.060739Z"
    }
   },
   "outputs": [],
   "source": [
    "#date_first_booking\n",
    "date_first_booking_max = pd.to_datetime(df1['date_first_booking']).max().strftime('%Y-%m-%d')\n",
    "df1['date_first_booking'] = df1['date_first_booking'].fillna(date_first_booking_max)\n",
    "\n",
    "\n",
    "# ========== User =================\n",
    "# age\n",
    "df1 = df1[( df1['age'] > 15 ) & ( df1['age'] < 120 )]\n",
    "avg_age = df1['age'].mean()\n",
    "df1['age'] = df1['age'].fillna( avg_age )\n",
    "\n",
    "#first_affiliate_tracked\n",
    "df1 = df1[~df1['first_affiliate_tracked'].isna()]\n",
    "\n",
    "\n",
    "# ========== Sessions =================\n",
    "#user_id\n",
    "df_sessions = df_sessions[~df_sessions['user_id'].isna()]\n",
    "\n",
    "#action\n",
    "df_sessions = df_sessions[~df_sessions['action'].isna()]\n",
    "\n",
    "#action_type\n",
    "df_sessions = df_sessions[~df_sessions['action_type'].isna()]\n",
    "\n",
    "#action_detail\n",
    "df_sessions = df_sessions[~df_sessions['action_detail'].isna()]\n",
    "\n",
    "#secs_elapsed\n",
    "df_sessions = df_sessions[~df_sessions['secs_elapsed'].isna()]"
   ]
  },
  {
   "cell_type": "markdown",
   "metadata": {
    "ExecuteTime": {
     "end_time": "2021-04-21T20:26:36.247449Z",
     "start_time": "2021-04-21T20:26:36.244451Z"
    }
   },
   "source": [
    "## 1.4. Change Data Type"
   ]
  },
  {
   "cell_type": "code",
   "execution_count": 13,
   "metadata": {
    "ExecuteTime": {
     "end_time": "2021-05-10T21:33:10.171468Z",
     "start_time": "2021-05-10T21:33:10.155503Z"
    }
   },
   "outputs": [
    {
     "data": {
      "text/plain": [
       "id                          object\n",
       "date_account_created        object\n",
       "timestamp_first_active       int64\n",
       "date_first_booking          object\n",
       "gender                      object\n",
       "age                        float64\n",
       "signup_method               object\n",
       "signup_flow                  int64\n",
       "language                    object\n",
       "affiliate_channel           object\n",
       "affiliate_provider          object\n",
       "first_affiliate_tracked     object\n",
       "signup_app                  object\n",
       "first_device_type           object\n",
       "first_browser               object\n",
       "country_destination         object\n",
       "dtype: object"
      ]
     },
     "execution_count": 13,
     "metadata": {},
     "output_type": "execute_result"
    }
   ],
   "source": [
    " df1.dtypes"
   ]
  },
  {
   "cell_type": "code",
   "execution_count": 14,
   "metadata": {
    "ExecuteTime": {
     "end_time": "2021-05-10T21:33:12.604008Z",
     "start_time": "2021-05-10T21:33:10.174468Z"
    }
   },
   "outputs": [],
   "source": [
    "#date_account_created\n",
    "df1['date_account_created'] = pd.to_datetime(df1['date_account_created'])\n",
    "\n",
    "#timestamp_first_active\n",
    "df1['timestamp_first_active'] = pd.to_datetime(df1['timestamp_first_active'], format='%Y%m%d%H%M%S')\n",
    "\n",
    "#date_first_booking\n",
    "df1['date_first_booking'] = pd.to_datetime(df1['date_first_booking'])\n",
    "\n",
    "#age\n",
    "df1['age'] = df1['age'].astype(int)"
   ]
  },
  {
   "cell_type": "markdown",
   "metadata": {},
   "source": [
    "## 1.5. Check Balanced Data"
   ]
  },
  {
   "cell_type": "code",
   "execution_count": 15,
   "metadata": {
    "ExecuteTime": {
     "end_time": "2021-05-10T21:33:12.697305Z",
     "start_time": "2021-05-10T21:33:12.604008Z"
    }
   },
   "outputs": [
    {
     "data": {
      "text/plain": [
       "NDF      0.447275\n",
       "US       0.391867\n",
       "other    0.061246\n",
       "FR       0.029918\n",
       "IT       0.016423\n",
       "GB       0.014335\n",
       "ES       0.013740\n",
       "CA       0.008676\n",
       "DE       0.006858\n",
       "NL       0.004852\n",
       "AU       0.003531\n",
       "PT       0.001280\n",
       "Name: country_destination, dtype: float64"
      ]
     },
     "execution_count": 15,
     "metadata": {},
     "output_type": "execute_result"
    }
   ],
   "source": [
    "df1['country_destination'].value_counts(normalize=True)"
   ]
  },
  {
   "cell_type": "markdown",
   "metadata": {},
   "source": [
    "## 1.6. Descriptive Analysis"
   ]
  },
  {
   "cell_type": "code",
   "execution_count": 16,
   "metadata": {
    "ExecuteTime": {
     "end_time": "2021-05-10T21:33:13.740302Z",
     "start_time": "2021-05-10T21:33:12.699303Z"
    }
   },
   "outputs": [],
   "source": [
    "#Users\n",
    "num_attributes = df1.select_dtypes(include=['int64','float64'])\n",
    "cat_attributes = df1.select_dtypes(exclude=['int64','float64','datetime64[ns]'])\n",
    "time_attributes = df1.select_dtypes(include=['datetime64[ns]'])\n",
    "\n",
    "#Sessions\n",
    "num_attributes_sessions = df_sessions.select_dtypes(include=['int64','float64'])\n",
    "cat_attributes_sessions = df_sessions.select_dtypes(exclude=['int64','float64','datetime64[ns]'])\n",
    "time_attributes_sessions = df_sessions.select_dtypes(include=['datetime64[ns]'])"
   ]
  },
  {
   "cell_type": "markdown",
   "metadata": {},
   "source": [
    "### 1.6.1 Numerical - Users"
   ]
  },
  {
   "cell_type": "code",
   "execution_count": 17,
   "metadata": {
    "ExecuteTime": {
     "end_time": "2021-05-10T21:33:16.354605Z",
     "start_time": "2021-05-10T21:33:13.742852Z"
    }
   },
   "outputs": [
    {
     "data": {
      "text/html": [
       "<div>\n",
       "<style scoped>\n",
       "    .dataframe tbody tr th:only-of-type {\n",
       "        vertical-align: middle;\n",
       "    }\n",
       "\n",
       "    .dataframe tbody tr th {\n",
       "        vertical-align: top;\n",
       "    }\n",
       "\n",
       "    .dataframe thead th {\n",
       "        text-align: right;\n",
       "    }\n",
       "</style>\n",
       "<table border=\"1\" class=\"dataframe\">\n",
       "  <thead>\n",
       "    <tr style=\"text-align: right;\">\n",
       "      <th></th>\n",
       "      <th>attributes</th>\n",
       "      <th>min</th>\n",
       "      <th>max</th>\n",
       "      <th>range</th>\n",
       "      <th>mean</th>\n",
       "      <th>median</th>\n",
       "      <th>std</th>\n",
       "      <th>skew</th>\n",
       "      <th>kurtosis</th>\n",
       "    </tr>\n",
       "  </thead>\n",
       "  <tbody>\n",
       "    <tr>\n",
       "      <th>0</th>\n",
       "      <td>signup_flow</td>\n",
       "      <td>0.0</td>\n",
       "      <td>25.0</td>\n",
       "      <td>25.0</td>\n",
       "      <td>2.519513</td>\n",
       "      <td>0.0</td>\n",
       "      <td>6.604696</td>\n",
       "      <td>2.705871</td>\n",
       "      <td>5.928298</td>\n",
       "    </tr>\n",
       "  </tbody>\n",
       "</table>\n",
       "</div>"
      ],
      "text/plain": [
       "    attributes  min   max  range      mean  median       std      skew  \\\n",
       "0  signup_flow  0.0  25.0   25.0  2.519513     0.0  6.604696  2.705871   \n",
       "\n",
       "   kurtosis  \n",
       "0  5.928298  "
      ]
     },
     "execution_count": 17,
     "metadata": {},
     "output_type": "execute_result"
    }
   ],
   "source": [
    "#Central Tendency - Mean, Median\n",
    "ct1 = pd.DataFrame(num_attributes.apply(np.mean)).T\n",
    "ct2 = pd.DataFrame(num_attributes.apply(np.median)).T\n",
    "\n",
    "#Dispersions - Std, Min, Max, Range, Skew, Kurtosis\n",
    "d1 = pd.DataFrame(num_attributes.apply(np.std)).T\n",
    "d2 = pd.DataFrame(num_attributes.apply(min)).T\n",
    "d3 = pd.DataFrame(num_attributes.apply(max)).T\n",
    "d4 = pd.DataFrame(num_attributes.apply(lambda x: x.max() - x.min())).T\n",
    "d5 = pd.DataFrame(num_attributes.apply(lambda x: x.skew())).T\n",
    "d6 = pd.DataFrame(num_attributes.apply(lambda x: x.kurtosis())).T\n",
    "\n",
    "#Concat\n",
    "ct = pd.concat([d2, d3, d4, ct1, ct2, d1, d5, d6]).T.reset_index()\n",
    "ct.columns = ['attributes', 'min', 'max', 'range', 'mean', 'median', 'std', 'skew', 'kurtosis']\n",
    "ct"
   ]
  },
  {
   "cell_type": "markdown",
   "metadata": {},
   "source": [
    "### 1.6.2 Numerical - Sessions"
   ]
  },
  {
   "cell_type": "code",
   "execution_count": 18,
   "metadata": {
    "ExecuteTime": {
     "end_time": "2021-05-10T21:33:19.134473Z",
     "start_time": "2021-05-10T21:33:16.356602Z"
    }
   },
   "outputs": [
    {
     "data": {
      "text/html": [
       "<div>\n",
       "<style scoped>\n",
       "    .dataframe tbody tr th:only-of-type {\n",
       "        vertical-align: middle;\n",
       "    }\n",
       "\n",
       "    .dataframe tbody tr th {\n",
       "        vertical-align: top;\n",
       "    }\n",
       "\n",
       "    .dataframe thead th {\n",
       "        text-align: right;\n",
       "    }\n",
       "</style>\n",
       "<table border=\"1\" class=\"dataframe\">\n",
       "  <thead>\n",
       "    <tr style=\"text-align: right;\">\n",
       "      <th></th>\n",
       "      <th>attributes</th>\n",
       "      <th>min</th>\n",
       "      <th>max</th>\n",
       "      <th>range</th>\n",
       "      <th>mean</th>\n",
       "      <th>median</th>\n",
       "      <th>std</th>\n",
       "      <th>skew</th>\n",
       "      <th>kurtosis</th>\n",
       "    </tr>\n",
       "  </thead>\n",
       "  <tbody>\n",
       "    <tr>\n",
       "      <th>0</th>\n",
       "      <td>secs_elapsed</td>\n",
       "      <td>0.0</td>\n",
       "      <td>1799977.0</td>\n",
       "      <td>1799977.0</td>\n",
       "      <td>19961.8251</td>\n",
       "      <td>1369.0</td>\n",
       "      <td>88849.388449</td>\n",
       "      <td>11.137761</td>\n",
       "      <td>154.84312</td>\n",
       "    </tr>\n",
       "  </tbody>\n",
       "</table>\n",
       "</div>"
      ],
      "text/plain": [
       "     attributes  min        max      range        mean  median           std  \\\n",
       "0  secs_elapsed  0.0  1799977.0  1799977.0  19961.8251  1369.0  88849.388449   \n",
       "\n",
       "        skew   kurtosis  \n",
       "0  11.137761  154.84312  "
      ]
     },
     "execution_count": 18,
     "metadata": {},
     "output_type": "execute_result"
    }
   ],
   "source": [
    "#Central Tendency - Mean, Median\n",
    "ct1 = pd.DataFrame(num_attributes_sessions.apply(np.mean)).T\n",
    "ct2 = pd.DataFrame(num_attributes_sessions.apply(np.median)).T\n",
    "\n",
    "#Dispersions - Std, Min, Max, Range, Skew, Kurtosis\n",
    "d1 = pd.DataFrame(num_attributes_sessions.apply(np.std)).T\n",
    "d2 = pd.DataFrame(num_attributes_sessions.apply(min)).T\n",
    "d3 = pd.DataFrame(num_attributes_sessions.apply(max)).T\n",
    "d4 = pd.DataFrame(num_attributes_sessions.apply(lambda x: x.max() - x.min())).T\n",
    "d5 = pd.DataFrame(num_attributes_sessions.apply(lambda x: x.skew())).T\n",
    "d6 = pd.DataFrame(num_attributes_sessions.apply(lambda x: x.kurtosis())).T\n",
    "\n",
    "#Concat\n",
    "ct = pd.concat([d2, d3, d4, ct1, ct2, d1, d5, d6]).T.reset_index()\n",
    "ct.columns = ['attributes', 'min', 'max', 'range', 'mean', 'median', 'std', 'skew', 'kurtosis']\n",
    "ct"
   ]
  },
  {
   "cell_type": "markdown",
   "metadata": {},
   "source": [
    "### 1.6.3. Categorical - Users"
   ]
  },
  {
   "cell_type": "code",
   "execution_count": 19,
   "metadata": {
    "ExecuteTime": {
     "end_time": "2021-05-10T21:33:19.447302Z",
     "start_time": "2021-05-10T21:33:19.136646Z"
    }
   },
   "outputs": [
    {
     "data": {
      "text/html": [
       "<div>\n",
       "<style scoped>\n",
       "    .dataframe tbody tr th:only-of-type {\n",
       "        vertical-align: middle;\n",
       "    }\n",
       "\n",
       "    .dataframe tbody tr th {\n",
       "        vertical-align: top;\n",
       "    }\n",
       "\n",
       "    .dataframe thead th {\n",
       "        text-align: right;\n",
       "    }\n",
       "</style>\n",
       "<table border=\"1\" class=\"dataframe\">\n",
       "  <thead>\n",
       "    <tr style=\"text-align: right;\">\n",
       "      <th></th>\n",
       "      <th>gender</th>\n",
       "      <th>signup_method</th>\n",
       "      <th>language</th>\n",
       "      <th>affiliate_channel</th>\n",
       "      <th>affiliate_provider</th>\n",
       "      <th>first_affiliate_tracked</th>\n",
       "      <th>signup_app</th>\n",
       "      <th>first_device_type</th>\n",
       "      <th>first_browser</th>\n",
       "      <th>country_destination</th>\n",
       "    </tr>\n",
       "  </thead>\n",
       "  <tbody>\n",
       "    <tr>\n",
       "      <th>count</th>\n",
       "      <td>122636</td>\n",
       "      <td>122636</td>\n",
       "      <td>122636</td>\n",
       "      <td>122636</td>\n",
       "      <td>122636</td>\n",
       "      <td>122636</td>\n",
       "      <td>122636</td>\n",
       "      <td>122636</td>\n",
       "      <td>122636</td>\n",
       "      <td>122636</td>\n",
       "    </tr>\n",
       "    <tr>\n",
       "      <th>unique</th>\n",
       "      <td>4</td>\n",
       "      <td>3</td>\n",
       "      <td>25</td>\n",
       "      <td>8</td>\n",
       "      <td>17</td>\n",
       "      <td>7</td>\n",
       "      <td>4</td>\n",
       "      <td>9</td>\n",
       "      <td>41</td>\n",
       "      <td>12</td>\n",
       "    </tr>\n",
       "    <tr>\n",
       "      <th>top</th>\n",
       "      <td>FEMALE</td>\n",
       "      <td>basic</td>\n",
       "      <td>en</td>\n",
       "      <td>direct</td>\n",
       "      <td>direct</td>\n",
       "      <td>untracked</td>\n",
       "      <td>Web</td>\n",
       "      <td>Mac Desktop</td>\n",
       "      <td>Chrome</td>\n",
       "      <td>NDF</td>\n",
       "    </tr>\n",
       "    <tr>\n",
       "      <th>freq</th>\n",
       "      <td>56362</td>\n",
       "      <td>66039</td>\n",
       "      <td>118205</td>\n",
       "      <td>79093</td>\n",
       "      <td>78954</td>\n",
       "      <td>64712</td>\n",
       "      <td>108283</td>\n",
       "      <td>57943</td>\n",
       "      <td>41778</td>\n",
       "      <td>54852</td>\n",
       "    </tr>\n",
       "  </tbody>\n",
       "</table>\n",
       "</div>"
      ],
      "text/plain": [
       "        gender signup_method language affiliate_channel affiliate_provider  \\\n",
       "count   122636        122636   122636            122636             122636   \n",
       "unique       4             3       25                 8                 17   \n",
       "top     FEMALE         basic       en            direct             direct   \n",
       "freq     56362         66039   118205             79093              78954   \n",
       "\n",
       "       first_affiliate_tracked signup_app first_device_type first_browser  \\\n",
       "count                   122636     122636            122636        122636   \n",
       "unique                       7          4                 9            41   \n",
       "top                  untracked        Web       Mac Desktop        Chrome   \n",
       "freq                     64712     108283             57943         41778   \n",
       "\n",
       "       country_destination  \n",
       "count               122636  \n",
       "unique                  12  \n",
       "top                    NDF  \n",
       "freq                 54852  "
      ]
     },
     "execution_count": 19,
     "metadata": {},
     "output_type": "execute_result"
    }
   ],
   "source": [
    "cat_attributes.drop(['id','age'], axis=1).describe()"
   ]
  },
  {
   "cell_type": "markdown",
   "metadata": {},
   "source": [
    "### 1.6.4 - Categorical - Sessions"
   ]
  },
  {
   "cell_type": "code",
   "execution_count": 20,
   "metadata": {
    "ExecuteTime": {
     "end_time": "2021-05-10T21:33:25.816156Z",
     "start_time": "2021-05-10T21:33:19.449301Z"
    }
   },
   "outputs": [
    {
     "data": {
      "text/html": [
       "<div>\n",
       "<style scoped>\n",
       "    .dataframe tbody tr th:only-of-type {\n",
       "        vertical-align: middle;\n",
       "    }\n",
       "\n",
       "    .dataframe tbody tr th {\n",
       "        vertical-align: top;\n",
       "    }\n",
       "\n",
       "    .dataframe thead th {\n",
       "        text-align: right;\n",
       "    }\n",
       "</style>\n",
       "<table border=\"1\" class=\"dataframe\">\n",
       "  <thead>\n",
       "    <tr style=\"text-align: right;\">\n",
       "      <th></th>\n",
       "      <th>action</th>\n",
       "      <th>action_type</th>\n",
       "      <th>action_detail</th>\n",
       "      <th>device_type</th>\n",
       "    </tr>\n",
       "  </thead>\n",
       "  <tbody>\n",
       "    <tr>\n",
       "      <th>count</th>\n",
       "      <td>9213930</td>\n",
       "      <td>9213930</td>\n",
       "      <td>9213930</td>\n",
       "      <td>9213930</td>\n",
       "    </tr>\n",
       "    <tr>\n",
       "      <th>unique</th>\n",
       "      <td>347</td>\n",
       "      <td>10</td>\n",
       "      <td>155</td>\n",
       "      <td>14</td>\n",
       "    </tr>\n",
       "    <tr>\n",
       "      <th>top</th>\n",
       "      <td>show</td>\n",
       "      <td>view</td>\n",
       "      <td>view_search_results</td>\n",
       "      <td>Mac Desktop</td>\n",
       "    </tr>\n",
       "    <tr>\n",
       "      <th>freq</th>\n",
       "      <td>2178382</td>\n",
       "      <td>3545621</td>\n",
       "      <td>1770931</td>\n",
       "      <td>3019523</td>\n",
       "    </tr>\n",
       "  </tbody>\n",
       "</table>\n",
       "</div>"
      ],
      "text/plain": [
       "         action action_type        action_detail  device_type\n",
       "count   9213930     9213930              9213930      9213930\n",
       "unique      347          10                  155           14\n",
       "top        show        view  view_search_results  Mac Desktop\n",
       "freq    2178382     3545621              1770931      3019523"
      ]
     },
     "execution_count": 20,
     "metadata": {},
     "output_type": "execute_result"
    }
   ],
   "source": [
    "cat_attributes_sessions.drop('user_id', axis=1).describe()"
   ]
  },
  {
   "cell_type": "code",
   "execution_count": 21,
   "metadata": {
    "ExecuteTime": {
     "end_time": "2021-05-10T21:34:09.028279Z",
     "start_time": "2021-05-10T21:33:25.818155Z"
    }
   },
   "outputs": [],
   "source": [
    "#list of attributes for Cramer's V correlation\n",
    "cat_attributes_list = cat_attributes_sessions.drop('user_id', axis=1).columns.tolist()\n",
    "\n",
    "corr_dict = {}\n",
    "for i in range(len(cat_attributes_list)):\n",
    "    corr_list = []\n",
    "    for j in range(len(cat_attributes_list)):\n",
    "        ref = cat_attributes_list[i]\n",
    "        feat = cat_attributes_list[j]\n",
    "        \n",
    "        # correlation\n",
    "        corr = cramer_v(cat_attributes_sessions[ref], cat_attributes_sessions[feat])\n",
    "        \n",
    "        # append a list\n",
    "        corr_list.append(corr)\n",
    "    \n",
    "    # appende a correlation list for each ref attributs\n",
    "    corr_dict[ref] = corr_list"
   ]
  },
  {
   "cell_type": "code",
   "execution_count": 22,
   "metadata": {
    "ExecuteTime": {
     "end_time": "2021-05-10T21:34:09.043956Z",
     "start_time": "2021-05-10T21:34:09.028279Z"
    }
   },
   "outputs": [
    {
     "data": {
      "text/plain": [
       "[0.25984796015349226,\n",
       " 0.08204073846721649,\n",
       " 0.2196221769687879,\n",
       " 1.000000705454337]"
      ]
     },
     "execution_count": 22,
     "metadata": {},
     "output_type": "execute_result"
    }
   ],
   "source": [
    "corr_dict[feat]"
   ]
  },
  {
   "cell_type": "code",
   "execution_count": 23,
   "metadata": {
    "ExecuteTime": {
     "end_time": "2021-05-10T21:34:09.170120Z",
     "start_time": "2021-05-10T21:34:09.049953Z"
    }
   },
   "outputs": [
    {
     "data": {
      "text/plain": [
       "[0.25984796015349226,\n",
       " 0.08204073846721649,\n",
       " 0.2196221769687879,\n",
       " 1.000000705454337]"
      ]
     },
     "execution_count": 23,
     "metadata": {},
     "output_type": "execute_result"
    }
   ],
   "source": [
    "corr_dict[ref]"
   ]
  },
  {
   "cell_type": "code",
   "execution_count": 24,
   "metadata": {
    "ExecuteTime": {
     "end_time": "2021-05-10T21:34:11.026390Z",
     "start_time": "2021-05-10T21:34:09.174118Z"
    }
   },
   "outputs": [
    {
     "data": {
      "text/plain": [
       "<AxesSubplot:>"
      ]
     },
     "execution_count": 24,
     "metadata": {},
     "output_type": "execute_result"
    },
    {
     "data": {
      "image/png": "[encoded data removed]",
      "text/plain": [
       "<Figure size 432x288 with 2 Axes>"
      ]
     },
     "metadata": {
      "needs_background": "light"
     },
     "output_type": "display_data"
    }
   ],
   "source": [
    "d = pd.DataFrame(corr_dict)\n",
    "d = d.set_index(d.columns)\n",
    "sns.heatmap(d, annot=True)"
   ]
  },
  {
   "cell_type": "markdown",
   "metadata": {},
   "source": [
    "# 2.0. Feature Engineering"
   ]
  },
  {
   "cell_type": "code",
   "execution_count": 25,
   "metadata": {
    "ExecuteTime": {
     "end_time": "2021-05-10T21:34:11.057370Z",
     "start_time": "2021-05-10T21:34:11.028388Z"
    }
   },
   "outputs": [],
   "source": [
    "df2 = df1.copy()"
   ]
  },
  {
   "cell_type": "markdown",
   "metadata": {},
   "source": [
    "## 2.1. Create New Features"
   ]
  },
  {
   "cell_type": "code",
   "execution_count": 26,
   "metadata": {
    "ExecuteTime": {
     "end_time": "2021-05-10T21:34:19.190273Z",
     "start_time": "2021-05-10T21:34:11.060367Z"
    }
   },
   "outputs": [],
   "source": [
    "#days from first active up to first booking\n",
    "df2['first_active'] = pd.to_datetime(df2['timestamp_first_active'].dt.strftime('%Y-%m-%d'))\n",
    "df2['days_from_first_active_until_booking'] = (df2['date_first_booking'] - df2['first_active']).apply(lambda x: x.days)\n",
    "\n",
    "#days from first active upt to account created\n",
    "df2['days_from_first_active_until_account_created'] = (df2['date_account_created'] - df2['first_active']).apply(lambda x: x.days)\n",
    "\n",
    "#days from account createad up to first booking\n",
    "df2['days_from_account_created_until_first_booking'] = (df2['date_first_booking'] - df2['date_account_created']).apply(lambda x: x.days)\n",
    "\n",
    "\n",
    "# ================== First Active ==================\n",
    "#year first active\n",
    "df2['year_first_active'] = df2['first_active'].dt.year\n",
    "\n",
    "#month first active\n",
    "df2['month_first_active'] = df2['first_active'].dt.month\n",
    "\n",
    "#day first active\n",
    "df2['day_first_active'] = df2['first_active'].dt.day\n",
    "\n",
    "#day of week first active\n",
    "df2['day_of_week_first_active'] = df2['first_active'].dt.dayofweek\n",
    "\n",
    "#week of year first active\n",
    "df2['week_of_year_first_active'] = df2['first_active'].dt.isocalendar().week\n",
    "df2['week_of_year_first_active'] = np.asarray(df2['week_of_year_first_active']).astype(np.int64)\n",
    "\n",
    "\n",
    "# ================== First Booking ==================\n",
    "#year first booking\n",
    "df2['year_first_booking'] = df2['date_first_booking'].dt.year\n",
    "\n",
    "#month first booking\n",
    "df2['month_first_booking'] = df2['date_first_booking'].dt.month\n",
    "\n",
    "#day first booking\n",
    "df2['day_first_booking'] = df2['date_first_booking'].dt.day\n",
    "\n",
    "#day of week first booking\n",
    "df2['day_of_week_first_booking'] = df2['date_first_booking'].dt.dayofweek\n",
    "\n",
    "#week of year first booking\n",
    "df2['week_of_year_first_booking'] = df2['date_first_booking'].dt.isocalendar().week\n",
    "df2['week_of_year_first_booking'] = np.asarray(df2['week_of_year_first_booking']).astype(np.int64)\n",
    "\n",
    "\n",
    "# ================== First Account Created =================\n",
    "#year first booking\n",
    "df2['year_account_created'] = df2['date_account_created'].dt.year\n",
    "\n",
    "#month  account_created\n",
    "df2['month_account_created'] = df2['date_account_created'].dt.month\n",
    "\n",
    "#day  account_created\n",
    "df2['day_account_created'] = df2['date_account_created'].dt.day\n",
    "\n",
    "#day of week  account_created\n",
    "df2['day_of_week_account_created'] = df2['date_account_created'].dt.dayofweek\n",
    "\n",
    "#week of year  account_created\n",
    "df2['week_of_year_account_created'] = df2['date_account_created'].dt.isocalendar().week\n",
    "df2['week_of_year_account_created'] = np.asarray(df2['week_of_year_account_created']).astype(np.int64)"
   ]
  },
  {
   "cell_type": "code",
   "execution_count": 27,
   "metadata": {
    "ExecuteTime": {
     "end_time": "2021-05-10T21:34:19.205831Z",
     "start_time": "2021-05-10T21:34:19.190273Z"
    }
   },
   "outputs": [
    {
     "data": {
      "text/plain": [
       "id                                                       object\n",
       "date_account_created                             datetime64[ns]\n",
       "timestamp_first_active                           datetime64[ns]\n",
       "date_first_booking                               datetime64[ns]\n",
       "gender                                                   object\n",
       "age                                                       int32\n",
       "signup_method                                            object\n",
       "signup_flow                                               int64\n",
       "language                                                 object\n",
       "affiliate_channel                                        object\n",
       "affiliate_provider                                       object\n",
       "first_affiliate_tracked                                  object\n",
       "signup_app                                               object\n",
       "first_device_type                                        object\n",
       "first_browser                                            object\n",
       "country_destination                                      object\n",
       "first_active                                     datetime64[ns]\n",
       "days_from_first_active_until_booking                      int64\n",
       "days_from_first_active_until_account_created              int64\n",
       "days_from_account_created_until_first_booking             int64\n",
       "year_first_active                                         int64\n",
       "month_first_active                                        int64\n",
       "day_first_active                                          int64\n",
       "day_of_week_first_active                                  int64\n",
       "week_of_year_first_active                                 int64\n",
       "year_first_booking                                        int64\n",
       "month_first_booking                                       int64\n",
       "day_first_booking                                         int64\n",
       "day_of_week_first_booking                                 int64\n",
       "week_of_year_first_booking                                int64\n",
       "year_account_created                                      int64\n",
       "month_account_created                                     int64\n",
       "day_account_created                                       int64\n",
       "day_of_week_account_created                               int64\n",
       "week_of_year_account_created                              int64\n",
       "dtype: object"
      ]
     },
     "execution_count": 27,
     "metadata": {},
     "output_type": "execute_result"
    }
   ],
   "source": [
    "df2.dtypes"
   ]
  },
  {
   "cell_type": "markdown",
   "metadata": {},
   "source": [
    "# 3.0. Data Filtering"
   ]
  },
  {
   "cell_type": "code",
   "execution_count": 28,
   "metadata": {
    "ExecuteTime": {
     "end_time": "2021-05-10T21:34:19.442879Z",
     "start_time": "2021-05-10T21:34:19.207831Z"
    }
   },
   "outputs": [],
   "source": [
    "df3 = df2.copy()"
   ]
  },
  {
   "cell_type": "code",
   "execution_count": 29,
   "metadata": {
    "ExecuteTime": {
     "end_time": "2021-05-10T21:34:19.632750Z",
     "start_time": "2021-05-10T21:34:19.444876Z"
    }
   },
   "outputs": [
    {
     "data": {
      "text/html": [
       "<div>\n",
       "<style scoped>\n",
       "    .dataframe tbody tr th:only-of-type {\n",
       "        vertical-align: middle;\n",
       "    }\n",
       "\n",
       "    .dataframe tbody tr th {\n",
       "        vertical-align: top;\n",
       "    }\n",
       "\n",
       "    .dataframe thead th {\n",
       "        text-align: right;\n",
       "    }\n",
       "</style>\n",
       "<table border=\"1\" class=\"dataframe\">\n",
       "  <thead>\n",
       "    <tr style=\"text-align: right;\">\n",
       "      <th></th>\n",
       "      <th>1</th>\n",
       "      <th>2</th>\n",
       "      <th>3</th>\n",
       "      <th>4</th>\n",
       "      <th>6</th>\n",
       "    </tr>\n",
       "  </thead>\n",
       "  <tbody>\n",
       "    <tr>\n",
       "      <th>id</th>\n",
       "      <td>820tgsjxq7</td>\n",
       "      <td>4ft3gnwmtx</td>\n",
       "      <td>bjjt8pjhuk</td>\n",
       "      <td>87mebub9p4</td>\n",
       "      <td>lsw9q7uk0j</td>\n",
       "    </tr>\n",
       "    <tr>\n",
       "      <th>date_account_created</th>\n",
       "      <td>2011-05-25 00:00:00</td>\n",
       "      <td>2010-09-28 00:00:00</td>\n",
       "      <td>2011-12-05 00:00:00</td>\n",
       "      <td>2010-09-14 00:00:00</td>\n",
       "      <td>2010-01-02 00:00:00</td>\n",
       "    </tr>\n",
       "    <tr>\n",
       "      <th>timestamp_first_active</th>\n",
       "      <td>2009-05-23 17:48:09</td>\n",
       "      <td>2009-06-09 23:12:47</td>\n",
       "      <td>2009-10-31 06:01:29</td>\n",
       "      <td>2009-12-08 06:11:05</td>\n",
       "      <td>2010-01-02 01:25:58</td>\n",
       "    </tr>\n",
       "    <tr>\n",
       "      <th>date_first_booking</th>\n",
       "      <td>2015-06-29 00:00:00</td>\n",
       "      <td>2010-08-02 00:00:00</td>\n",
       "      <td>2012-09-08 00:00:00</td>\n",
       "      <td>2010-02-18 00:00:00</td>\n",
       "      <td>2010-01-05 00:00:00</td>\n",
       "    </tr>\n",
       "    <tr>\n",
       "      <th>gender</th>\n",
       "      <td>MALE</td>\n",
       "      <td>FEMALE</td>\n",
       "      <td>FEMALE</td>\n",
       "      <td>-unknown-</td>\n",
       "      <td>FEMALE</td>\n",
       "    </tr>\n",
       "    <tr>\n",
       "      <th>age</th>\n",
       "      <td>38</td>\n",
       "      <td>56</td>\n",
       "      <td>42</td>\n",
       "      <td>41</td>\n",
       "      <td>46</td>\n",
       "    </tr>\n",
       "    <tr>\n",
       "      <th>signup_method</th>\n",
       "      <td>facebook</td>\n",
       "      <td>basic</td>\n",
       "      <td>facebook</td>\n",
       "      <td>basic</td>\n",
       "      <td>basic</td>\n",
       "    </tr>\n",
       "    <tr>\n",
       "      <th>signup_flow</th>\n",
       "      <td>0</td>\n",
       "      <td>3</td>\n",
       "      <td>0</td>\n",
       "      <td>0</td>\n",
       "      <td>0</td>\n",
       "    </tr>\n",
       "    <tr>\n",
       "      <th>language</th>\n",
       "      <td>en</td>\n",
       "      <td>en</td>\n",
       "      <td>en</td>\n",
       "      <td>en</td>\n",
       "      <td>en</td>\n",
       "    </tr>\n",
       "    <tr>\n",
       "      <th>affiliate_channel</th>\n",
       "      <td>seo</td>\n",
       "      <td>direct</td>\n",
       "      <td>direct</td>\n",
       "      <td>direct</td>\n",
       "      <td>other</td>\n",
       "    </tr>\n",
       "    <tr>\n",
       "      <th>affiliate_provider</th>\n",
       "      <td>google</td>\n",
       "      <td>direct</td>\n",
       "      <td>direct</td>\n",
       "      <td>direct</td>\n",
       "      <td>craigslist</td>\n",
       "    </tr>\n",
       "    <tr>\n",
       "      <th>first_affiliate_tracked</th>\n",
       "      <td>untracked</td>\n",
       "      <td>untracked</td>\n",
       "      <td>untracked</td>\n",
       "      <td>untracked</td>\n",
       "      <td>untracked</td>\n",
       "    </tr>\n",
       "    <tr>\n",
       "      <th>signup_app</th>\n",
       "      <td>Web</td>\n",
       "      <td>Web</td>\n",
       "      <td>Web</td>\n",
       "      <td>Web</td>\n",
       "      <td>Web</td>\n",
       "    </tr>\n",
       "    <tr>\n",
       "      <th>first_device_type</th>\n",
       "      <td>Mac Desktop</td>\n",
       "      <td>Windows Desktop</td>\n",
       "      <td>Mac Desktop</td>\n",
       "      <td>Mac Desktop</td>\n",
       "      <td>Mac Desktop</td>\n",
       "    </tr>\n",
       "    <tr>\n",
       "      <th>first_browser</th>\n",
       "      <td>Chrome</td>\n",
       "      <td>IE</td>\n",
       "      <td>Firefox</td>\n",
       "      <td>Chrome</td>\n",
       "      <td>Safari</td>\n",
       "    </tr>\n",
       "    <tr>\n",
       "      <th>country_destination</th>\n",
       "      <td>NDF</td>\n",
       "      <td>US</td>\n",
       "      <td>other</td>\n",
       "      <td>US</td>\n",
       "      <td>US</td>\n",
       "    </tr>\n",
       "    <tr>\n",
       "      <th>first_active</th>\n",
       "      <td>2009-05-23 00:00:00</td>\n",
       "      <td>2009-06-09 00:00:00</td>\n",
       "      <td>2009-10-31 00:00:00</td>\n",
       "      <td>2009-12-08 00:00:00</td>\n",
       "      <td>2010-01-02 00:00:00</td>\n",
       "    </tr>\n",
       "    <tr>\n",
       "      <th>days_from_first_active_until_booking</th>\n",
       "      <td>2228</td>\n",
       "      <td>419</td>\n",
       "      <td>1043</td>\n",
       "      <td>72</td>\n",
       "      <td>3</td>\n",
       "    </tr>\n",
       "    <tr>\n",
       "      <th>days_from_first_active_until_account_created</th>\n",
       "      <td>732</td>\n",
       "      <td>476</td>\n",
       "      <td>765</td>\n",
       "      <td>280</td>\n",
       "      <td>0</td>\n",
       "    </tr>\n",
       "    <tr>\n",
       "      <th>days_from_account_created_until_first_booking</th>\n",
       "      <td>1496</td>\n",
       "      <td>-57</td>\n",
       "      <td>278</td>\n",
       "      <td>-208</td>\n",
       "      <td>3</td>\n",
       "    </tr>\n",
       "    <tr>\n",
       "      <th>year_first_active</th>\n",
       "      <td>2009</td>\n",
       "      <td>2009</td>\n",
       "      <td>2009</td>\n",
       "      <td>2009</td>\n",
       "      <td>2010</td>\n",
       "    </tr>\n",
       "    <tr>\n",
       "      <th>month_first_active</th>\n",
       "      <td>5</td>\n",
       "      <td>6</td>\n",
       "      <td>10</td>\n",
       "      <td>12</td>\n",
       "      <td>1</td>\n",
       "    </tr>\n",
       "    <tr>\n",
       "      <th>day_first_active</th>\n",
       "      <td>23</td>\n",
       "      <td>9</td>\n",
       "      <td>31</td>\n",
       "      <td>8</td>\n",
       "      <td>2</td>\n",
       "    </tr>\n",
       "    <tr>\n",
       "      <th>day_of_week_first_active</th>\n",
       "      <td>5</td>\n",
       "      <td>1</td>\n",
       "      <td>5</td>\n",
       "      <td>1</td>\n",
       "      <td>5</td>\n",
       "    </tr>\n",
       "    <tr>\n",
       "      <th>week_of_year_first_active</th>\n",
       "      <td>21</td>\n",
       "      <td>24</td>\n",
       "      <td>44</td>\n",
       "      <td>50</td>\n",
       "      <td>53</td>\n",
       "    </tr>\n",
       "    <tr>\n",
       "      <th>year_first_booking</th>\n",
       "      <td>2015</td>\n",
       "      <td>2010</td>\n",
       "      <td>2012</td>\n",
       "      <td>2010</td>\n",
       "      <td>2010</td>\n",
       "    </tr>\n",
       "    <tr>\n",
       "      <th>month_first_booking</th>\n",
       "      <td>6</td>\n",
       "      <td>8</td>\n",
       "      <td>9</td>\n",
       "      <td>2</td>\n",
       "      <td>1</td>\n",
       "    </tr>\n",
       "    <tr>\n",
       "      <th>day_first_booking</th>\n",
       "      <td>29</td>\n",
       "      <td>2</td>\n",
       "      <td>8</td>\n",
       "      <td>18</td>\n",
       "      <td>5</td>\n",
       "    </tr>\n",
       "    <tr>\n",
       "      <th>day_of_week_first_booking</th>\n",
       "      <td>0</td>\n",
       "      <td>0</td>\n",
       "      <td>5</td>\n",
       "      <td>3</td>\n",
       "      <td>1</td>\n",
       "    </tr>\n",
       "    <tr>\n",
       "      <th>week_of_year_first_booking</th>\n",
       "      <td>27</td>\n",
       "      <td>31</td>\n",
       "      <td>36</td>\n",
       "      <td>7</td>\n",
       "      <td>1</td>\n",
       "    </tr>\n",
       "    <tr>\n",
       "      <th>year_account_created</th>\n",
       "      <td>2011</td>\n",
       "      <td>2010</td>\n",
       "      <td>2011</td>\n",
       "      <td>2010</td>\n",
       "      <td>2010</td>\n",
       "    </tr>\n",
       "    <tr>\n",
       "      <th>month_account_created</th>\n",
       "      <td>5</td>\n",
       "      <td>9</td>\n",
       "      <td>12</td>\n",
       "      <td>9</td>\n",
       "      <td>1</td>\n",
       "    </tr>\n",
       "    <tr>\n",
       "      <th>day_account_created</th>\n",
       "      <td>25</td>\n",
       "      <td>28</td>\n",
       "      <td>5</td>\n",
       "      <td>14</td>\n",
       "      <td>2</td>\n",
       "    </tr>\n",
       "    <tr>\n",
       "      <th>day_of_week_account_created</th>\n",
       "      <td>2</td>\n",
       "      <td>1</td>\n",
       "      <td>0</td>\n",
       "      <td>1</td>\n",
       "      <td>5</td>\n",
       "    </tr>\n",
       "    <tr>\n",
       "      <th>week_of_year_account_created</th>\n",
       "      <td>21</td>\n",
       "      <td>39</td>\n",
       "      <td>49</td>\n",
       "      <td>37</td>\n",
       "      <td>53</td>\n",
       "    </tr>\n",
       "  </tbody>\n",
       "</table>\n",
       "</div>"
      ],
      "text/plain": [
       "                                                                 1  \\\n",
       "id                                                      820tgsjxq7   \n",
       "date_account_created                           2011-05-25 00:00:00   \n",
       "timestamp_first_active                         2009-05-23 17:48:09   \n",
       "date_first_booking                             2015-06-29 00:00:00   \n",
       "gender                                                        MALE   \n",
       "age                                                             38   \n",
       "signup_method                                             facebook   \n",
       "signup_flow                                                      0   \n",
       "language                                                        en   \n",
       "affiliate_channel                                              seo   \n",
       "affiliate_provider                                          google   \n",
       "first_affiliate_tracked                                  untracked   \n",
       "signup_app                                                     Web   \n",
       "first_device_type                                      Mac Desktop   \n",
       "first_browser                                               Chrome   \n",
       "country_destination                                            NDF   \n",
       "first_active                                   2009-05-23 00:00:00   \n",
       "days_from_first_active_until_booking                          2228   \n",
       "days_from_first_active_until_account_created                   732   \n",
       "days_from_account_created_until_first_booking                 1496   \n",
       "year_first_active                                             2009   \n",
       "month_first_active                                               5   \n",
       "day_first_active                                                23   \n",
       "day_of_week_first_active                                         5   \n",
       "week_of_year_first_active                                       21   \n",
       "year_first_booking                                            2015   \n",
       "month_first_booking                                              6   \n",
       "day_first_booking                                               29   \n",
       "day_of_week_first_booking                                        0   \n",
       "week_of_year_first_booking                                      27   \n",
       "year_account_created                                          2011   \n",
       "month_account_created                                            5   \n",
       "day_account_created                                             25   \n",
       "day_of_week_account_created                                      2   \n",
       "week_of_year_account_created                                    21   \n",
       "\n",
       "                                                                 2  \\\n",
       "id                                                      4ft3gnwmtx   \n",
       "date_account_created                           2010-09-28 00:00:00   \n",
       "timestamp_first_active                         2009-06-09 23:12:47   \n",
       "date_first_booking                             2010-08-02 00:00:00   \n",
       "gender                                                      FEMALE   \n",
       "age                                                             56   \n",
       "signup_method                                                basic   \n",
       "signup_flow                                                      3   \n",
       "language                                                        en   \n",
       "affiliate_channel                                           direct   \n",
       "affiliate_provider                                          direct   \n",
       "first_affiliate_tracked                                  untracked   \n",
       "signup_app                                                     Web   \n",
       "first_device_type                                  Windows Desktop   \n",
       "first_browser                                                   IE   \n",
       "country_destination                                             US   \n",
       "first_active                                   2009-06-09 00:00:00   \n",
       "days_from_first_active_until_booking                           419   \n",
       "days_from_first_active_until_account_created                   476   \n",
       "days_from_account_created_until_first_booking                  -57   \n",
       "year_first_active                                             2009   \n",
       "month_first_active                                               6   \n",
       "day_first_active                                                 9   \n",
       "day_of_week_first_active                                         1   \n",
       "week_of_year_first_active                                       24   \n",
       "year_first_booking                                            2010   \n",
       "month_first_booking                                              8   \n",
       "day_first_booking                                                2   \n",
       "day_of_week_first_booking                                        0   \n",
       "week_of_year_first_booking                                      31   \n",
       "year_account_created                                          2010   \n",
       "month_account_created                                            9   \n",
       "day_account_created                                             28   \n",
       "day_of_week_account_created                                      1   \n",
       "week_of_year_account_created                                    39   \n",
       "\n",
       "                                                                 3  \\\n",
       "id                                                      bjjt8pjhuk   \n",
       "date_account_created                           2011-12-05 00:00:00   \n",
       "timestamp_first_active                         2009-10-31 06:01:29   \n",
       "date_first_booking                             2012-09-08 00:00:00   \n",
       "gender                                                      FEMALE   \n",
       "age                                                             42   \n",
       "signup_method                                             facebook   \n",
       "signup_flow                                                      0   \n",
       "language                                                        en   \n",
       "affiliate_channel                                           direct   \n",
       "affiliate_provider                                          direct   \n",
       "first_affiliate_tracked                                  untracked   \n",
       "signup_app                                                     Web   \n",
       "first_device_type                                      Mac Desktop   \n",
       "first_browser                                              Firefox   \n",
       "country_destination                                          other   \n",
       "first_active                                   2009-10-31 00:00:00   \n",
       "days_from_first_active_until_booking                          1043   \n",
       "days_from_first_active_until_account_created                   765   \n",
       "days_from_account_created_until_first_booking                  278   \n",
       "year_first_active                                             2009   \n",
       "month_first_active                                              10   \n",
       "day_first_active                                                31   \n",
       "day_of_week_first_active                                         5   \n",
       "week_of_year_first_active                                       44   \n",
       "year_first_booking                                            2012   \n",
       "month_first_booking                                              9   \n",
       "day_first_booking                                                8   \n",
       "day_of_week_first_booking                                        5   \n",
       "week_of_year_first_booking                                      36   \n",
       "year_account_created                                          2011   \n",
       "month_account_created                                           12   \n",
       "day_account_created                                              5   \n",
       "day_of_week_account_created                                      0   \n",
       "week_of_year_account_created                                    49   \n",
       "\n",
       "                                                                 4  \\\n",
       "id                                                      87mebub9p4   \n",
       "date_account_created                           2010-09-14 00:00:00   \n",
       "timestamp_first_active                         2009-12-08 06:11:05   \n",
       "date_first_booking                             2010-02-18 00:00:00   \n",
       "gender                                                   -unknown-   \n",
       "age                                                             41   \n",
       "signup_method                                                basic   \n",
       "signup_flow                                                      0   \n",
       "language                                                        en   \n",
       "affiliate_channel                                           direct   \n",
       "affiliate_provider                                          direct   \n",
       "first_affiliate_tracked                                  untracked   \n",
       "signup_app                                                     Web   \n",
       "first_device_type                                      Mac Desktop   \n",
       "first_browser                                               Chrome   \n",
       "country_destination                                             US   \n",
       "first_active                                   2009-12-08 00:00:00   \n",
       "days_from_first_active_until_booking                            72   \n",
       "days_from_first_active_until_account_created                   280   \n",
       "days_from_account_created_until_first_booking                 -208   \n",
       "year_first_active                                             2009   \n",
       "month_first_active                                              12   \n",
       "day_first_active                                                 8   \n",
       "day_of_week_first_active                                         1   \n",
       "week_of_year_first_active                                       50   \n",
       "year_first_booking                                            2010   \n",
       "month_first_booking                                              2   \n",
       "day_first_booking                                               18   \n",
       "day_of_week_first_booking                                        3   \n",
       "week_of_year_first_booking                                       7   \n",
       "year_account_created                                          2010   \n",
       "month_account_created                                            9   \n",
       "day_account_created                                             14   \n",
       "day_of_week_account_created                                      1   \n",
       "week_of_year_account_created                                    37   \n",
       "\n",
       "                                                                 6  \n",
       "id                                                      lsw9q7uk0j  \n",
       "date_account_created                           2010-01-02 00:00:00  \n",
       "timestamp_first_active                         2010-01-02 01:25:58  \n",
       "date_first_booking                             2010-01-05 00:00:00  \n",
       "gender                                                      FEMALE  \n",
       "age                                                             46  \n",
       "signup_method                                                basic  \n",
       "signup_flow                                                      0  \n",
       "language                                                        en  \n",
       "affiliate_channel                                            other  \n",
       "affiliate_provider                                      craigslist  \n",
       "first_affiliate_tracked                                  untracked  \n",
       "signup_app                                                     Web  \n",
       "first_device_type                                      Mac Desktop  \n",
       "first_browser                                               Safari  \n",
       "country_destination                                             US  \n",
       "first_active                                   2010-01-02 00:00:00  \n",
       "days_from_first_active_until_booking                             3  \n",
       "days_from_first_active_until_account_created                     0  \n",
       "days_from_account_created_until_first_booking                    3  \n",
       "year_first_active                                             2010  \n",
       "month_first_active                                               1  \n",
       "day_first_active                                                 2  \n",
       "day_of_week_first_active                                         5  \n",
       "week_of_year_first_active                                       53  \n",
       "year_first_booking                                            2010  \n",
       "month_first_booking                                              1  \n",
       "day_first_booking                                                5  \n",
       "day_of_week_first_booking                                        1  \n",
       "week_of_year_first_booking                                       1  \n",
       "year_account_created                                          2010  \n",
       "month_account_created                                            1  \n",
       "day_account_created                                              2  \n",
       "day_of_week_account_created                                      5  \n",
       "week_of_year_account_created                                    53  "
      ]
     },
     "execution_count": 29,
     "metadata": {},
     "output_type": "execute_result"
    }
   ],
   "source": [
    "df2.head().T"
   ]
  },
  {
   "cell_type": "markdown",
   "metadata": {},
   "source": [
    "## 3.1. Filtering Rows"
   ]
  },
  {
   "cell_type": "code",
   "execution_count": 30,
   "metadata": {
    "ExecuteTime": {
     "end_time": "2021-05-10T21:34:19.854790Z",
     "start_time": "2021-05-10T21:34:19.634751Z"
    }
   },
   "outputs": [],
   "source": [
    "# Filtering rows:\n",
    "# age - greater than 15 and lower than 120 - There are few people over 12O year old   \n",
    "df3 = df3[( df3['age'] > 15 ) & ( df3['age'] < 120 )]"
   ]
  },
  {
   "cell_type": "markdown",
   "metadata": {},
   "source": [
    "## 3.2. Columns Selection"
   ]
  },
  {
   "cell_type": "code",
   "execution_count": 31,
   "metadata": {
    "ExecuteTime": {
     "end_time": "2021-05-10T21:34:19.918789Z",
     "start_time": "2021-05-10T21:34:19.856790Z"
    }
   },
   "outputs": [],
   "source": [
    " cols = ['date_account_created', 'date_account_created', 'date_first_booking', 'timestamp_first_active', 'first_active', # original datetime\n",
    "        'days_from_first_active_until_booking',  'year_first_active',  'month_first_active', 'day_first_active',\n",
    "        'day_of_week_first_active', 'week_of_year_first_active', 'month_first_booking', 'month_account_created',\n",
    "        'year_first_booking', 'week_of_year_first_booking', 'affiliate_provider',\n",
    "        'first_browser', 'first_device_type'] # high correlation - Pearson and Cramer V\n",
    "\n",
    "df3 = df3.drop( cols, axis=1 )"
   ]
  },
  {
   "cell_type": "markdown",
   "metadata": {},
   "source": [
    "# 4.0. Balanced Dataset"
   ]
  },
  {
   "cell_type": "code",
   "execution_count": 32,
   "metadata": {
    "ExecuteTime": {
     "end_time": "2021-05-10T21:34:20.043913Z",
     "start_time": "2021-05-10T21:34:19.921774Z"
    }
   },
   "outputs": [],
   "source": [
    "df4 = df3.copy()\n",
    "#df4.shape"
   ]
  },
  {
   "cell_type": "code",
   "execution_count": 33,
   "metadata": {
    "ExecuteTime": {
     "end_time": "2021-05-10T21:34:21.192887Z",
     "start_time": "2021-05-10T21:34:20.045911Z"
    }
   },
   "outputs": [
    {
     "data": {
      "text/plain": [
       "(122636, 236)"
      ]
     },
     "execution_count": 33,
     "metadata": {},
     "output_type": "execute_result"
    }
   ],
   "source": [
    "#Encoder Categorical Variables\n",
    "ohe = pp.OneHotEncoder()\n",
    "\n",
    "#Numerical\n",
    "col_num = df4.select_dtypes(include=['int64', 'float64']).columns.tolist()\n",
    "\n",
    "#Categorical\n",
    "col_cat = df4.select_dtypes(exclude=['int64', 'float64', 'datetime64[ns]']).drop(['id', 'country_destination'], axis=1).columns.tolist()\n",
    "\n",
    "#encoding\n",
    "df4_dummy = pd.DataFrame(ohe.fit_transform( df4[ col_cat]).toarray(), index=df4.index)\n",
    "\n",
    "#join numerical and categorical\n",
    "df42 = pd.concat([df4[col_num], df4_dummy], axis=1)\n",
    "df42.shape"
   ]
  },
  {
   "cell_type": "markdown",
   "metadata": {},
   "source": [
    "## 4.1. Random Undersampling"
   ]
  },
  {
   "cell_type": "code",
   "execution_count": 34,
   "metadata": {
    "ExecuteTime": {
     "end_time": "2021-05-10T21:34:22.933715Z",
     "start_time": "2021-05-10T21:34:21.194884Z"
    }
   },
   "outputs": [],
   "source": [
    "#ratio_balanced\n",
    "ratio_balanced = {'NDF': 10000}\n",
    "\n",
    "#define sampler\n",
    "undersampling = us.RandomUnderSampler(sampling_strategy=ratio_balanced, random_state=32)\n",
    "\n",
    "#apply sampler\n",
    "X_under, y_under = undersampling.fit_resample(df42, df4['country_destination'])"
   ]
  },
  {
   "cell_type": "code",
   "execution_count": 35,
   "metadata": {
    "ExecuteTime": {
     "end_time": "2021-05-10T21:34:22.995656Z",
     "start_time": "2021-05-10T21:34:22.936692Z"
    }
   },
   "outputs": [
    {
     "data": {
      "text/plain": [
       "NDF      54852\n",
       "US       48057\n",
       "other     7511\n",
       "FR        3669\n",
       "IT        2014\n",
       "GB        1758\n",
       "ES        1685\n",
       "CA        1064\n",
       "DE         841\n",
       "NL         595\n",
       "AU         433\n",
       "PT         157\n",
       "Name: country_destination, dtype: int64"
      ]
     },
     "execution_count": 35,
     "metadata": {},
     "output_type": "execute_result"
    }
   ],
   "source": [
    "df4['country_destination'].value_counts()"
   ]
  },
  {
   "cell_type": "code",
   "execution_count": 36,
   "metadata": {
    "ExecuteTime": {
     "end_time": "2021-05-10T21:34:23.218517Z",
     "start_time": "2021-05-10T21:34:22.998654Z"
    }
   },
   "outputs": [
    {
     "data": {
      "text/plain": [
       "US       48057\n",
       "NDF      10000\n",
       "other     7511\n",
       "FR        3669\n",
       "IT        2014\n",
       "GB        1758\n",
       "ES        1685\n",
       "CA        1064\n",
       "DE         841\n",
       "NL         595\n",
       "AU         433\n",
       "PT         157\n",
       "Name: country_destination, dtype: int64"
      ]
     },
     "execution_count": 36,
     "metadata": {},
     "output_type": "execute_result"
    }
   ],
   "source": [
    "y_under.value_counts()"
   ]
  },
  {
   "cell_type": "markdown",
   "metadata": {},
   "source": [
    "## 4.2. Random Oversampling"
   ]
  },
  {
   "cell_type": "code",
   "execution_count": 37,
   "metadata": {
    "ExecuteTime": {
     "end_time": "2021-05-10T21:34:56.621980Z",
     "start_time": "2021-05-10T21:34:23.221517Z"
    }
   },
   "outputs": [],
   "source": [
    "#define sampler\n",
    "oversampling = oversamp.RandomOverSampler(sampling_strategy='all', random_state=32)\n",
    "\n",
    "#apply sampler\n",
    "X_over, y_over = oversampling.fit_resample(df42, df4['country_destination'])"
   ]
  },
  {
   "cell_type": "code",
   "execution_count": 38,
   "metadata": {
    "ExecuteTime": {
     "end_time": "2021-05-10T21:34:58.961414Z",
     "start_time": "2021-05-10T21:34:57.322009Z"
    }
   },
   "outputs": [
    {
     "data": {
      "text/plain": [
       "NDF      54852\n",
       "US       48057\n",
       "other     7511\n",
       "FR        3669\n",
       "IT        2014\n",
       "GB        1758\n",
       "ES        1685\n",
       "CA        1064\n",
       "DE         841\n",
       "NL         595\n",
       "AU         433\n",
       "PT         157\n",
       "Name: country_destination, dtype: int64"
      ]
     },
     "execution_count": 38,
     "metadata": {},
     "output_type": "execute_result"
    }
   ],
   "source": [
    "df4['country_destination'].value_counts()"
   ]
  },
  {
   "cell_type": "code",
   "execution_count": 39,
   "metadata": {
    "ExecuteTime": {
     "end_time": "2021-05-10T21:34:59.152774Z",
     "start_time": "2021-05-10T21:34:58.981400Z"
    }
   },
   "outputs": [
    {
     "data": {
      "text/plain": [
       "CA       54852\n",
       "GB       54852\n",
       "NDF      54852\n",
       "AU       54852\n",
       "FR       54852\n",
       "NL       54852\n",
       "PT       54852\n",
       "ES       54852\n",
       "US       54852\n",
       "other    54852\n",
       "IT       54852\n",
       "DE       54852\n",
       "Name: country_destination, dtype: int64"
      ]
     },
     "execution_count": 39,
     "metadata": {},
     "output_type": "execute_result"
    }
   ],
   "source": [
    "y_over.value_counts()"
   ]
  },
  {
   "cell_type": "markdown",
   "metadata": {},
   "source": [
    "## 4.3. SMOTE + TOMEKLINK"
   ]
  },
  {
   "cell_type": "code",
   "execution_count": 40,
   "metadata": {
    "ExecuteTime": {
     "end_time": "2021-05-10T21:34:59.736321Z",
     "start_time": "2021-05-10T21:34:59.320837Z"
    }
   },
   "outputs": [],
   "source": [
    "ratio_balanced =  {'NDF': 54852,\n",
    "                   'US':  48057,\n",
    "                   'other': 6*7511,\n",
    "                   'FR': 12*3669,\n",
    "                   'IT': 20*2014,\n",
    "                   'GB': 30*1758,\n",
    "                   'ES': 30*1685,\n",
    "                   'CA': 40*1064,\n",
    "                   'DE': 45*841,\n",
    "                   'NL': 80*595,\n",
    "                   'AU': 85*433,\n",
    "                   'PT': 300*157}"
   ]
  },
  {
   "cell_type": "code",
   "execution_count": 41,
   "metadata": {
    "ExecuteTime": {
     "end_time": "2021-05-10T21:35:00.250504Z",
     "start_time": "2021-05-10T21:34:59.893071Z"
    }
   },
   "outputs": [],
   "source": [
    "#define sampler\n",
    "smt = c.SMOTETomek(sampling_strategy=ratio_balanced, random_state=32, n_jobs=-1)"
   ]
  },
  {
   "cell_type": "code",
   "execution_count": 42,
   "metadata": {
    "ExecuteTime": {
     "end_time": "2021-05-10T21:35:00.343583Z",
     "start_time": "2021-05-10T21:35:00.250504Z"
    }
   },
   "outputs": [],
   "source": [
    "#apply sampler\n",
    "#X_smt, y_smt = smt.fit_resample(df42, df4['country_destination'])"
   ]
  },
  {
   "cell_type": "code",
   "execution_count": 43,
   "metadata": {
    "ExecuteTime": {
     "end_time": "2021-05-10T21:35:00.516652Z",
     "start_time": "2021-05-10T21:35:00.389577Z"
    }
   },
   "outputs": [],
   "source": [
    "#pickle.dump(X_smt, open('X_smt.pkl','wb'))\n",
    "#pickle.dump(y_smt, open('y_smt.pkl','wb'))"
   ]
  },
  {
   "cell_type": "code",
   "execution_count": 44,
   "metadata": {
    "ExecuteTime": {
     "end_time": "2021-05-10T21:35:00.672811Z",
     "start_time": "2021-05-10T21:35:00.552311Z"
    }
   },
   "outputs": [
    {
     "data": {
      "text/plain": [
       "NDF      54852\n",
       "US       48057\n",
       "other     7511\n",
       "FR        3669\n",
       "IT        2014\n",
       "GB        1758\n",
       "ES        1685\n",
       "CA        1064\n",
       "DE         841\n",
       "NL         595\n",
       "AU         433\n",
       "PT         157\n",
       "Name: country_destination, dtype: int64"
      ]
     },
     "execution_count": 44,
     "metadata": {},
     "output_type": "execute_result"
    }
   ],
   "source": [
    "df4['country_destination'].value_counts()"
   ]
  },
  {
   "cell_type": "code",
   "execution_count": 45,
   "metadata": {
    "ExecuteTime": {
     "end_time": "2021-05-10T21:35:00.939284Z",
     "start_time": "2021-05-10T21:35:00.675810Z"
    }
   },
   "outputs": [
    {
     "data": {
      "text/plain": [
       "CA       54852\n",
       "GB       54852\n",
       "NDF      54852\n",
       "AU       54852\n",
       "FR       54852\n",
       "NL       54852\n",
       "PT       54852\n",
       "ES       54852\n",
       "US       54852\n",
       "other    54852\n",
       "IT       54852\n",
       "DE       54852\n",
       "Name: country_destination, dtype: int64"
      ]
     },
     "execution_count": 45,
     "metadata": {},
     "output_type": "execute_result"
    }
   ],
   "source": [
    "y_over.value_counts()"
   ]
  },
  {
   "cell_type": "code",
   "execution_count": 46,
   "metadata": {
    "ExecuteTime": {
     "end_time": "2021-05-10T21:35:16.646456Z",
     "start_time": "2021-05-10T21:35:00.987254Z"
    }
   },
   "outputs": [],
   "source": [
    "X_smt = pickle.load(open('C:/Users/Henrique/repos/Airbnb/airbnb_predict_first_booking/X_smt.pkl', 'rb'))\n",
    "y_smt = pickle.load(open('C:/Users/Henrique/repos/Airbnb/airbnb_predict_first_booking/y_smt.pkl', 'rb'))"
   ]
  },
  {
   "cell_type": "code",
   "execution_count": 47,
   "metadata": {
    "ExecuteTime": {
     "end_time": "2021-05-10T21:35:36.188383Z",
     "start_time": "2021-05-10T21:35:16.648454Z"
    }
   },
   "outputs": [],
   "source": [
    "#numerical data\n",
    "df43 = X_smt[ col_num ]\n",
    "\n",
    "#categorical data\n",
    "df44 = X_smt.drop(col_num, axis=1)\n",
    "df45 = pd.DataFrame(ohe.inverse_transform(df44), columns=col_cat, index=df44.index)\n",
    "\n",
    "#join numerical categorical\n",
    "df46 = pd.concat([df43, df45], axis=1)\n",
    "df46['country_destination'] = y_smt"
   ]
  },
  {
   "cell_type": "markdown",
   "metadata": {},
   "source": [
    "# 5.0. Exploratory Data Analysis"
   ]
  },
  {
   "cell_type": "code",
   "execution_count": 48,
   "metadata": {
    "ExecuteTime": {
     "end_time": "2021-05-10T21:35:36.960844Z",
     "start_time": "2021-05-10T21:35:36.188383Z"
    }
   },
   "outputs": [],
   "source": [
    " df51 = df46.copy() #balanced dataset"
   ]
  },
  {
   "cell_type": "code",
   "execution_count": 49,
   "metadata": {
    "ExecuteTime": {
     "end_time": "2021-05-10T21:35:47.918373Z",
     "start_time": "2021-05-10T21:35:37.043978Z"
    }
   },
   "outputs": [],
   "source": [
    " df52 = df4.copy() #unbalanced dataset"
   ]
  },
  {
   "cell_type": "code",
   "execution_count": 51,
   "metadata": {
    "ExecuteTime": {
     "end_time": "2021-05-10T22:10:48.564524Z",
     "start_time": "2021-05-10T22:10:48.085398Z"
    }
   },
   "outputs": [
    {
     "data": {
      "text/plain": [
       "id                                               object\n",
       "gender                                           object\n",
       "age                                               int32\n",
       "signup_method                                    object\n",
       "signup_flow                                       int64\n",
       "language                                         object\n",
       "affiliate_channel                                object\n",
       "affiliate_provider                               object\n",
       "first_affiliate_tracked                          object\n",
       "signup_app                                       object\n",
       "first_device_type                                object\n",
       "first_browser                                    object\n",
       "country_destination                              object\n",
       "days_from_first_active_until_booking              int64\n",
       "days_from_first_active_until_account_created      int64\n",
       "days_from_account_created_until_first_booking     int64\n",
       "year_first_active                                 int64\n",
       "month_first_active                                int64\n",
       "day_first_active                                  int64\n",
       "day_of_week_first_active                          int64\n",
       "week_of_year_first_active                         int64\n",
       "year_first_booking                                int64\n",
       "month_first_booking                               int64\n",
       "day_first_booking                                 int64\n",
       "day_of_week_first_booking                         int64\n",
       "week_of_year_first_booking                        int64\n",
       "year_account_created                              int64\n",
       "month_account_created                             int64\n",
       "day_account_created                               int64\n",
       "day_of_week_account_created                       int64\n",
       "week_of_year_account_created                      int64\n",
       "dtype: object"
      ]
     },
     "execution_count": 51,
     "metadata": {},
     "output_type": "execute_result"
    }
   ],
   "source": [
    "df52.dtypes.T"
   ]
  },
  {
   "cell_type": "markdown",
   "metadata": {},
   "source": [
    "## 5.1. Hypothesis Validation - Unbalanced Dataset"
   ]
  },
  {
   "cell_type": "markdown",
   "metadata": {},
   "source": [
    "**H01.** Em todos os destinos, os usuários levam 15 dias, em média, para fazer a primeira reserva no Airbnb, desde sua primeira ativacao.\n",
    "\n",
    "**Verdadeiro.** Em todos os destinos, os usuários até 6 dias para reservar o primeiro Airbnb"
   ]
  },
  {
   "cell_type": "code",
   "execution_count": 52,
   "metadata": {
    "ExecuteTime": {
     "end_time": "2021-05-10T22:10:56.983851Z",
     "start_time": "2021-05-10T22:10:50.169091Z"
    }
   },
   "outputs": [
    {
     "data": {
      "text/plain": [
       "<AxesSubplot:xlabel='country_destination', ylabel='days_from_first_active_until_booking'>"
      ]
     },
     "execution_count": 52,
     "metadata": {},
     "output_type": "execute_result"
    },
    {
     "data": {
      "image/png": "[encoded data removed]",
      "text/plain": [
       "<Figure size 1440x864 with 2 Axes>"
      ]
     },
     "metadata": {
      "needs_background": "light"
     },
     "output_type": "display_data"
    }
   ],
   "source": [
    "plt.figure(figsize=(20, 12))\n",
    "plt.subplot(3, 1, 1)\n",
    "aux01 = df52[['days_from_first_active_until_booking', 'country_destination']].groupby('country_destination').median().reset_index()\n",
    "sns.barplot(x='country_destination', y='days_from_first_active_until_booking', \n",
    "             data=aux01.sort_values('days_from_first_active_until_booking'))\n",
    "\n",
    "# remove outlier\n",
    "plt.subplot(3, 1, 2)\n",
    "aux02 = df52[(df52['country_destination'] != 'NDF') & (df52['country_destination'] != 'other')]\n",
    "aux02 = aux02[['days_from_first_active_until_booking', 'country_destination']].groupby('country_destination').median().reset_index()\n",
    "sns.barplot( x='country_destination', y='days_from_first_active_until_booking', \n",
    "             data=aux02.sort_values('days_from_first_active_until_booking'))"
   ]
  },
  {
   "cell_type": "code",
   "execution_count": 53,
   "metadata": {
    "ExecuteTime": {
     "end_time": "2021-05-10T22:10:57.014832Z",
     "start_time": "2021-05-10T22:10:56.986849Z"
    }
   },
   "outputs": [],
   "source": [
    "#aux03 = df52[(df52['days_from_first_active_until_booking'] < 10) & (df52['country_destination'] == 'US')]['days_from_first_active_until_booking']\n",
    "#plt.boxplot(aux03)"
   ]
  },
  {
   "cell_type": "markdown",
   "metadata": {},
   "source": [
    "**H02.** Em todos os destinos, os usuários levam 3 dias, em média, para fazer o cadastro no site.\n",
    "\n",
    "**Verdadeira.** Em todos os destinos, os usuários levam até 2 dias para finalizar o cadastro"
   ]
  },
  {
   "cell_type": "code",
   "execution_count": 54,
   "metadata": {
    "ExecuteTime": {
     "end_time": "2021-05-10T22:10:57.984512Z",
     "start_time": "2021-05-10T22:10:57.018838Z"
    }
   },
   "outputs": [
    {
     "data": {
      "text/plain": [
       "<AxesSubplot:xlabel='country_destination', ylabel='days_from_first_active_until_account_created'>"
      ]
     },
     "execution_count": 54,
     "metadata": {},
     "output_type": "execute_result"
    },
    {
     "data": {
      "image/png": "[encoded data removed]",
      "text/plain": [
       "<Figure size 1440x864 with 1 Axes>"
      ]
     },
     "metadata": {
      "needs_background": "light"
     },
     "output_type": "display_data"
    }
   ],
   "source": [
    "plt.figure(figsize=(20, 12))\n",
    "aux01 = df52[['days_from_first_active_until_account_created', 'country_destination']].groupby('country_destination').mean().reset_index()\n",
    "sns.barplot(x='country_destination', y='days_from_first_active_until_account_created', \n",
    "             data=aux01.sort_values('days_from_first_active_until_account_created'))"
   ]
  },
  {
   "cell_type": "markdown",
   "metadata": {},
   "source": [
    "**H03.** O volume de reservas anual feitas durante o verão aumentaram 20% para destinos dentro dos USA.\n",
    "\n",
    "**False.** O Volume de reservas aumenta durante o verão entre os anos de 2010 até 2013."
   ]
  },
  {
   "cell_type": "code",
   "execution_count": 55,
   "metadata": {
    "ExecuteTime": {
     "end_time": "2021-05-10T22:10:58.719308Z",
     "start_time": "2021-05-10T22:10:57.986511Z"
    }
   },
   "outputs": [
    {
     "data": {
      "text/plain": [
       "<AxesSubplot:xlabel='year_first_booking', ylabel='delta'>"
      ]
     },
     "execution_count": 55,
     "metadata": {},
     "output_type": "execute_result"
    },
    {
     "data": {
      "image/png": "[encoded data removed]",
      "text/plain": [
       "<Figure size 1440x864 with 1 Axes>"
      ]
     },
     "metadata": {
      "needs_background": "light"
     },
     "output_type": "display_data"
    }
   ],
   "source": [
    "aux01 = df52[['year_first_booking', 'month_first_booking', 'country_destination']].\\\n",
    "                groupby(['year_first_booking', 'month_first_booking', 'country_destination']). \\\n",
    "                size().reset_index().rename(columns={0:'count'})\n",
    "\n",
    "# select only summer\n",
    "aux01 = aux01[(aux01['month_first_booking'].isin([7, 8, 9])) & (aux01['country_destination'] == 'US')]\n",
    "\n",
    "aux02 = aux01[['year_first_booking', 'count']].groupby('year_first_booking').sum().reset_index()\n",
    "\n",
    "aux02['delta'] = 100*aux02['count'].pct_change().fillna(0)\n",
    "\n",
    "plt.figure(figsize=(20,12))\n",
    "sns.barplot(x='year_first_booking', y='delta', data=aux02)"
   ]
  },
  {
   "cell_type": "code",
   "execution_count": 56,
   "metadata": {
    "ExecuteTime": {
     "end_time": "2021-05-10T22:10:58.860258Z",
     "start_time": "2021-05-10T22:10:58.724302Z"
    }
   },
   "outputs": [
    {
     "name": "stdout",
     "output_type": "stream",
     "text": [
      "5\n",
      "0\n",
      "1\n",
      "2\n",
      "3\n"
     ]
    }
   ],
   "source": [
    "#perc_dict = {}\n",
    "\n",
    "#print(len(aux02['count']))\n",
    "\n",
    "#for i in range(len(aux02['count'])):\n",
    "#    if i != 4:\n",
    "#        print(i)\n",
    "#        y = aux02['year_first_booking'][i+1]\n",
    "#        perc = ((aux02['count'][i+1]*100)/(aux02['count'][i]))-100\n",
    "#        perc_dict[y] = perc\n",
    "#    else:\n",
    "#        exit"
   ]
  },
  {
   "cell_type": "markdown",
   "metadata": {},
   "source": [
    "## 5.2. Variables Impact ( Balanced Dataset )"
   ]
  },
  {
   "cell_type": "markdown",
   "metadata": {},
   "source": [
    "### 5.2.1. Univariate Analysis"
   ]
  },
  {
   "cell_type": "code",
   "execution_count": null,
   "metadata": {},
   "outputs": [],
   "source": [
    "profile = ProfileReport(df51, title='Airbnb Booking')\n",
    "#profile.to_notebook_iframe()\n",
    "profile.to_file(output_file='airbnb_booking_statistics_after_cleaning.html')"
   ]
  },
  {
   "cell_type": "code",
   "execution_count": null,
   "metadata": {},
   "outputs": [],
   "source": [
    "# ===================== High Correlation  ===================== \n",
    "# days_from_first_active_until_booking x days_from_account_created_until_first_booking\n",
    "# Remove: days_from_first_active_until_booking\n",
    "\n",
    "# year_first_active x year_account_created\n",
    "# Remove: year_first_active\n",
    "\n",
    "# month_first_active x month_account_created\n",
    "# Remove: month_first_active\n",
    "\n",
    "# day_first_active x day_account_created\n",
    "# Remove: day_first_active\n",
    "\n",
    "# day_of_week_first_active x day_of_week_account_created\n",
    "# Remove: day_of_week_first_active\n",
    "\n",
    "# week_of_year_first_active x week_of_year_account_created\n",
    "# Remove: week_of_year_first_active\n",
    "\n",
    "# month_first_booking x week_of_year_first_booking\n",
    "# Remove: month_first_booking\n",
    "\n",
    "# month_account_created x week_of_year_account_created\n",
    "# Remove: month_account_created\n",
    "\n",
    "# year_first_booking x year_account_created\n",
    "# Remove: year_first_booking\n",
    "\n",
    "# week_of_year_first_booking x week_of_year_account_created\n",
    "# Remove: week_of_year_first_booking\n",
    "\n",
    "# affiliate_channel x affiliate_provider\n",
    "# Remove: affiliate_provider\n",
    "\n",
    "# first_device_type x first_browser\n",
    "# Remove: first_browser\n",
    "\n",
    "#first_device_type x sigup_app\n",
    "#Remove: first_device_type"
   ]
  },
  {
   "cell_type": "markdown",
   "metadata": {},
   "source": [
    " ### 5.2.2 Bivariate Analysis"
   ]
  },
  {
   "cell_type": "markdown",
   "metadata": {},
   "source": [
    "###  5.2.3. Multivariate Analysis"
   ]
  },
  {
   "cell_type": "code",
   "execution_count": null,
   "metadata": {},
   "outputs": [],
   "source": []
  },
  {
   "cell_type": "markdown",
   "metadata": {},
   "source": [
    "# 5.0. Data Preparation"
   ]
  },
  {
   "cell_type": "code",
   "execution_count": null,
   "metadata": {
    "ExecuteTime": {
     "end_time": "2021-05-10T21:36:20.793062Z",
     "start_time": "2021-05-10T21:30:55.088Z"
    }
   },
   "outputs": [],
   "source": [
    "df5 = df4.copy()"
   ]
  },
  {
   "cell_type": "code",
   "execution_count": null,
   "metadata": {
    "ExecuteTime": {
     "end_time": "2021-05-10T21:36:20.814050Z",
     "start_time": "2021-05-10T21:30:55.090Z"
    }
   },
   "outputs": [],
   "source": [
    "#dummy variable\n",
    "df5_dummy = pd.get_dummies(df5.drop(['id','country_destination'], axis=1))\n",
    "\n",
    "#join id and country destination\n",
    "df5 = pd.concat([df5[['id','country_destination']], df5_dummy], axis=1)"
   ]
  },
  {
   "cell_type": "code",
   "execution_count": null,
   "metadata": {
    "ExecuteTime": {
     "end_time": "2021-05-10T21:36:20.815049Z",
     "start_time": "2021-05-10T21:30:55.093Z"
    }
   },
   "outputs": [],
   "source": [
    "df5.shape"
   ]
  },
  {
   "cell_type": "markdown",
   "metadata": {},
   "source": [
    "# 6.0. Feature Seleciotn"
   ]
  },
  {
   "cell_type": "code",
   "execution_count": null,
   "metadata": {
    "ExecuteTime": {
     "end_time": "2021-05-10T21:36:20.816048Z",
     "start_time": "2021-05-10T21:30:55.095Z"
    }
   },
   "outputs": [],
   "source": [
    "#cols_drop = ['date_account_created', 'timestamp_first_active', 'date_first_booking', 'first_active'] # original dates\n",
    "df6 = df5.drop(cols_drop, axis=1)"
   ]
  },
  {
   "cell_type": "code",
   "execution_count": null,
   "metadata": {
    "ExecuteTime": {
     "end_time": "2021-05-10T21:36:20.842029Z",
     "start_time": "2021-05-10T21:30:55.098Z"
    }
   },
   "outputs": [],
   "source": [
    "X = df6.drop(['id', 'country_destination'], axis=1)\n",
    "y = df6['country_destination'].copy()"
   ]
  },
  {
   "cell_type": "code",
   "execution_count": null,
   "metadata": {
    "ExecuteTime": {
     "end_time": "2021-05-10T21:36:20.866513Z",
     "start_time": "2021-05-10T21:30:55.100Z"
    }
   },
   "outputs": [],
   "source": [
    "#split dataset into train and test\n",
    "X_train, X_test, y_train, y_test = ms.train_test_split(X, y, test_size=0.2, random_state=32)"
   ]
  },
  {
   "cell_type": "markdown",
   "metadata": {},
   "source": [
    "# 7.0. Machine Learning"
   ]
  },
  {
   "cell_type": "markdown",
   "metadata": {},
   "source": [
    "## 7.1. Baseline Model"
   ]
  },
  {
   "cell_type": "code",
   "execution_count": null,
   "metadata": {
    "ExecuteTime": {
     "end_time": "2021-05-10T21:36:20.873509Z",
     "start_time": "2021-05-10T21:30:55.103Z"
    }
   },
   "outputs": [],
   "source": [
    "country_destination_list = df1['country_destination'].drop_duplicates().sort_values().tolist()\n",
    "k_num = y_test.shape[0]\n",
    "country_destination_weights = df1['country_destination'].value_counts(normalize=True).sort_index().tolist()\n",
    "\n",
    "yhat_random = random.choices(population=country_destination_list, \n",
    "                             weights=country_destination_weights,\n",
    "                             k=k_num)"
   ]
  },
  {
   "cell_type": "markdown",
   "metadata": {},
   "source": [
    "### 7.1.1. Baseline Performance"
   ]
  },
  {
   "cell_type": "code",
   "execution_count": null,
   "metadata": {
    "ExecuteTime": {
     "end_time": "2021-05-10T21:36:20.875508Z",
     "start_time": "2021-05-10T21:30:55.106Z"
    }
   },
   "outputs": [],
   "source": [
    "#accuracy\n",
    "acc_random = m.accuracy_score(y_test, yhat_random)\n",
    "print('Accuracy: {}'.format(acc_random))\n",
    "\n",
    "#balanced accuracy\n",
    "balanced_acc_random = m.balanced_accuracy_score(y_test, yhat_random)\n",
    "print('Balanced Accuracy: {}'.format(balanced_acc_random))\n",
    "\n",
    "#Kappa metrics\n",
    "kappa_random = m.cohen_kappa_score(y_test, yhat_random)\n",
    "print('Kappa Accuracy: {}'.format(kappa_random))\n",
    "\n",
    "#Classification report\n",
    "print( m.classification_report( y_test, yhat_random ) )\n",
    "\n",
    "#Confusion Matrix\n",
    "mt.plot_confusion_matrix( y_test, yhat_random, normalize=False, figsize=(12,12))"
   ]
  },
  {
   "cell_type": "markdown",
   "metadata": {},
   "source": [
    "## 7.2. Neural Network - MLP"
   ]
  },
  {
   "cell_type": "code",
   "execution_count": null,
   "metadata": {
    "ExecuteTime": {
     "end_time": "2021-05-10T21:36:20.889498Z",
     "start_time": "2021-05-10T21:30:55.109Z"
    }
   },
   "outputs": [],
   "source": [
    "ohe = pp.OneHotEncoder()\n",
    "y_train_nn = ohe.fit_transform(y_train.values.reshape(-1, 1)).toarray()"
   ]
  },
  {
   "cell_type": "code",
   "execution_count": null,
   "metadata": {
    "ExecuteTime": {
     "end_time": "2021-05-10T21:36:20.891497Z",
     "start_time": "2021-05-10T21:30:55.111Z"
    }
   },
   "outputs": [],
   "source": [
    "X_train.shape"
   ]
  },
  {
   "cell_type": "code",
   "execution_count": null,
   "metadata": {
    "ExecuteTime": {
     "end_time": "2021-05-10T21:36:20.893497Z",
     "start_time": "2021-05-10T21:30:55.113Z"
    }
   },
   "outputs": [],
   "source": [
    "# model definition\n",
    "model = ml.Sequential()\n",
    "model.add(l.Dense(256, input_dim=X_train.shape[1], activation='relu'))\n",
    "model.add(l.Dense(12, activation='softmax'))\n",
    "\n",
    "# model compile\n",
    "model.compile(loss='categorical_crossentropy', optimizer='adam', metrics=['accuracy'])\n",
    "\n",
    "# train model\n",
    "model.fit(X_train, y_train_nn, epochs=100)"
   ]
  },
  {
   "cell_type": "markdown",
   "metadata": {},
   "source": [
    "### 7.2.1. NN Performance"
   ]
  },
  {
   "cell_type": "code",
   "execution_count": null,
   "metadata": {
    "ExecuteTime": {
     "end_time": "2021-05-10T21:36:20.895495Z",
     "start_time": "2021-05-10T21:30:55.116Z"
    }
   },
   "outputs": [],
   "source": [
    "#prediction\n",
    "pred_nn = model.predict(X_test)\n",
    "\n",
    "#invert prediction\n",
    "yhat_nn = ohe.inverse_transform(pred_nn)\n",
    "\n",
    "#prediction prepare\n",
    "y_test_nn = y_test.to_numpy()\n",
    "yhat_nn = yhat_nn.reshape(1, -1)[0]"
   ]
  },
  {
   "cell_type": "code",
   "execution_count": null,
   "metadata": {
    "ExecuteTime": {
     "end_time": "2021-05-10T21:36:20.896494Z",
     "start_time": "2021-05-10T21:30:55.118Z"
    }
   },
   "outputs": [],
   "source": [
    "#accuracy\n",
    "acc_nn = m.accuracy_score(y_test_nn, yhat_nn)\n",
    "print('Accuracy: {}'.format(acc_nn))\n",
    "\n",
    "#balanced accuracy\n",
    "balanced_acc_nn = m.balanced_accuracy_score(y_test_nn, yhat_nn)\n",
    "print('Balanced Accuracy: {}'.format(balanced_acc_nn))\n",
    "\n",
    "#Kappa metrics\n",
    "kappa_nn = m.cohen_kappa_score(y_test_nn, yhat_nn)\n",
    "print('Kappa Accuracy: {}'.format(kappa_nn))\n",
    "\n",
    "#confusion matrix\n",
    "mt.plot_confusion_matrix(y_test_nn, yhat_nn, normalize=False, figsize=(12,12))"
   ]
  },
  {
   "cell_type": "markdown",
   "metadata": {
    "ExecuteTime": {
     "end_time": "2021-04-25T22:02:10.795631Z",
     "start_time": "2021-04-25T22:02:10.777644Z"
    }
   },
   "source": [
    "### 7.2.2. NN Performance - Cross-Validation"
   ]
  },
  {
   "cell_type": "code",
   "execution_count": null,
   "metadata": {
    "ExecuteTime": {
     "end_time": "2021-05-10T21:36:20.898493Z",
     "start_time": "2021-05-10T21:30:55.121Z"
    }
   },
   "outputs": [],
   "source": [
    "# generate k-fold\n",
    "num_folds = 5\n",
    "kfold = ms.StratifiedKFold(n_splits=num_folds, shuffle=True, random_state=32)\n",
    "\n",
    "balanced_acc_list = []\n",
    "kappa_acc_list = []\n",
    "\n",
    "i = 1\n",
    "\n",
    "for train_ix, val_ix in kfold.split(X_train, y_train):\n",
    "    print('Fold Number: {}/{}'.format(i, num_folds))\n",
    "    \n",
    "    #get fold\n",
    "    x_train_fold = X_train.iloc[train_ix]\n",
    "    y_train_fold = y_train.iloc[train_ix]\n",
    "    \n",
    "    x_val_fold = X_train.iloc[val_ix]\n",
    "    y_val_fold = y_train.iloc[val_ix]\n",
    "    \n",
    "    #target hot-enconding\n",
    "    ohe = pp.OneHotEncoder()\n",
    "    y_train_fold_nn = ohe.fit_transform(y_train_fold.values.reshape(-1,1)).toarray()\n",
    "    \n",
    "    #model definition\n",
    "    model = ml.Sequential()\n",
    "    model.add(l.Dense(256, input_dim=X_train.shape[1], activation='relu'))\n",
    "    model.add(l.Dense(12, activation='softmax'))\n",
    "    \n",
    "    #compile model\n",
    "    model.compile(loss='categorical_crossentropy', optimizer='adam', metrics=['accuracy'])\n",
    "    \n",
    "    #training model\n",
    "    model.fit(x_train_fold, y_train_fold_nn, epochs=100, batch_size=32, verbose=0)\n",
    "    \n",
    "    #prediction\n",
    "    pred_nn = model.predict(x_val_fold)\n",
    "    yhat_nn = ohe.inverse_transform(pred_nn)\n",
    "    \n",
    "    #prepare data\n",
    "    y_test_nn = y_val_fold.to_numpy()\n",
    "    yhat_nn = yhat_nn.reshape(1, -1)[0]\n",
    "    \n",
    "    #metrics\n",
    "    ##Balanced Accuracy\n",
    "    baanced_acc_nn = m.balanced_accuracy_score(y_test_nn, yhat_nn)\n",
    "    balanced_acc_list.append(balanced_acc_nn)\n",
    "    \n",
    "    ##Kappa Metrics\n",
    "    kappa_acc_nn = m.cohen_kappa_score(y_test_nn, yhat_nn)\n",
    "    kappa_acc_list.append(kappa_acc_nn)\n",
    "    \n",
    "    i+=1\n"
   ]
  },
  {
   "cell_type": "code",
   "execution_count": null,
   "metadata": {
    "ExecuteTime": {
     "end_time": "2021-05-10T21:36:20.899493Z",
     "start_time": "2021-05-10T21:30:55.123Z"
    }
   },
   "outputs": [],
   "source": [
    "pickle.dump(balanced_acc_list, open('balanced_acc_list.pkl','wb'))\n",
    "pickle.dump(kappa_acc_list, open('kappa_acc_list.pkl','wb'))"
   ]
  },
  {
   "cell_type": "code",
   "execution_count": null,
   "metadata": {
    "ExecuteTime": {
     "end_time": "2021-05-10T21:36:20.901492Z",
     "start_time": "2021-05-10T21:30:55.125Z"
    }
   },
   "outputs": [],
   "source": [
    "print('Avg Balanced Accuracy: {} +/- {}'.format(np.round(np.mean(balanced_acc_list),2),\n",
    "                                                np.round(np.std(balanced_acc_list),4)))\n",
    "print('Avg Kappa Accuracy: {} +/- {}'.format(np.round(np.mean(kappa_acc_list),2),\n",
    "                                             np.round(np.std(kappa_acc_list)),4))"
   ]
  },
  {
   "cell_type": "code",
   "execution_count": null,
   "metadata": {},
   "outputs": [],
   "source": []
  }
 ],
 "metadata": {
  "kernelspec": {
   "display_name": "Python 3",
   "language": "python",
   "name": "python3"
  },
  "language_info": {
   "codemirror_mode": {
    "name": "ipython",
    "version": 3
   },
   "file_extension": ".py",
   "mimetype": "text/x-python",
   "name": "python",
   "nbconvert_exporter": "python",
   "pygments_lexer": "ipython3",
   "version": "3.8.5"
  }
 },
 "nbformat": 4,
 "nbformat_minor": 4
}
