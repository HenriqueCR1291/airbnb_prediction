{
 "cells": [
  {
   "cell_type": "markdown",
   "metadata": {
    "ExecuteTime": {
     "end_time": "2021-04-21T19:35:21.931278Z",
     "start_time": "2021-04-21T19:35:21.926280Z"
    }
   },
   "source": [
    "# 0.0. Understanding the problem"
   ]
  },
  {
   "cell_type": "markdown",
   "metadata": {},
   "source": [
    "--Goal:\n",
    "    \n",
    "    --1.0 Predict the first destination that the new user will choose\n",
    "    \n",
    "    --Why?\n",
    "        --What is the business model of Airbnb?\n",
    "            --Marketplace (connect people who offer acomodation to whom are seeking a place)\n",
    "            --Offer\n",
    "                --Portfolio size\n",
    "                --Portfolio diversity and density\n",
    "                --Average price\n",
    "                \n",
    "            --Demand\n",
    "                --Number of users\n",
    "                --LTV (lifetime value)\n",
    "                --CAC (client acquisition cost)\n",
    "                \n",
    "                Gross Revenue = (Fee*Number of clients) - CAC\n",
    "                \n",
    "--Solution:\n",
    "    \n",
    "    --Predictive model for the first destination of new user\n",
    "    --1.0 Prediction save in a database\n",
    "    --2.0 API\n",
    "        --Input: User and features\n",
    "        --Output: User and feature with destination prediction\n",
    "        "
   ]
  },
  {
   "cell_type": "markdown",
   "metadata": {},
   "source": [
    "# Module 1"
   ]
  },
  {
   "cell_type": "markdown",
   "metadata": {},
   "source": [
    "## 0.0. Imports"
   ]
  },
  {
   "cell_type": "code",
   "execution_count": 3,
   "metadata": {
    "ExecuteTime": {
     "end_time": "2021-05-20T23:55:29.199385Z",
     "start_time": "2021-05-20T23:53:16.996306Z"
    }
   },
   "outputs": [],
   "source": [
    "#!pip install keras\n",
    "#!pip install tensorflow\n",
    "#!pip install scikit-plot\n",
    "#!pip install imblearn\n",
    "#!pip install delayed\n",
    "#!pip install pandas-profiling\n",
    "#!pip install matplotlib\n",
    "#!pip install category_encoders\n",
    "\n",
    "import random\n",
    "import pickle\n",
    "\n",
    "import numpy   as np\n",
    "import pandas  as pd\n",
    "import seaborn as sns\n",
    "\n",
    "from sklearn    import model_selection as ms\n",
    "from sklearn    import preprocessing   as pp\n",
    "from sklearn    import metrics         as m\n",
    "from scikitplot import metrics         as mt\n",
    "from scipy      import stats           as ss\n",
    "from imblearn   import under_sampling  as us\n",
    "from imblearn   import over_sampling   as oversamp\n",
    "from imblearn   import combine         as c\n",
    "from keras      import models          as ml\n",
    "from keras      import layers          as l\n",
    "from matplotlib import pyplot          as plt\n",
    "\n",
    "from category_encoders import TargetEncoder\n",
    "from pandas_profiling  import ProfileReport"
   ]
  },
  {
   "cell_type": "markdown",
   "metadata": {},
   "source": [
    "### 0.1. Helper Functions"
   ]
  },
  {
   "cell_type": "code",
   "execution_count": 4,
   "metadata": {
    "ExecuteTime": {
     "end_time": "2021-05-20T23:55:29.215374Z",
     "start_time": "2021-05-20T23:55:29.201384Z"
    }
   },
   "outputs": [],
   "source": [
    "def cramer_v( x, y ):\n",
    "    cm = pd.crosstab( x, y ).values\n",
    "    n = cm.sum()\n",
    "    r, k = cm.shape\n",
    "    \n",
    "    chi2 = ss.chi2_contingency( cm )[0]\n",
    "    chi2corr = max( 0, chi2 - (k-1)*(r-1)/(n-1) )\n",
    "    \n",
    "    kcorr = k - (k-1)**2/(n-1)\n",
    "    rcorr = r - (r-1)**2/(n-1)\n",
    "    \n",
    "    return np.sqrt( (chi2corr/n) / ( min( kcorr-1, rcorr-1 ) ) )"
   ]
  },
  {
   "cell_type": "markdown",
   "metadata": {},
   "source": [
    "### 0.2. Loading Data"
   ]
  },
  {
   "cell_type": "code",
   "execution_count": 5,
   "metadata": {
    "ExecuteTime": {
     "end_time": "2021-05-20T23:55:32.976655Z",
     "start_time": "2021-05-20T23:55:29.218373Z"
    }
   },
   "outputs": [
    {
     "data": {
      "text/plain": [
       "(213451, 16)"
      ]
     },
     "execution_count": 5,
     "metadata": {},
     "output_type": "execute_result"
    }
   ],
   "source": [
    "df_raw = pd.read_csv('dataset/train_users_2.csv', low_memory=True)\n",
    "df_raw.shape"
   ]
  },
  {
   "cell_type": "code",
   "execution_count": 6,
   "metadata": {
    "ExecuteTime": {
     "end_time": "2021-05-20T23:56:18.606230Z",
     "start_time": "2021-05-20T23:55:32.978653Z"
    }
   },
   "outputs": [
    {
     "data": {
      "text/plain": [
       "(10567737, 6)"
      ]
     },
     "execution_count": 6,
     "metadata": {},
     "output_type": "execute_result"
    }
   ],
   "source": [
    "df_sessions = pd.read_csv('dataset/sessions.csv', low_memory=True)\n",
    "df_sessions.shape"
   ]
  },
  {
   "cell_type": "markdown",
   "metadata": {},
   "source": [
    "# 1.0. Data Description"
   ]
  },
  {
   "cell_type": "code",
   "execution_count": 7,
   "metadata": {
    "ExecuteTime": {
     "end_time": "2021-05-20T23:56:18.638210Z",
     "start_time": "2021-05-20T23:56:18.608225Z"
    }
   },
   "outputs": [],
   "source": [
    "df1 = df_raw.copy()"
   ]
  },
  {
   "cell_type": "markdown",
   "metadata": {},
   "source": [
    "## 1.1. Data Dimensions"
   ]
  },
  {
   "cell_type": "code",
   "execution_count": 8,
   "metadata": {
    "ExecuteTime": {
     "end_time": "2021-05-20T23:56:19.520170Z",
     "start_time": "2021-05-20T23:56:18.641206Z"
    }
   },
   "outputs": [
    {
     "name": "stdout",
     "output_type": "stream",
     "text": [
      "Number of rows: 213451\n",
      "Number of columns: 16\n"
     ]
    }
   ],
   "source": [
    "print('Number of rows: {}'.format(df1.shape[0]))\n",
    "print('Number of columns: {}'.format(df1.shape[1]))"
   ]
  },
  {
   "cell_type": "code",
   "execution_count": 9,
   "metadata": {
    "ExecuteTime": {
     "end_time": "2021-05-20T23:56:20.164714Z",
     "start_time": "2021-05-20T23:56:19.522166Z"
    }
   },
   "outputs": [
    {
     "name": "stdout",
     "output_type": "stream",
     "text": [
      "Number of rows: 10567737\n",
      "Number of columns: 6\n"
     ]
    }
   ],
   "source": [
    "print('Number of rows: {}'.format(df_sessions.shape[0]))\n",
    "print('Number of columns: {}'.format(df_sessions.shape[1]))"
   ]
  },
  {
   "cell_type": "markdown",
   "metadata": {},
   "source": [
    "## 1.2. Data Type"
   ]
  },
  {
   "cell_type": "code",
   "execution_count": 10,
   "metadata": {
    "ExecuteTime": {
     "end_time": "2021-05-20T23:56:24.626713Z",
     "start_time": "2021-05-20T23:56:20.167712Z"
    }
   },
   "outputs": [
    {
     "data": {
      "text/plain": [
       "id                          object\n",
       "date_account_created        object\n",
       "timestamp_first_active       int64\n",
       "date_first_booking          object\n",
       "gender                      object\n",
       "age                        float64\n",
       "signup_method               object\n",
       "signup_flow                  int64\n",
       "language                    object\n",
       "affiliate_channel           object\n",
       "affiliate_provider          object\n",
       "first_affiliate_tracked     object\n",
       "signup_app                  object\n",
       "first_device_type           object\n",
       "first_browser               object\n",
       "country_destination         object\n",
       "dtype: object"
      ]
     },
     "execution_count": 10,
     "metadata": {},
     "output_type": "execute_result"
    }
   ],
   "source": [
    "df1.dtypes"
   ]
  },
  {
   "cell_type": "code",
   "execution_count": 11,
   "metadata": {
    "ExecuteTime": {
     "end_time": "2021-05-20T23:56:25.313100Z",
     "start_time": "2021-05-20T23:56:24.628711Z"
    }
   },
   "outputs": [
    {
     "data": {
      "text/plain": [
       "user_id           object\n",
       "action            object\n",
       "action_type       object\n",
       "action_detail     object\n",
       "device_type       object\n",
       "secs_elapsed     float64\n",
       "dtype: object"
      ]
     },
     "execution_count": 11,
     "metadata": {},
     "output_type": "execute_result"
    }
   ],
   "source": [
    "df_sessions.dtypes"
   ]
  },
  {
   "cell_type": "markdown",
   "metadata": {},
   "source": [
    "## 1.3. NA Check"
   ]
  },
  {
   "cell_type": "code",
   "execution_count": 12,
   "metadata": {
    "ExecuteTime": {
     "end_time": "2021-05-20T23:56:27.689671Z",
     "start_time": "2021-05-20T23:56:25.315099Z"
    }
   },
   "outputs": [
    {
     "data": {
      "text/plain": [
       "id                         0.000000\n",
       "date_account_created       0.000000\n",
       "timestamp_first_active     0.000000\n",
       "date_first_booking         0.583473\n",
       "gender                     0.000000\n",
       "age                        0.412226\n",
       "signup_method              0.000000\n",
       "signup_flow                0.000000\n",
       "language                   0.000000\n",
       "affiliate_channel          0.000000\n",
       "affiliate_provider         0.000000\n",
       "first_affiliate_tracked    0.028414\n",
       "signup_app                 0.000000\n",
       "first_device_type          0.000000\n",
       "first_browser              0.000000\n",
       "country_destination        0.000000\n",
       "dtype: float64"
      ]
     },
     "execution_count": 12,
     "metadata": {},
     "output_type": "execute_result"
    }
   ],
   "source": [
    "df1.isna().sum()/len(df1)"
   ]
  },
  {
   "cell_type": "code",
   "execution_count": 13,
   "metadata": {
    "ExecuteTime": {
     "end_time": "2021-05-20T23:56:30.307665Z",
     "start_time": "2021-05-20T23:56:27.692667Z"
    }
   },
   "outputs": [
    {
     "data": {
      "text/plain": [
       "user_id          0.003264\n",
       "action           0.007535\n",
       "action_type      0.106570\n",
       "action_detail    0.106570\n",
       "device_type      0.000000\n",
       "secs_elapsed     0.012872\n",
       "dtype: float64"
      ]
     },
     "execution_count": 13,
     "metadata": {},
     "output_type": "execute_result"
    }
   ],
   "source": [
    "df_sessions.isna().sum()/len(df_sessions)"
   ]
  },
  {
   "cell_type": "code",
   "execution_count": 14,
   "metadata": {
    "ExecuteTime": {
     "end_time": "2021-05-20T23:56:48.812989Z",
     "start_time": "2021-05-20T23:56:30.309665Z"
    }
   },
   "outputs": [],
   "source": [
    "#date_first_booking\n",
    "date_first_booking_max = pd.to_datetime(df1['date_first_booking']).max().strftime('%Y-%m-%d')\n",
    "df1['date_first_booking'] = df1['date_first_booking'].fillna(date_first_booking_max)\n",
    "\n",
    "\n",
    "# ========== User =================\n",
    "# age\n",
    "df1 = df1[( df1['age'] > 15 ) & ( df1['age'] < 120 )]\n",
    "avg_age = df1['age'].mean()\n",
    "df1['age'] = df1['age'].fillna( avg_age )\n",
    "\n",
    "#first_affiliate_tracked\n",
    "df1 = df1[~df1['first_affiliate_tracked'].isna()]\n",
    "\n",
    "\n",
    "# ========== Sessions =================\n",
    "#user_id\n",
    "df_sessions = df_sessions[~df_sessions['user_id'].isna()]\n",
    "\n",
    "#action\n",
    "df_sessions = df_sessions[~df_sessions['action'].isna()]\n",
    "\n",
    "#action_type\n",
    "df_sessions = df_sessions[~df_sessions['action_type'].isna()]\n",
    "\n",
    "#action_detail\n",
    "df_sessions = df_sessions[~df_sessions['action_detail'].isna()]\n",
    "\n",
    "#secs_elapsed\n",
    "df_sessions = df_sessions[~df_sessions['secs_elapsed'].isna()]"
   ]
  },
  {
   "cell_type": "markdown",
   "metadata": {
    "ExecuteTime": {
     "end_time": "2021-04-21T20:26:36.247449Z",
     "start_time": "2021-04-21T20:26:36.244451Z"
    }
   },
   "source": [
    "## 1.4. Change Data Type"
   ]
  },
  {
   "cell_type": "code",
   "execution_count": 15,
   "metadata": {
    "ExecuteTime": {
     "end_time": "2021-05-20T23:56:49.308705Z",
     "start_time": "2021-05-20T23:56:48.922677Z"
    }
   },
   "outputs": [
    {
     "data": {
      "text/plain": [
       "id                          object\n",
       "date_account_created        object\n",
       "timestamp_first_active       int64\n",
       "date_first_booking          object\n",
       "gender                      object\n",
       "age                        float64\n",
       "signup_method               object\n",
       "signup_flow                  int64\n",
       "language                    object\n",
       "affiliate_channel           object\n",
       "affiliate_provider          object\n",
       "first_affiliate_tracked     object\n",
       "signup_app                  object\n",
       "first_device_type           object\n",
       "first_browser               object\n",
       "country_destination         object\n",
       "dtype: object"
      ]
     },
     "execution_count": 15,
     "metadata": {},
     "output_type": "execute_result"
    }
   ],
   "source": [
    " df1.dtypes"
   ]
  },
  {
   "cell_type": "code",
   "execution_count": 16,
   "metadata": {
    "ExecuteTime": {
     "end_time": "2021-05-20T23:56:50.786253Z",
     "start_time": "2021-05-20T23:56:49.310703Z"
    }
   },
   "outputs": [],
   "source": [
    "#date_account_created\n",
    "df1['date_account_created'] = pd.to_datetime(df1['date_account_created'])\n",
    "\n",
    "#timestamp_first_active\n",
    "df1['timestamp_first_active'] = pd.to_datetime(df1['timestamp_first_active'], format='%Y%m%d%H%M%S')\n",
    "\n",
    "#date_first_booking\n",
    "df1['date_first_booking'] = pd.to_datetime(df1['date_first_booking'])\n",
    "\n",
    "#age\n",
    "df1['age'] = df1['age'].astype(int)"
   ]
  },
  {
   "cell_type": "markdown",
   "metadata": {},
   "source": [
    "## 1.5. Check Balanced Data"
   ]
  },
  {
   "cell_type": "code",
   "execution_count": 17,
   "metadata": {
    "ExecuteTime": {
     "end_time": "2021-05-20T23:56:51.256928Z",
     "start_time": "2021-05-20T23:56:50.788251Z"
    }
   },
   "outputs": [
    {
     "data": {
      "text/plain": [
       "NDF      0.447275\n",
       "US       0.391867\n",
       "other    0.061246\n",
       "FR       0.029918\n",
       "IT       0.016423\n",
       "GB       0.014335\n",
       "ES       0.013740\n",
       "CA       0.008676\n",
       "DE       0.006858\n",
       "NL       0.004852\n",
       "AU       0.003531\n",
       "PT       0.001280\n",
       "Name: country_destination, dtype: float64"
      ]
     },
     "execution_count": 17,
     "metadata": {},
     "output_type": "execute_result"
    }
   ],
   "source": [
    "df1['country_destination'].value_counts(normalize=True)"
   ]
  },
  {
   "cell_type": "markdown",
   "metadata": {},
   "source": [
    "## 1.6. Descriptive Analysis"
   ]
  },
  {
   "cell_type": "code",
   "execution_count": 18,
   "metadata": {
    "ExecuteTime": {
     "end_time": "2021-05-20T23:56:52.141646Z",
     "start_time": "2021-05-20T23:56:51.258927Z"
    }
   },
   "outputs": [],
   "source": [
    "#Users\n",
    "num_attributes = df1.select_dtypes(include=['int64','float64'])\n",
    "cat_attributes = df1.select_dtypes(exclude=['int64','float64','datetime64[ns]'])\n",
    "time_attributes = df1.select_dtypes(include=['datetime64[ns]'])\n",
    "\n",
    "#Sessions\n",
    "num_attributes_sessions = df_sessions.select_dtypes(include=['int64','float64'])\n",
    "cat_attributes_sessions = df_sessions.select_dtypes(exclude=['int64','float64','datetime64[ns]'])\n",
    "time_attributes_sessions = df_sessions.select_dtypes(include=['datetime64[ns]'])"
   ]
  },
  {
   "cell_type": "markdown",
   "metadata": {},
   "source": [
    "### 1.6.1 Numerical - Users"
   ]
  },
  {
   "cell_type": "code",
   "execution_count": 19,
   "metadata": {
    "ExecuteTime": {
     "end_time": "2021-05-20T23:56:52.886229Z",
     "start_time": "2021-05-20T23:56:52.143644Z"
    }
   },
   "outputs": [
    {
     "data": {
      "text/html": [
       "<div>\n",
       "<style scoped>\n",
       "    .dataframe tbody tr th:only-of-type {\n",
       "        vertical-align: middle;\n",
       "    }\n",
       "\n",
       "    .dataframe tbody tr th {\n",
       "        vertical-align: top;\n",
       "    }\n",
       "\n",
       "    .dataframe thead th {\n",
       "        text-align: right;\n",
       "    }\n",
       "</style>\n",
       "<table border=\"1\" class=\"dataframe\">\n",
       "  <thead>\n",
       "    <tr style=\"text-align: right;\">\n",
       "      <th></th>\n",
       "      <th>attributes</th>\n",
       "      <th>min</th>\n",
       "      <th>max</th>\n",
       "      <th>range</th>\n",
       "      <th>mean</th>\n",
       "      <th>median</th>\n",
       "      <th>std</th>\n",
       "      <th>skew</th>\n",
       "      <th>kurtosis</th>\n",
       "    </tr>\n",
       "  </thead>\n",
       "  <tbody>\n",
       "    <tr>\n",
       "      <th>0</th>\n",
       "      <td>signup_flow</td>\n",
       "      <td>0.0</td>\n",
       "      <td>25.0</td>\n",
       "      <td>25.0</td>\n",
       "      <td>2.519513</td>\n",
       "      <td>0.0</td>\n",
       "      <td>6.604696</td>\n",
       "      <td>2.705871</td>\n",
       "      <td>5.928298</td>\n",
       "    </tr>\n",
       "  </tbody>\n",
       "</table>\n",
       "</div>"
      ],
      "text/plain": [
       "    attributes  min   max  range      mean  median       std      skew  \\\n",
       "0  signup_flow  0.0  25.0   25.0  2.519513     0.0  6.604696  2.705871   \n",
       "\n",
       "   kurtosis  \n",
       "0  5.928298  "
      ]
     },
     "execution_count": 19,
     "metadata": {},
     "output_type": "execute_result"
    }
   ],
   "source": [
    "#Central Tendency - Mean, Median\n",
    "ct1 = pd.DataFrame(num_attributes.apply(np.mean)).T\n",
    "ct2 = pd.DataFrame(num_attributes.apply(np.median)).T\n",
    "\n",
    "#Dispersions - Std, Min, Max, Range, Skew, Kurtosis\n",
    "d1 = pd.DataFrame(num_attributes.apply(np.std)).T\n",
    "d2 = pd.DataFrame(num_attributes.apply(min)).T\n",
    "d3 = pd.DataFrame(num_attributes.apply(max)).T\n",
    "d4 = pd.DataFrame(num_attributes.apply(lambda x: x.max() - x.min())).T\n",
    "d5 = pd.DataFrame(num_attributes.apply(lambda x: x.skew())).T\n",
    "d6 = pd.DataFrame(num_attributes.apply(lambda x: x.kurtosis())).T\n",
    "\n",
    "#Concat\n",
    "ct = pd.concat([d2, d3, d4, ct1, ct2, d1, d5, d6]).T.reset_index()\n",
    "ct.columns = ['attributes', 'min', 'max', 'range', 'mean', 'median', 'std', 'skew', 'kurtosis']\n",
    "ct"
   ]
  },
  {
   "cell_type": "markdown",
   "metadata": {},
   "source": [
    "### 1.6.2 Numerical - Sessions"
   ]
  },
  {
   "cell_type": "code",
   "execution_count": 20,
   "metadata": {
    "ExecuteTime": {
     "end_time": "2021-05-20T23:56:55.824930Z",
     "start_time": "2021-05-20T23:56:52.889227Z"
    }
   },
   "outputs": [
    {
     "data": {
      "text/html": [
       "<div>\n",
       "<style scoped>\n",
       "    .dataframe tbody tr th:only-of-type {\n",
       "        vertical-align: middle;\n",
       "    }\n",
       "\n",
       "    .dataframe tbody tr th {\n",
       "        vertical-align: top;\n",
       "    }\n",
       "\n",
       "    .dataframe thead th {\n",
       "        text-align: right;\n",
       "    }\n",
       "</style>\n",
       "<table border=\"1\" class=\"dataframe\">\n",
       "  <thead>\n",
       "    <tr style=\"text-align: right;\">\n",
       "      <th></th>\n",
       "      <th>attributes</th>\n",
       "      <th>min</th>\n",
       "      <th>max</th>\n",
       "      <th>range</th>\n",
       "      <th>mean</th>\n",
       "      <th>median</th>\n",
       "      <th>std</th>\n",
       "      <th>skew</th>\n",
       "      <th>kurtosis</th>\n",
       "    </tr>\n",
       "  </thead>\n",
       "  <tbody>\n",
       "    <tr>\n",
       "      <th>0</th>\n",
       "      <td>secs_elapsed</td>\n",
       "      <td>0.0</td>\n",
       "      <td>1799977.0</td>\n",
       "      <td>1799977.0</td>\n",
       "      <td>19961.8251</td>\n",
       "      <td>1369.0</td>\n",
       "      <td>88849.388449</td>\n",
       "      <td>11.137761</td>\n",
       "      <td>154.84312</td>\n",
       "    </tr>\n",
       "  </tbody>\n",
       "</table>\n",
       "</div>"
      ],
      "text/plain": [
       "     attributes  min        max      range        mean  median           std  \\\n",
       "0  secs_elapsed  0.0  1799977.0  1799977.0  19961.8251  1369.0  88849.388449   \n",
       "\n",
       "        skew   kurtosis  \n",
       "0  11.137761  154.84312  "
      ]
     },
     "execution_count": 20,
     "metadata": {},
     "output_type": "execute_result"
    }
   ],
   "source": [
    "#Central Tendency - Mean, Median\n",
    "ct1 = pd.DataFrame(num_attributes_sessions.apply(np.mean)).T\n",
    "ct2 = pd.DataFrame(num_attributes_sessions.apply(np.median)).T\n",
    "\n",
    "#Dispersions - Std, Min, Max, Range, Skew, Kurtosis\n",
    "d1 = pd.DataFrame(num_attributes_sessions.apply(np.std)).T\n",
    "d2 = pd.DataFrame(num_attributes_sessions.apply(min)).T\n",
    "d3 = pd.DataFrame(num_attributes_sessions.apply(max)).T\n",
    "d4 = pd.DataFrame(num_attributes_sessions.apply(lambda x: x.max() - x.min())).T\n",
    "d5 = pd.DataFrame(num_attributes_sessions.apply(lambda x: x.skew())).T\n",
    "d6 = pd.DataFrame(num_attributes_sessions.apply(lambda x: x.kurtosis())).T\n",
    "\n",
    "#Concat\n",
    "ct = pd.concat([d2, d3, d4, ct1, ct2, d1, d5, d6]).T.reset_index()\n",
    "ct.columns = ['attributes', 'min', 'max', 'range', 'mean', 'median', 'std', 'skew', 'kurtosis']\n",
    "ct"
   ]
  },
  {
   "cell_type": "markdown",
   "metadata": {},
   "source": [
    "### 1.6.3. Categorical - Users"
   ]
  },
  {
   "cell_type": "code",
   "execution_count": 21,
   "metadata": {
    "ExecuteTime": {
     "end_time": "2021-05-20T23:56:56.852523Z",
     "start_time": "2021-05-20T23:56:55.826927Z"
    }
   },
   "outputs": [
    {
     "data": {
      "text/html": [
       "<div>\n",
       "<style scoped>\n",
       "    .dataframe tbody tr th:only-of-type {\n",
       "        vertical-align: middle;\n",
       "    }\n",
       "\n",
       "    .dataframe tbody tr th {\n",
       "        vertical-align: top;\n",
       "    }\n",
       "\n",
       "    .dataframe thead th {\n",
       "        text-align: right;\n",
       "    }\n",
       "</style>\n",
       "<table border=\"1\" class=\"dataframe\">\n",
       "  <thead>\n",
       "    <tr style=\"text-align: right;\">\n",
       "      <th></th>\n",
       "      <th>gender</th>\n",
       "      <th>signup_method</th>\n",
       "      <th>language</th>\n",
       "      <th>affiliate_channel</th>\n",
       "      <th>affiliate_provider</th>\n",
       "      <th>first_affiliate_tracked</th>\n",
       "      <th>signup_app</th>\n",
       "      <th>first_device_type</th>\n",
       "      <th>first_browser</th>\n",
       "      <th>country_destination</th>\n",
       "    </tr>\n",
       "  </thead>\n",
       "  <tbody>\n",
       "    <tr>\n",
       "      <th>count</th>\n",
       "      <td>122636</td>\n",
       "      <td>122636</td>\n",
       "      <td>122636</td>\n",
       "      <td>122636</td>\n",
       "      <td>122636</td>\n",
       "      <td>122636</td>\n",
       "      <td>122636</td>\n",
       "      <td>122636</td>\n",
       "      <td>122636</td>\n",
       "      <td>122636</td>\n",
       "    </tr>\n",
       "    <tr>\n",
       "      <th>unique</th>\n",
       "      <td>4</td>\n",
       "      <td>3</td>\n",
       "      <td>25</td>\n",
       "      <td>8</td>\n",
       "      <td>17</td>\n",
       "      <td>7</td>\n",
       "      <td>4</td>\n",
       "      <td>9</td>\n",
       "      <td>41</td>\n",
       "      <td>12</td>\n",
       "    </tr>\n",
       "    <tr>\n",
       "      <th>top</th>\n",
       "      <td>FEMALE</td>\n",
       "      <td>basic</td>\n",
       "      <td>en</td>\n",
       "      <td>direct</td>\n",
       "      <td>direct</td>\n",
       "      <td>untracked</td>\n",
       "      <td>Web</td>\n",
       "      <td>Mac Desktop</td>\n",
       "      <td>Chrome</td>\n",
       "      <td>NDF</td>\n",
       "    </tr>\n",
       "    <tr>\n",
       "      <th>freq</th>\n",
       "      <td>56362</td>\n",
       "      <td>66039</td>\n",
       "      <td>118205</td>\n",
       "      <td>79093</td>\n",
       "      <td>78954</td>\n",
       "      <td>64712</td>\n",
       "      <td>108283</td>\n",
       "      <td>57943</td>\n",
       "      <td>41778</td>\n",
       "      <td>54852</td>\n",
       "    </tr>\n",
       "  </tbody>\n",
       "</table>\n",
       "</div>"
      ],
      "text/plain": [
       "        gender signup_method language affiliate_channel affiliate_provider  \\\n",
       "count   122636        122636   122636            122636             122636   \n",
       "unique       4             3       25                 8                 17   \n",
       "top     FEMALE         basic       en            direct             direct   \n",
       "freq     56362         66039   118205             79093              78954   \n",
       "\n",
       "       first_affiliate_tracked signup_app first_device_type first_browser  \\\n",
       "count                   122636     122636            122636        122636   \n",
       "unique                       7          4                 9            41   \n",
       "top                  untracked        Web       Mac Desktop        Chrome   \n",
       "freq                     64712     108283             57943         41778   \n",
       "\n",
       "       country_destination  \n",
       "count               122636  \n",
       "unique                  12  \n",
       "top                    NDF  \n",
       "freq                 54852  "
      ]
     },
     "execution_count": 21,
     "metadata": {},
     "output_type": "execute_result"
    }
   ],
   "source": [
    "cat_attributes.drop(['id','age'], axis=1).describe()"
   ]
  },
  {
   "cell_type": "markdown",
   "metadata": {},
   "source": [
    "### 1.6.4 - Categorical - Sessions"
   ]
  },
  {
   "cell_type": "code",
   "execution_count": 22,
   "metadata": {
    "ExecuteTime": {
     "end_time": "2021-05-20T23:57:04.036924Z",
     "start_time": "2021-05-20T23:56:56.854527Z"
    }
   },
   "outputs": [
    {
     "data": {
      "text/html": [
       "<div>\n",
       "<style scoped>\n",
       "    .dataframe tbody tr th:only-of-type {\n",
       "        vertical-align: middle;\n",
       "    }\n",
       "\n",
       "    .dataframe tbody tr th {\n",
       "        vertical-align: top;\n",
       "    }\n",
       "\n",
       "    .dataframe thead th {\n",
       "        text-align: right;\n",
       "    }\n",
       "</style>\n",
       "<table border=\"1\" class=\"dataframe\">\n",
       "  <thead>\n",
       "    <tr style=\"text-align: right;\">\n",
       "      <th></th>\n",
       "      <th>action</th>\n",
       "      <th>action_type</th>\n",
       "      <th>action_detail</th>\n",
       "      <th>device_type</th>\n",
       "    </tr>\n",
       "  </thead>\n",
       "  <tbody>\n",
       "    <tr>\n",
       "      <th>count</th>\n",
       "      <td>9213930</td>\n",
       "      <td>9213930</td>\n",
       "      <td>9213930</td>\n",
       "      <td>9213930</td>\n",
       "    </tr>\n",
       "    <tr>\n",
       "      <th>unique</th>\n",
       "      <td>347</td>\n",
       "      <td>10</td>\n",
       "      <td>155</td>\n",
       "      <td>14</td>\n",
       "    </tr>\n",
       "    <tr>\n",
       "      <th>top</th>\n",
       "      <td>show</td>\n",
       "      <td>view</td>\n",
       "      <td>view_search_results</td>\n",
       "      <td>Mac Desktop</td>\n",
       "    </tr>\n",
       "    <tr>\n",
       "      <th>freq</th>\n",
       "      <td>2178382</td>\n",
       "      <td>3545621</td>\n",
       "      <td>1770931</td>\n",
       "      <td>3019523</td>\n",
       "    </tr>\n",
       "  </tbody>\n",
       "</table>\n",
       "</div>"
      ],
      "text/plain": [
       "         action action_type        action_detail  device_type\n",
       "count   9213930     9213930              9213930      9213930\n",
       "unique      347          10                  155           14\n",
       "top        show        view  view_search_results  Mac Desktop\n",
       "freq    2178382     3545621              1770931      3019523"
      ]
     },
     "execution_count": 22,
     "metadata": {},
     "output_type": "execute_result"
    }
   ],
   "source": [
    "cat_attributes_sessions.drop('user_id', axis=1).describe()"
   ]
  },
  {
   "cell_type": "markdown",
   "metadata": {},
   "source": [
    "### 1.6.5 Correlation Matrix - Sessions"
   ]
  },
  {
   "cell_type": "code",
   "execution_count": 23,
   "metadata": {
    "ExecuteTime": {
     "end_time": "2021-05-20T23:58:13.990314Z",
     "start_time": "2021-05-20T23:57:04.040921Z"
    }
   },
   "outputs": [],
   "source": [
    "#list of attributes for Cramer's V correlation\n",
    "cat_attributes_list = cat_attributes_sessions.drop('user_id', axis=1).columns.tolist()\n",
    "\n",
    "corr_dict = {}\n",
    "for i in range(len(cat_attributes_list)):\n",
    "    corr_list = []\n",
    "    for j in range(len(cat_attributes_list)):\n",
    "        ref = cat_attributes_list[i]\n",
    "        feat = cat_attributes_list[j]\n",
    "        \n",
    "        # correlation\n",
    "        corr = cramer_v(cat_attributes_sessions[ref], cat_attributes_sessions[feat])\n",
    "        \n",
    "        # append a list\n",
    "        corr_list.append(corr)\n",
    "    \n",
    "    # appende a correlation list for each ref attributs\n",
    "    corr_dict[ref] = corr_list"
   ]
  },
  {
   "cell_type": "code",
   "execution_count": 24,
   "metadata": {
    "ExecuteTime": {
     "end_time": "2021-05-20T23:58:14.268878Z",
     "start_time": "2021-05-20T23:58:14.017297Z"
    }
   },
   "outputs": [
    {
     "data": {
      "text/plain": [
       "[0.25984796015349226,\n",
       " 0.08204073846721649,\n",
       " 0.2196221769687879,\n",
       " 1.000000705454337]"
      ]
     },
     "execution_count": 24,
     "metadata": {},
     "output_type": "execute_result"
    }
   ],
   "source": [
    "corr_dict[feat]"
   ]
  },
  {
   "cell_type": "code",
   "execution_count": 25,
   "metadata": {
    "ExecuteTime": {
     "end_time": "2021-05-20T23:58:14.800099Z",
     "start_time": "2021-05-20T23:58:14.733974Z"
    }
   },
   "outputs": [
    {
     "data": {
      "text/plain": [
       "[0.25984796015349226,\n",
       " 0.08204073846721649,\n",
       " 0.2196221769687879,\n",
       " 1.000000705454337]"
      ]
     },
     "execution_count": 25,
     "metadata": {},
     "output_type": "execute_result"
    }
   ],
   "source": [
    "corr_dict[ref]"
   ]
  },
  {
   "cell_type": "code",
   "execution_count": 117,
   "metadata": {
    "ExecuteTime": {
     "end_time": "2021-05-21T00:58:23.975393Z",
     "start_time": "2021-05-21T00:58:22.933568Z"
    }
   },
   "outputs": [
    {
     "data": {
      "text/plain": [
       "<AxesSubplot:>"
      ]
     },
     "execution_count": 117,
     "metadata": {},
     "output_type": "execute_result"
    },
    {
     "data": {
      "image/png": "[encoded data removed]",
      "text/plain": [
       "<Figure size 432x288 with 2 Axes>"
      ]
     },
     "metadata": {
      "needs_background": "light"
     },
     "output_type": "display_data"
    }
   ],
   "source": [
    "d = pd.DataFrame(corr_dict)\n",
    "d = d.set_index(d.columns)\n",
    "sns.heatmap(d, annot=True)"
   ]
  },
  {
   "cell_type": "markdown",
   "metadata": {},
   "source": [
    "# 2.0. Feature Engineering"
   ]
  },
  {
   "cell_type": "code",
   "execution_count": 27,
   "metadata": {
    "ExecuteTime": {
     "end_time": "2021-05-20T23:58:26.681551Z",
     "start_time": "2021-05-20T23:58:26.187838Z"
    }
   },
   "outputs": [],
   "source": [
    "df2 = df1.copy()"
   ]
  },
  {
   "cell_type": "markdown",
   "metadata": {},
   "source": [
    "## 2.1. Create New Features"
   ]
  },
  {
   "cell_type": "code",
   "execution_count": 28,
   "metadata": {
    "ExecuteTime": {
     "end_time": "2021-05-20T23:58:51.682890Z",
     "start_time": "2021-05-20T23:58:26.967799Z"
    }
   },
   "outputs": [],
   "source": [
    "#days from first active up to first booking\n",
    "df2['first_active'] = pd.to_datetime(df2['timestamp_first_active'].dt.strftime('%Y-%m-%d'))\n",
    "df2['days_from_first_active_until_booking'] = (df2['date_first_booking'] - df2['first_active']).apply(lambda x: x.days)\n",
    "\n",
    "#days from first active upt to account created\n",
    "df2['days_from_first_active_until_account_created'] = (df2['date_account_created'] - df2['first_active']).apply(lambda x: x.days)\n",
    "\n",
    "#days from account createad up to first booking\n",
    "df2['days_from_account_created_until_first_booking'] = (df2['date_first_booking'] - df2['date_account_created']).apply(lambda x: x.days)\n",
    "\n",
    "\n",
    "# ================== First Active ==================\n",
    "#year first active\n",
    "df2['year_first_active'] = df2['first_active'].dt.year\n",
    "\n",
    "#month first active\n",
    "df2['month_first_active'] = df2['first_active'].dt.month\n",
    "\n",
    "#day first active\n",
    "df2['day_first_active'] = df2['first_active'].dt.day\n",
    "\n",
    "#day of week first active\n",
    "df2['day_of_week_first_active'] = df2['first_active'].dt.dayofweek\n",
    "\n",
    "#week of year first active\n",
    "df2['week_of_year_first_active'] = df2['first_active'].dt.isocalendar().week\n",
    "df2['week_of_year_first_active'] = np.asarray(df2['week_of_year_first_active']).astype(np.int64)\n",
    "\n",
    "\n",
    "# ================== First Booking ==================\n",
    "#year first booking\n",
    "df2['year_first_booking'] = df2['date_first_booking'].dt.year\n",
    "\n",
    "#month first booking\n",
    "df2['month_first_booking'] = df2['date_first_booking'].dt.month\n",
    "\n",
    "#day first booking\n",
    "df2['day_first_booking'] = df2['date_first_booking'].dt.day\n",
    "\n",
    "#day of week first booking\n",
    "df2['day_of_week_first_booking'] = df2['date_first_booking'].dt.dayofweek\n",
    "\n",
    "#week of year first booking\n",
    "df2['week_of_year_first_booking'] = df2['date_first_booking'].dt.isocalendar().week\n",
    "df2['week_of_year_first_booking'] = np.asarray(df2['week_of_year_first_booking']).astype(np.int64)\n",
    "\n",
    "\n",
    "# ================== First Account Created =================\n",
    "#year first booking\n",
    "df2['year_account_created'] = df2['date_account_created'].dt.year\n",
    "\n",
    "#month  account_created\n",
    "df2['month_account_created'] = df2['date_account_created'].dt.month\n",
    "\n",
    "#day  account_created\n",
    "df2['day_account_created'] = df2['date_account_created'].dt.day\n",
    "\n",
    "#day of week  account_created\n",
    "df2['day_of_week_account_created'] = df2['date_account_created'].dt.dayofweek\n",
    "\n",
    "#week of year  account_created\n",
    "df2['week_of_year_account_created'] = df2['date_account_created'].dt.isocalendar().week\n",
    "df2['week_of_year_account_created'] = np.asarray(df2['week_of_year_account_created']).astype(np.int64)"
   ]
  },
  {
   "cell_type": "code",
   "execution_count": 29,
   "metadata": {
    "ExecuteTime": {
     "end_time": "2021-05-20T23:58:51.698877Z",
     "start_time": "2021-05-20T23:58:51.684886Z"
    }
   },
   "outputs": [
    {
     "data": {
      "text/plain": [
       "id                                                       object\n",
       "date_account_created                             datetime64[ns]\n",
       "timestamp_first_active                           datetime64[ns]\n",
       "date_first_booking                               datetime64[ns]\n",
       "gender                                                   object\n",
       "age                                                       int32\n",
       "signup_method                                            object\n",
       "signup_flow                                               int64\n",
       "language                                                 object\n",
       "affiliate_channel                                        object\n",
       "affiliate_provider                                       object\n",
       "first_affiliate_tracked                                  object\n",
       "signup_app                                               object\n",
       "first_device_type                                        object\n",
       "first_browser                                            object\n",
       "country_destination                                      object\n",
       "first_active                                     datetime64[ns]\n",
       "days_from_first_active_until_booking                      int64\n",
       "days_from_first_active_until_account_created              int64\n",
       "days_from_account_created_until_first_booking             int64\n",
       "year_first_active                                         int64\n",
       "month_first_active                                        int64\n",
       "day_first_active                                          int64\n",
       "day_of_week_first_active                                  int64\n",
       "week_of_year_first_active                                 int64\n",
       "year_first_booking                                        int64\n",
       "month_first_booking                                       int64\n",
       "day_first_booking                                         int64\n",
       "day_of_week_first_booking                                 int64\n",
       "week_of_year_first_booking                                int64\n",
       "year_account_created                                      int64\n",
       "month_account_created                                     int64\n",
       "day_account_created                                       int64\n",
       "day_of_week_account_created                               int64\n",
       "week_of_year_account_created                              int64\n",
       "dtype: object"
      ]
     },
     "execution_count": 29,
     "metadata": {},
     "output_type": "execute_result"
    }
   ],
   "source": [
    "df2.dtypes"
   ]
  },
  {
   "cell_type": "markdown",
   "metadata": {},
   "source": [
    "# 3.0. Data Filtering"
   ]
  },
  {
   "cell_type": "code",
   "execution_count": 30,
   "metadata": {
    "ExecuteTime": {
     "end_time": "2021-05-20T23:58:51.825798Z",
     "start_time": "2021-05-20T23:58:51.700877Z"
    }
   },
   "outputs": [],
   "source": [
    "df3 = df2.copy()"
   ]
  },
  {
   "cell_type": "code",
   "execution_count": 31,
   "metadata": {
    "ExecuteTime": {
     "end_time": "2021-05-20T23:58:52.092635Z",
     "start_time": "2021-05-20T23:58:51.828798Z"
    }
   },
   "outputs": [
    {
     "data": {
      "text/html": [
       "<div>\n",
       "<style scoped>\n",
       "    .dataframe tbody tr th:only-of-type {\n",
       "        vertical-align: middle;\n",
       "    }\n",
       "\n",
       "    .dataframe tbody tr th {\n",
       "        vertical-align: top;\n",
       "    }\n",
       "\n",
       "    .dataframe thead th {\n",
       "        text-align: right;\n",
       "    }\n",
       "</style>\n",
       "<table border=\"1\" class=\"dataframe\">\n",
       "  <thead>\n",
       "    <tr style=\"text-align: right;\">\n",
       "      <th></th>\n",
       "      <th>1</th>\n",
       "      <th>2</th>\n",
       "      <th>3</th>\n",
       "      <th>4</th>\n",
       "      <th>6</th>\n",
       "    </tr>\n",
       "  </thead>\n",
       "  <tbody>\n",
       "    <tr>\n",
       "      <th>id</th>\n",
       "      <td>820tgsjxq7</td>\n",
       "      <td>4ft3gnwmtx</td>\n",
       "      <td>bjjt8pjhuk</td>\n",
       "      <td>87mebub9p4</td>\n",
       "      <td>lsw9q7uk0j</td>\n",
       "    </tr>\n",
       "    <tr>\n",
       "      <th>date_account_created</th>\n",
       "      <td>2011-05-25 00:00:00</td>\n",
       "      <td>2010-09-28 00:00:00</td>\n",
       "      <td>2011-12-05 00:00:00</td>\n",
       "      <td>2010-09-14 00:00:00</td>\n",
       "      <td>2010-01-02 00:00:00</td>\n",
       "    </tr>\n",
       "    <tr>\n",
       "      <th>timestamp_first_active</th>\n",
       "      <td>2009-05-23 17:48:09</td>\n",
       "      <td>2009-06-09 23:12:47</td>\n",
       "      <td>2009-10-31 06:01:29</td>\n",
       "      <td>2009-12-08 06:11:05</td>\n",
       "      <td>2010-01-02 01:25:58</td>\n",
       "    </tr>\n",
       "    <tr>\n",
       "      <th>date_first_booking</th>\n",
       "      <td>2015-06-29 00:00:00</td>\n",
       "      <td>2010-08-02 00:00:00</td>\n",
       "      <td>2012-09-08 00:00:00</td>\n",
       "      <td>2010-02-18 00:00:00</td>\n",
       "      <td>2010-01-05 00:00:00</td>\n",
       "    </tr>\n",
       "    <tr>\n",
       "      <th>gender</th>\n",
       "      <td>MALE</td>\n",
       "      <td>FEMALE</td>\n",
       "      <td>FEMALE</td>\n",
       "      <td>-unknown-</td>\n",
       "      <td>FEMALE</td>\n",
       "    </tr>\n",
       "    <tr>\n",
       "      <th>age</th>\n",
       "      <td>38</td>\n",
       "      <td>56</td>\n",
       "      <td>42</td>\n",
       "      <td>41</td>\n",
       "      <td>46</td>\n",
       "    </tr>\n",
       "    <tr>\n",
       "      <th>signup_method</th>\n",
       "      <td>facebook</td>\n",
       "      <td>basic</td>\n",
       "      <td>facebook</td>\n",
       "      <td>basic</td>\n",
       "      <td>basic</td>\n",
       "    </tr>\n",
       "    <tr>\n",
       "      <th>signup_flow</th>\n",
       "      <td>0</td>\n",
       "      <td>3</td>\n",
       "      <td>0</td>\n",
       "      <td>0</td>\n",
       "      <td>0</td>\n",
       "    </tr>\n",
       "    <tr>\n",
       "      <th>language</th>\n",
       "      <td>en</td>\n",
       "      <td>en</td>\n",
       "      <td>en</td>\n",
       "      <td>en</td>\n",
       "      <td>en</td>\n",
       "    </tr>\n",
       "    <tr>\n",
       "      <th>affiliate_channel</th>\n",
       "      <td>seo</td>\n",
       "      <td>direct</td>\n",
       "      <td>direct</td>\n",
       "      <td>direct</td>\n",
       "      <td>other</td>\n",
       "    </tr>\n",
       "    <tr>\n",
       "      <th>affiliate_provider</th>\n",
       "      <td>google</td>\n",
       "      <td>direct</td>\n",
       "      <td>direct</td>\n",
       "      <td>direct</td>\n",
       "      <td>craigslist</td>\n",
       "    </tr>\n",
       "    <tr>\n",
       "      <th>first_affiliate_tracked</th>\n",
       "      <td>untracked</td>\n",
       "      <td>untracked</td>\n",
       "      <td>untracked</td>\n",
       "      <td>untracked</td>\n",
       "      <td>untracked</td>\n",
       "    </tr>\n",
       "    <tr>\n",
       "      <th>signup_app</th>\n",
       "      <td>Web</td>\n",
       "      <td>Web</td>\n",
       "      <td>Web</td>\n",
       "      <td>Web</td>\n",
       "      <td>Web</td>\n",
       "    </tr>\n",
       "    <tr>\n",
       "      <th>first_device_type</th>\n",
       "      <td>Mac Desktop</td>\n",
       "      <td>Windows Desktop</td>\n",
       "      <td>Mac Desktop</td>\n",
       "      <td>Mac Desktop</td>\n",
       "      <td>Mac Desktop</td>\n",
       "    </tr>\n",
       "    <tr>\n",
       "      <th>first_browser</th>\n",
       "      <td>Chrome</td>\n",
       "      <td>IE</td>\n",
       "      <td>Firefox</td>\n",
       "      <td>Chrome</td>\n",
       "      <td>Safari</td>\n",
       "    </tr>\n",
       "    <tr>\n",
       "      <th>country_destination</th>\n",
       "      <td>NDF</td>\n",
       "      <td>US</td>\n",
       "      <td>other</td>\n",
       "      <td>US</td>\n",
       "      <td>US</td>\n",
       "    </tr>\n",
       "    <tr>\n",
       "      <th>first_active</th>\n",
       "      <td>2009-05-23 00:00:00</td>\n",
       "      <td>2009-06-09 00:00:00</td>\n",
       "      <td>2009-10-31 00:00:00</td>\n",
       "      <td>2009-12-08 00:00:00</td>\n",
       "      <td>2010-01-02 00:00:00</td>\n",
       "    </tr>\n",
       "    <tr>\n",
       "      <th>days_from_first_active_until_booking</th>\n",
       "      <td>2228</td>\n",
       "      <td>419</td>\n",
       "      <td>1043</td>\n",
       "      <td>72</td>\n",
       "      <td>3</td>\n",
       "    </tr>\n",
       "    <tr>\n",
       "      <th>days_from_first_active_until_account_created</th>\n",
       "      <td>732</td>\n",
       "      <td>476</td>\n",
       "      <td>765</td>\n",
       "      <td>280</td>\n",
       "      <td>0</td>\n",
       "    </tr>\n",
       "    <tr>\n",
       "      <th>days_from_account_created_until_first_booking</th>\n",
       "      <td>1496</td>\n",
       "      <td>-57</td>\n",
       "      <td>278</td>\n",
       "      <td>-208</td>\n",
       "      <td>3</td>\n",
       "    </tr>\n",
       "    <tr>\n",
       "      <th>year_first_active</th>\n",
       "      <td>2009</td>\n",
       "      <td>2009</td>\n",
       "      <td>2009</td>\n",
       "      <td>2009</td>\n",
       "      <td>2010</td>\n",
       "    </tr>\n",
       "    <tr>\n",
       "      <th>month_first_active</th>\n",
       "      <td>5</td>\n",
       "      <td>6</td>\n",
       "      <td>10</td>\n",
       "      <td>12</td>\n",
       "      <td>1</td>\n",
       "    </tr>\n",
       "    <tr>\n",
       "      <th>day_first_active</th>\n",
       "      <td>23</td>\n",
       "      <td>9</td>\n",
       "      <td>31</td>\n",
       "      <td>8</td>\n",
       "      <td>2</td>\n",
       "    </tr>\n",
       "    <tr>\n",
       "      <th>day_of_week_first_active</th>\n",
       "      <td>5</td>\n",
       "      <td>1</td>\n",
       "      <td>5</td>\n",
       "      <td>1</td>\n",
       "      <td>5</td>\n",
       "    </tr>\n",
       "    <tr>\n",
       "      <th>week_of_year_first_active</th>\n",
       "      <td>21</td>\n",
       "      <td>24</td>\n",
       "      <td>44</td>\n",
       "      <td>50</td>\n",
       "      <td>53</td>\n",
       "    </tr>\n",
       "    <tr>\n",
       "      <th>year_first_booking</th>\n",
       "      <td>2015</td>\n",
       "      <td>2010</td>\n",
       "      <td>2012</td>\n",
       "      <td>2010</td>\n",
       "      <td>2010</td>\n",
       "    </tr>\n",
       "    <tr>\n",
       "      <th>month_first_booking</th>\n",
       "      <td>6</td>\n",
       "      <td>8</td>\n",
       "      <td>9</td>\n",
       "      <td>2</td>\n",
       "      <td>1</td>\n",
       "    </tr>\n",
       "    <tr>\n",
       "      <th>day_first_booking</th>\n",
       "      <td>29</td>\n",
       "      <td>2</td>\n",
       "      <td>8</td>\n",
       "      <td>18</td>\n",
       "      <td>5</td>\n",
       "    </tr>\n",
       "    <tr>\n",
       "      <th>day_of_week_first_booking</th>\n",
       "      <td>0</td>\n",
       "      <td>0</td>\n",
       "      <td>5</td>\n",
       "      <td>3</td>\n",
       "      <td>1</td>\n",
       "    </tr>\n",
       "    <tr>\n",
       "      <th>week_of_year_first_booking</th>\n",
       "      <td>27</td>\n",
       "      <td>31</td>\n",
       "      <td>36</td>\n",
       "      <td>7</td>\n",
       "      <td>1</td>\n",
       "    </tr>\n",
       "    <tr>\n",
       "      <th>year_account_created</th>\n",
       "      <td>2011</td>\n",
       "      <td>2010</td>\n",
       "      <td>2011</td>\n",
       "      <td>2010</td>\n",
       "      <td>2010</td>\n",
       "    </tr>\n",
       "    <tr>\n",
       "      <th>month_account_created</th>\n",
       "      <td>5</td>\n",
       "      <td>9</td>\n",
       "      <td>12</td>\n",
       "      <td>9</td>\n",
       "      <td>1</td>\n",
       "    </tr>\n",
       "    <tr>\n",
       "      <th>day_account_created</th>\n",
       "      <td>25</td>\n",
       "      <td>28</td>\n",
       "      <td>5</td>\n",
       "      <td>14</td>\n",
       "      <td>2</td>\n",
       "    </tr>\n",
       "    <tr>\n",
       "      <th>day_of_week_account_created</th>\n",
       "      <td>2</td>\n",
       "      <td>1</td>\n",
       "      <td>0</td>\n",
       "      <td>1</td>\n",
       "      <td>5</td>\n",
       "    </tr>\n",
       "    <tr>\n",
       "      <th>week_of_year_account_created</th>\n",
       "      <td>21</td>\n",
       "      <td>39</td>\n",
       "      <td>49</td>\n",
       "      <td>37</td>\n",
       "      <td>53</td>\n",
       "    </tr>\n",
       "  </tbody>\n",
       "</table>\n",
       "</div>"
      ],
      "text/plain": [
       "                                                                 1  \\\n",
       "id                                                      820tgsjxq7   \n",
       "date_account_created                           2011-05-25 00:00:00   \n",
       "timestamp_first_active                         2009-05-23 17:48:09   \n",
       "date_first_booking                             2015-06-29 00:00:00   \n",
       "gender                                                        MALE   \n",
       "age                                                             38   \n",
       "signup_method                                             facebook   \n",
       "signup_flow                                                      0   \n",
       "language                                                        en   \n",
       "affiliate_channel                                              seo   \n",
       "affiliate_provider                                          google   \n",
       "first_affiliate_tracked                                  untracked   \n",
       "signup_app                                                     Web   \n",
       "first_device_type                                      Mac Desktop   \n",
       "first_browser                                               Chrome   \n",
       "country_destination                                            NDF   \n",
       "first_active                                   2009-05-23 00:00:00   \n",
       "days_from_first_active_until_booking                          2228   \n",
       "days_from_first_active_until_account_created                   732   \n",
       "days_from_account_created_until_first_booking                 1496   \n",
       "year_first_active                                             2009   \n",
       "month_first_active                                               5   \n",
       "day_first_active                                                23   \n",
       "day_of_week_first_active                                         5   \n",
       "week_of_year_first_active                                       21   \n",
       "year_first_booking                                            2015   \n",
       "month_first_booking                                              6   \n",
       "day_first_booking                                               29   \n",
       "day_of_week_first_booking                                        0   \n",
       "week_of_year_first_booking                                      27   \n",
       "year_account_created                                          2011   \n",
       "month_account_created                                            5   \n",
       "day_account_created                                             25   \n",
       "day_of_week_account_created                                      2   \n",
       "week_of_year_account_created                                    21   \n",
       "\n",
       "                                                                 2  \\\n",
       "id                                                      4ft3gnwmtx   \n",
       "date_account_created                           2010-09-28 00:00:00   \n",
       "timestamp_first_active                         2009-06-09 23:12:47   \n",
       "date_first_booking                             2010-08-02 00:00:00   \n",
       "gender                                                      FEMALE   \n",
       "age                                                             56   \n",
       "signup_method                                                basic   \n",
       "signup_flow                                                      3   \n",
       "language                                                        en   \n",
       "affiliate_channel                                           direct   \n",
       "affiliate_provider                                          direct   \n",
       "first_affiliate_tracked                                  untracked   \n",
       "signup_app                                                     Web   \n",
       "first_device_type                                  Windows Desktop   \n",
       "first_browser                                                   IE   \n",
       "country_destination                                             US   \n",
       "first_active                                   2009-06-09 00:00:00   \n",
       "days_from_first_active_until_booking                           419   \n",
       "days_from_first_active_until_account_created                   476   \n",
       "days_from_account_created_until_first_booking                  -57   \n",
       "year_first_active                                             2009   \n",
       "month_first_active                                               6   \n",
       "day_first_active                                                 9   \n",
       "day_of_week_first_active                                         1   \n",
       "week_of_year_first_active                                       24   \n",
       "year_first_booking                                            2010   \n",
       "month_first_booking                                              8   \n",
       "day_first_booking                                                2   \n",
       "day_of_week_first_booking                                        0   \n",
       "week_of_year_first_booking                                      31   \n",
       "year_account_created                                          2010   \n",
       "month_account_created                                            9   \n",
       "day_account_created                                             28   \n",
       "day_of_week_account_created                                      1   \n",
       "week_of_year_account_created                                    39   \n",
       "\n",
       "                                                                 3  \\\n",
       "id                                                      bjjt8pjhuk   \n",
       "date_account_created                           2011-12-05 00:00:00   \n",
       "timestamp_first_active                         2009-10-31 06:01:29   \n",
       "date_first_booking                             2012-09-08 00:00:00   \n",
       "gender                                                      FEMALE   \n",
       "age                                                             42   \n",
       "signup_method                                             facebook   \n",
       "signup_flow                                                      0   \n",
       "language                                                        en   \n",
       "affiliate_channel                                           direct   \n",
       "affiliate_provider                                          direct   \n",
       "first_affiliate_tracked                                  untracked   \n",
       "signup_app                                                     Web   \n",
       "first_device_type                                      Mac Desktop   \n",
       "first_browser                                              Firefox   \n",
       "country_destination                                          other   \n",
       "first_active                                   2009-10-31 00:00:00   \n",
       "days_from_first_active_until_booking                          1043   \n",
       "days_from_first_active_until_account_created                   765   \n",
       "days_from_account_created_until_first_booking                  278   \n",
       "year_first_active                                             2009   \n",
       "month_first_active                                              10   \n",
       "day_first_active                                                31   \n",
       "day_of_week_first_active                                         5   \n",
       "week_of_year_first_active                                       44   \n",
       "year_first_booking                                            2012   \n",
       "month_first_booking                                              9   \n",
       "day_first_booking                                                8   \n",
       "day_of_week_first_booking                                        5   \n",
       "week_of_year_first_booking                                      36   \n",
       "year_account_created                                          2011   \n",
       "month_account_created                                           12   \n",
       "day_account_created                                              5   \n",
       "day_of_week_account_created                                      0   \n",
       "week_of_year_account_created                                    49   \n",
       "\n",
       "                                                                 4  \\\n",
       "id                                                      87mebub9p4   \n",
       "date_account_created                           2010-09-14 00:00:00   \n",
       "timestamp_first_active                         2009-12-08 06:11:05   \n",
       "date_first_booking                             2010-02-18 00:00:00   \n",
       "gender                                                   -unknown-   \n",
       "age                                                             41   \n",
       "signup_method                                                basic   \n",
       "signup_flow                                                      0   \n",
       "language                                                        en   \n",
       "affiliate_channel                                           direct   \n",
       "affiliate_provider                                          direct   \n",
       "first_affiliate_tracked                                  untracked   \n",
       "signup_app                                                     Web   \n",
       "first_device_type                                      Mac Desktop   \n",
       "first_browser                                               Chrome   \n",
       "country_destination                                             US   \n",
       "first_active                                   2009-12-08 00:00:00   \n",
       "days_from_first_active_until_booking                            72   \n",
       "days_from_first_active_until_account_created                   280   \n",
       "days_from_account_created_until_first_booking                 -208   \n",
       "year_first_active                                             2009   \n",
       "month_first_active                                              12   \n",
       "day_first_active                                                 8   \n",
       "day_of_week_first_active                                         1   \n",
       "week_of_year_first_active                                       50   \n",
       "year_first_booking                                            2010   \n",
       "month_first_booking                                              2   \n",
       "day_first_booking                                               18   \n",
       "day_of_week_first_booking                                        3   \n",
       "week_of_year_first_booking                                       7   \n",
       "year_account_created                                          2010   \n",
       "month_account_created                                            9   \n",
       "day_account_created                                             14   \n",
       "day_of_week_account_created                                      1   \n",
       "week_of_year_account_created                                    37   \n",
       "\n",
       "                                                                 6  \n",
       "id                                                      lsw9q7uk0j  \n",
       "date_account_created                           2010-01-02 00:00:00  \n",
       "timestamp_first_active                         2010-01-02 01:25:58  \n",
       "date_first_booking                             2010-01-05 00:00:00  \n",
       "gender                                                      FEMALE  \n",
       "age                                                             46  \n",
       "signup_method                                                basic  \n",
       "signup_flow                                                      0  \n",
       "language                                                        en  \n",
       "affiliate_channel                                            other  \n",
       "affiliate_provider                                      craigslist  \n",
       "first_affiliate_tracked                                  untracked  \n",
       "signup_app                                                     Web  \n",
       "first_device_type                                      Mac Desktop  \n",
       "first_browser                                               Safari  \n",
       "country_destination                                             US  \n",
       "first_active                                   2010-01-02 00:00:00  \n",
       "days_from_first_active_until_booking                             3  \n",
       "days_from_first_active_until_account_created                     0  \n",
       "days_from_account_created_until_first_booking                    3  \n",
       "year_first_active                                             2010  \n",
       "month_first_active                                               1  \n",
       "day_first_active                                                 2  \n",
       "day_of_week_first_active                                         5  \n",
       "week_of_year_first_active                                       53  \n",
       "year_first_booking                                            2010  \n",
       "month_first_booking                                              1  \n",
       "day_first_booking                                                5  \n",
       "day_of_week_first_booking                                        1  \n",
       "week_of_year_first_booking                                       1  \n",
       "year_account_created                                          2010  \n",
       "month_account_created                                            1  \n",
       "day_account_created                                              2  \n",
       "day_of_week_account_created                                      5  \n",
       "week_of_year_account_created                                    53  "
      ]
     },
     "execution_count": 31,
     "metadata": {},
     "output_type": "execute_result"
    }
   ],
   "source": [
    "df2.head().T"
   ]
  },
  {
   "cell_type": "markdown",
   "metadata": {},
   "source": [
    "## 3.1. Filtering Rows"
   ]
  },
  {
   "cell_type": "code",
   "execution_count": 32,
   "metadata": {
    "ExecuteTime": {
     "end_time": "2021-05-20T23:58:52.729529Z",
     "start_time": "2021-05-20T23:58:52.095634Z"
    }
   },
   "outputs": [],
   "source": [
    "# Filtering rows:\n",
    "# age - greater than 15 and lower than 120 - There are few people over 12O year old   \n",
    "df3 = df3[( df3['age'] > 15 ) & ( df3['age'] < 120 )]"
   ]
  },
  {
   "cell_type": "markdown",
   "metadata": {},
   "source": [
    "## 3.2. Columns Selection"
   ]
  },
  {
   "cell_type": "code",
   "execution_count": 33,
   "metadata": {
    "ExecuteTime": {
     "end_time": "2021-05-20T23:58:52.884617Z",
     "start_time": "2021-05-20T23:58:52.732527Z"
    }
   },
   "outputs": [],
   "source": [
    "cols = ['date_account_created', 'date_account_created', 'date_first_booking', 'timestamp_first_active', \n",
    "        'first_active'] # original datetime"
   ]
  },
  {
   "cell_type": "markdown",
   "metadata": {},
   "source": [
    "# 4.0. Balanced Dataset"
   ]
  },
  {
   "cell_type": "code",
   "execution_count": 34,
   "metadata": {
    "ExecuteTime": {
     "end_time": "2021-05-20T23:58:53.334791Z",
     "start_time": "2021-05-20T23:58:52.886619Z"
    }
   },
   "outputs": [],
   "source": [
    "df4 = df3.copy()\n",
    "#df4.shape"
   ]
  },
  {
   "cell_type": "code",
   "execution_count": 35,
   "metadata": {
    "ExecuteTime": {
     "end_time": "2021-05-20T23:58:55.213175Z",
     "start_time": "2021-05-20T23:58:53.341792Z"
    }
   },
   "outputs": [
    {
     "data": {
      "text/plain": [
       "(122636, 236)"
      ]
     },
     "execution_count": 35,
     "metadata": {},
     "output_type": "execute_result"
    }
   ],
   "source": [
    "#Encoder Categorical Variables\n",
    "ohe = pp.OneHotEncoder()\n",
    "\n",
    "#Numerical\n",
    "col_num = df4.select_dtypes(include=['int64', 'float64']).columns.tolist()\n",
    "\n",
    "#Categorical\n",
    "col_cat = df4.select_dtypes(exclude=['int64', 'float64', 'datetime64[ns]']).drop(['id', 'country_destination'], axis=1).columns.tolist()\n",
    "\n",
    "#encoding\n",
    "df4_dummy = pd.DataFrame(ohe.fit_transform( df4[ col_cat]).toarray(), index=df4.index)\n",
    "\n",
    "#join numerical and categorical\n",
    "df42 = pd.concat([df4[col_num], df4_dummy], axis=1)\n",
    "df42.shape"
   ]
  },
  {
   "cell_type": "markdown",
   "metadata": {},
   "source": [
    "## 4.1. Random Undersampling"
   ]
  },
  {
   "cell_type": "code",
   "execution_count": 36,
   "metadata": {
    "ExecuteTime": {
     "end_time": "2021-05-20T23:59:13.266875Z",
     "start_time": "2021-05-20T23:58:55.218176Z"
    }
   },
   "outputs": [],
   "source": [
    "#ratio_balanced\n",
    "ratio_balanced = {'NDF': 10000}\n",
    "\n",
    "#define sampler\n",
    "undersampling = us.RandomUnderSampler(sampling_strategy=ratio_balanced, random_state=32)\n",
    "\n",
    "#apply sampler\n",
    "X_under, y_under = undersampling.fit_resample(df42, df4['country_destination'])"
   ]
  },
  {
   "cell_type": "code",
   "execution_count": 37,
   "metadata": {
    "ExecuteTime": {
     "end_time": "2021-05-20T23:59:14.448587Z",
     "start_time": "2021-05-20T23:59:13.422782Z"
    }
   },
   "outputs": [
    {
     "data": {
      "text/plain": [
       "NDF      54852\n",
       "US       48057\n",
       "other     7511\n",
       "FR        3669\n",
       "IT        2014\n",
       "GB        1758\n",
       "ES        1685\n",
       "CA        1064\n",
       "DE         841\n",
       "NL         595\n",
       "AU         433\n",
       "PT         157\n",
       "Name: country_destination, dtype: int64"
      ]
     },
     "execution_count": 37,
     "metadata": {},
     "output_type": "execute_result"
    }
   ],
   "source": [
    "df4['country_destination'].value_counts()"
   ]
  },
  {
   "cell_type": "code",
   "execution_count": 38,
   "metadata": {
    "ExecuteTime": {
     "end_time": "2021-05-20T23:59:14.480568Z",
     "start_time": "2021-05-20T23:59:14.450585Z"
    }
   },
   "outputs": [
    {
     "data": {
      "text/plain": [
       "US       48057\n",
       "NDF      10000\n",
       "other     7511\n",
       "FR        3669\n",
       "IT        2014\n",
       "GB        1758\n",
       "ES        1685\n",
       "CA        1064\n",
       "DE         841\n",
       "NL         595\n",
       "AU         433\n",
       "PT         157\n",
       "Name: country_destination, dtype: int64"
      ]
     },
     "execution_count": 38,
     "metadata": {},
     "output_type": "execute_result"
    }
   ],
   "source": [
    "y_under.value_counts()"
   ]
  },
  {
   "cell_type": "markdown",
   "metadata": {},
   "source": [
    "## 4.2. Random Oversampling"
   ]
  },
  {
   "cell_type": "code",
   "execution_count": 37,
   "metadata": {
    "ExecuteTime": {
     "end_time": "2021-05-16T17:46:41.761675Z",
     "start_time": "2021-05-16T17:45:30.730409Z"
    }
   },
   "outputs": [],
   "source": [
    "#define sampler\n",
    "oversampling = oversamp.RandomOverSampler(sampling_strategy='all', random_state=32)\n",
    "\n",
    "#apply sampler\n",
    "X_over, y_over = oversampling.fit_resample(df42, df4['country_destination'])"
   ]
  },
  {
   "cell_type": "code",
   "execution_count": 38,
   "metadata": {
    "ExecuteTime": {
     "end_time": "2021-05-16T17:46:51.113571Z",
     "start_time": "2021-05-16T17:46:47.901970Z"
    }
   },
   "outputs": [
    {
     "data": {
      "text/plain": [
       "NDF      54852\n",
       "US       48057\n",
       "other     7511\n",
       "FR        3669\n",
       "IT        2014\n",
       "GB        1758\n",
       "ES        1685\n",
       "CA        1064\n",
       "DE         841\n",
       "NL         595\n",
       "AU         433\n",
       "PT         157\n",
       "Name: country_destination, dtype: int64"
      ]
     },
     "execution_count": 38,
     "metadata": {},
     "output_type": "execute_result"
    }
   ],
   "source": [
    "df4['country_destination'].value_counts()"
   ]
  },
  {
   "cell_type": "code",
   "execution_count": 39,
   "metadata": {
    "ExecuteTime": {
     "end_time": "2021-05-16T17:46:52.955288Z",
     "start_time": "2021-05-16T17:46:51.113571Z"
    }
   },
   "outputs": [
    {
     "data": {
      "text/plain": [
       "FR       54852\n",
       "AU       54852\n",
       "CA       54852\n",
       "US       54852\n",
       "NL       54852\n",
       "ES       54852\n",
       "IT       54852\n",
       "other    54852\n",
       "PT       54852\n",
       "DE       54852\n",
       "GB       54852\n",
       "NDF      54852\n",
       "Name: country_destination, dtype: int64"
      ]
     },
     "execution_count": 39,
     "metadata": {},
     "output_type": "execute_result"
    }
   ],
   "source": [
    "y_over.value_counts()"
   ]
  },
  {
   "cell_type": "markdown",
   "metadata": {},
   "source": [
    "## 4.3. SMOTE + TOMEKLINK"
   ]
  },
  {
   "cell_type": "code",
   "execution_count": 40,
   "metadata": {
    "ExecuteTime": {
     "end_time": "2021-05-16T17:47:06.092797Z",
     "start_time": "2021-05-16T17:46:53.611518Z"
    }
   },
   "outputs": [],
   "source": [
    "ratio_balanced =  {'NDF': 54852,\n",
    "                   'US':  48057,\n",
    "                   'other': 6*7511,\n",
    "                   'FR': 12*3669,\n",
    "                   'IT': 20*2014,\n",
    "                   'GB': 30*1758,\n",
    "                   'ES': 30*1685,\n",
    "                   'CA': 40*1064,\n",
    "                   'DE': 45*841,\n",
    "                   'NL': 80*595,\n",
    "                   'AU': 85*433,\n",
    "                   'PT': 300*157}"
   ]
  },
  {
   "cell_type": "code",
   "execution_count": 41,
   "metadata": {
    "ExecuteTime": {
     "end_time": "2021-05-16T17:47:07.254008Z",
     "start_time": "2021-05-16T17:47:06.092797Z"
    }
   },
   "outputs": [],
   "source": [
    "#define sampler\n",
    "smt = c.SMOTETomek(sampling_strategy=ratio_balanced, random_state=32, n_jobs=-1)"
   ]
  },
  {
   "cell_type": "code",
   "execution_count": 42,
   "metadata": {
    "ExecuteTime": {
     "end_time": "2021-05-16T17:47:08.517491Z",
     "start_time": "2021-05-16T17:47:07.254008Z"
    }
   },
   "outputs": [],
   "source": [
    "#apply sampler\n",
    "#X_smt, y_smt = smt.fit_resample(df42, df4['country_destination'])"
   ]
  },
  {
   "cell_type": "code",
   "execution_count": 43,
   "metadata": {
    "ExecuteTime": {
     "end_time": "2021-05-16T17:47:10.156013Z",
     "start_time": "2021-05-16T17:47:08.517491Z"
    }
   },
   "outputs": [],
   "source": [
    "#pickle.dump(X_smt, open('X_smt2.pkl','wb'))\n",
    "#pickle.dump(y_smt, open('y_smt2.pkl','wb'))"
   ]
  },
  {
   "cell_type": "code",
   "execution_count": 44,
   "metadata": {
    "ExecuteTime": {
     "end_time": "2021-05-16T17:47:11.399927Z",
     "start_time": "2021-05-16T17:47:10.156013Z"
    }
   },
   "outputs": [
    {
     "data": {
      "text/plain": [
       "NDF      54852\n",
       "US       48057\n",
       "other     7511\n",
       "FR        3669\n",
       "IT        2014\n",
       "GB        1758\n",
       "ES        1685\n",
       "CA        1064\n",
       "DE         841\n",
       "NL         595\n",
       "AU         433\n",
       "PT         157\n",
       "Name: country_destination, dtype: int64"
      ]
     },
     "execution_count": 44,
     "metadata": {},
     "output_type": "execute_result"
    }
   ],
   "source": [
    "df4['country_destination'].value_counts()"
   ]
  },
  {
   "cell_type": "code",
   "execution_count": 45,
   "metadata": {
    "ExecuteTime": {
     "end_time": "2021-05-16T17:47:12.965403Z",
     "start_time": "2021-05-16T17:47:11.399927Z"
    }
   },
   "outputs": [
    {
     "data": {
      "text/plain": [
       "FR       54852\n",
       "AU       54852\n",
       "CA       54852\n",
       "US       54852\n",
       "NL       54852\n",
       "ES       54852\n",
       "IT       54852\n",
       "other    54852\n",
       "PT       54852\n",
       "DE       54852\n",
       "GB       54852\n",
       "NDF      54852\n",
       "Name: country_destination, dtype: int64"
      ]
     },
     "execution_count": 45,
     "metadata": {},
     "output_type": "execute_result"
    }
   ],
   "source": [
    "y_over.value_counts()"
   ]
  },
  {
   "cell_type": "code",
   "execution_count": 46,
   "metadata": {
    "ExecuteTime": {
     "end_time": "2021-05-16T17:47:56.085783Z",
     "start_time": "2021-05-16T17:47:12.965403Z"
    }
   },
   "outputs": [],
   "source": [
    "X_smt = pickle.load(open('C:/Users/Henrique/repos/Airbnb/airbnb_predict_first_booking/X_smt2.pkl', 'rb'))\n",
    "y_smt = pickle.load(open('C:/Users/Henrique/repos/Airbnb/airbnb_predict_first_booking/y_smt2.pkl', 'rb'))"
   ]
  },
  {
   "cell_type": "code",
   "execution_count": 47,
   "metadata": {
    "ExecuteTime": {
     "end_time": "2021-05-16T17:48:02.200204Z",
     "start_time": "2021-05-16T17:47:56.087787Z"
    }
   },
   "outputs": [],
   "source": [
    "#numerical data\n",
    "df43 = X_smt[ col_num ]\n",
    "\n",
    "#categorical data\n",
    "df44 = X_smt.drop(col_num, axis=1)\n",
    "df45 = pd.DataFrame(ohe.inverse_transform(df44), columns=col_cat, index=df44.index)\n",
    "\n",
    "#join numerical categorical\n",
    "df46 = pd.concat([df43, df45], axis=1)\n",
    "df46['country_destination'] = y_smt"
   ]
  },
  {
   "cell_type": "markdown",
   "metadata": {},
   "source": [
    "# 5.0. Exploratory Data Analysis"
   ]
  },
  {
   "cell_type": "markdown",
   "metadata": {},
   "source": [
    "##  5.1. Hypothesys Validation ( Unbalanced Dataset )"
   ]
  },
  {
   "cell_type": "code",
   "execution_count": 60,
   "metadata": {
    "ExecuteTime": {
     "end_time": "2021-05-21T00:12:00.019362Z",
     "start_time": "2021-05-21T00:11:59.986380Z"
    }
   },
   "outputs": [],
   "source": [
    " df51 = df4.copy()"
   ]
  },
  {
   "cell_type": "markdown",
   "metadata": {},
   "source": [
    "**H01.** Em todos os destinos, os usuários levam 15 dias, em média, para fazer a primeira reserva no Airbnb, desde sua primeira ativacao.\n",
    "\n",
    "**Verdadeiro.** Em todos os destinos, os usuários até 6 dias para reservar o primeiro Airbnb"
   ]
  },
  {
   "cell_type": "code",
   "execution_count": 40,
   "metadata": {
    "ExecuteTime": {
     "end_time": "2021-05-21T00:02:04.098847Z",
     "start_time": "2021-05-21T00:02:02.255140Z"
    }
   },
   "outputs": [
    {
     "data": {
      "text/plain": [
       "<AxesSubplot:xlabel='country_destination', ylabel='days_from_first_active_until_booking'>"
      ]
     },
     "execution_count": 40,
     "metadata": {},
     "output_type": "execute_result"
    },
    {
     "data": {
      "image/png": "[encoded data removed]",
      "text/plain": [
       "<Figure size 1440x864 with 2 Axes>"
      ]
     },
     "metadata": {
      "needs_background": "light"
     },
     "output_type": "display_data"
    }
   ],
   "source": [
    "plt.figure(figsize=(20, 12))\n",
    "plt.subplot(3, 1, 1)\n",
    "aux01 = df51[['days_from_first_active_until_booking', 'country_destination']].groupby('country_destination').median().reset_index()\n",
    "sns.barplot(x='country_destination', y='days_from_first_active_until_booking', \n",
    "             data=aux01.sort_values('days_from_first_active_until_booking'))\n",
    "\n",
    "# remove outlier\n",
    "plt.subplot(3, 1, 2)\n",
    "aux02 = df51[(df51['country_destination'] != 'NDF') & (df51['country_destination'] != 'other')]\n",
    "aux02 = aux02[['days_from_first_active_until_booking', 'country_destination']].groupby('country_destination').median().reset_index()\n",
    "sns.barplot( x='country_destination', y='days_from_first_active_until_booking', \n",
    "             data=aux02.sort_values('days_from_first_active_until_booking'))"
   ]
  },
  {
   "cell_type": "code",
   "execution_count": 41,
   "metadata": {
    "ExecuteTime": {
     "end_time": "2021-05-21T00:02:04.114837Z",
     "start_time": "2021-05-21T00:02:04.101845Z"
    }
   },
   "outputs": [],
   "source": [
    "#aux03 = df52[(df52['days_from_first_active_until_booking'] < 10) & (df52['country_destination'] == 'US')]['days_from_first_active_until_booking']\n",
    "#plt.boxplot(aux03)"
   ]
  },
  {
   "cell_type": "markdown",
   "metadata": {},
   "source": [
    "**H02.** Em todos os destinos, os usuários levam 3 dias, em média, para fazer o cadastro no site.\n",
    "\n",
    "**Verdadeira.** Em todos os destinos, os usuários levam até 2 dias para finalizar o cadastro"
   ]
  },
  {
   "cell_type": "code",
   "execution_count": 42,
   "metadata": {
    "ExecuteTime": {
     "end_time": "2021-05-21T00:02:06.226778Z",
     "start_time": "2021-05-21T00:02:05.733712Z"
    }
   },
   "outputs": [
    {
     "data": {
      "text/plain": [
       "<AxesSubplot:xlabel='country_destination', ylabel='days_from_first_active_until_account_created'>"
      ]
     },
     "execution_count": 42,
     "metadata": {},
     "output_type": "execute_result"
    },
    {
     "data": {
      "image/png": "[encoded data removed]",
      "text/plain": [
       "<Figure size 1440x864 with 1 Axes>"
      ]
     },
     "metadata": {
      "needs_background": "light"
     },
     "output_type": "display_data"
    }
   ],
   "source": [
    "plt.figure(figsize=(20, 12))\n",
    "aux01 = df51[['days_from_first_active_until_account_created', 'country_destination']].groupby('country_destination').mean().reset_index()\n",
    "sns.barplot(x='country_destination', y='days_from_first_active_until_account_created', \n",
    "             data=aux01.sort_values('days_from_first_active_until_account_created'))"
   ]
  },
  {
   "cell_type": "markdown",
   "metadata": {},
   "source": [
    "**H03.** O volume de reservas anual feitas durante o verão aumentaram 20% para destinos dentro dos USA.\n",
    "\n",
    "**False.** O Volume de reservas aumenta durante o verão entre os anos de 2010 até 2013."
   ]
  },
  {
   "cell_type": "code",
   "execution_count": 137,
   "metadata": {
    "ExecuteTime": {
     "end_time": "2021-05-21T01:08:55.466467Z",
     "start_time": "2021-05-21T01:08:55.165006Z"
    }
   },
   "outputs": [
    {
     "data": {
      "text/plain": [
       "<AxesSubplot:xlabel='year_first_booking', ylabel='delta'>"
      ]
     },
     "execution_count": 137,
     "metadata": {},
     "output_type": "execute_result"
    },
    {
     "data": {
      "image/png": "[encoded data removed]",
      "text/plain": [
       "<Figure size 1440x864 with 1 Axes>"
      ]
     },
     "metadata": {
      "needs_background": "light"
     },
     "output_type": "display_data"
    }
   ],
   "source": [
    "aux01 = df51[['year_first_booking', 'month_first_booking', 'country_destination']].\\\n",
    "                groupby(['year_first_booking', 'month_first_booking', 'country_destination']). \\\n",
    "                size().reset_index().rename(columns={0:'count'})\n",
    "\n",
    "# select only summer\n",
    "aux01 = aux01[(aux01['country_destination'] == 'US')]\n",
    "\n",
    "aux02 = aux01[['year_first_booking', 'count']].groupby('year_first_booking').sum().reset_index()\n",
    "\n",
    "aux02['delta'] = 100*aux02['count'].pct_change().fillna(0)\n",
    "\n",
    "plt.figure(figsize=(20,12))\n",
    "sns.barplot(x='year_first_booking', y='delta', data=aux02)"
   ]
  },
  {
   "cell_type": "code",
   "execution_count": 138,
   "metadata": {
    "ExecuteTime": {
     "end_time": "2021-05-21T01:08:56.818000Z",
     "start_time": "2021-05-21T01:08:56.801008Z"
    }
   },
   "outputs": [],
   "source": [
    "#perc_dict = {}\n",
    "\n",
    "#print(len(aux02['count']))\n",
    "\n",
    "#for i in range(len(aux02['count'])):\n",
    "#    if i != 5:\n",
    "#        print(i)\n",
    "#       y = aux02['year_first_booking'][i+1]\n",
    "#        perc = ((aux02['count'][i+1]*100)/(aux02['count'][i]))-100\n",
    "#        perc_dict[y] = perc\n",
    "#    else:\n",
    "#        exit"
   ]
  },
  {
   "cell_type": "code",
   "execution_count": 139,
   "metadata": {
    "ExecuteTime": {
     "end_time": "2021-05-21T01:08:58.198068Z",
     "start_time": "2021-05-21T01:08:58.190075Z"
    }
   },
   "outputs": [
    {
     "data": {
      "text/plain": [
       "{2011: 276.2048192771084,\n",
       " 2012: 231.58526821457167,\n",
       " 2013: 104.32210551732464,\n",
       " 2014: 9.17631765540061,\n",
       " 2015: -93.44590572062565}"
      ]
     },
     "execution_count": 139,
     "metadata": {},
     "output_type": "execute_result"
    }
   ],
   "source": [
    "perc_dict"
   ]
  },
  {
   "cell_type": "code",
   "execution_count": 172,
   "metadata": {
    "ExecuteTime": {
     "end_time": "2021-05-21T01:15:17.342937Z",
     "start_time": "2021-05-21T01:15:17.330942Z"
    }
   },
   "outputs": [],
   "source": [
    "perc_d = {}\n",
    "def perc_country(x): \n",
    "    j = len(x['count'])\n",
    "    for i in range(len(x['count'])):\n",
    "        if i != j:\n",
    "            y = x['country_destination'][i]\n",
    "            perc = ((x['count'][i]*100)/(x['count'][8]))-100\n",
    "            perc_d[y] = perc\n",
    "        else:\n",
    "            return x\n",
    "            exit"
   ]
  },
  {
   "cell_type": "markdown",
   "metadata": {
    "ExecuteTime": {
     "end_time": "2021-05-20T23:49:46.917965Z",
     "start_time": "2021-05-20T23:49:46.908972Z"
    }
   },
   "source": [
    "**H04.** Usuários do sexo feminino fazem 10% mais reservas para países fora dos USA."
   ]
  },
  {
   "cell_type": "code",
   "execution_count": 173,
   "metadata": {
    "ExecuteTime": {
     "end_time": "2021-05-21T01:15:18.180103Z",
     "start_time": "2021-05-21T01:15:18.165112Z"
    }
   },
   "outputs": [],
   "source": [
    "#df51.dtypes"
   ]
  },
  {
   "cell_type": "code",
   "execution_count": 176,
   "metadata": {
    "ExecuteTime": {
     "end_time": "2021-05-21T01:15:35.294854Z",
     "start_time": "2021-05-21T01:15:35.231891Z"
    }
   },
   "outputs": [],
   "source": [
    "aux01 = df51[(df51['gender'] == 'FEMALE') & (df51['country_destination'] != 'NDF') & (df51['country_destination'] != 'other') & (df51['country_destination'] != 'US')]\n",
    "\n",
    "aux02 = aux01[['gender','country_destination']].\\\n",
    "                groupby(['gender','country_destination']). \\\n",
    "                size().reset_index().rename(columns={0:'count'})\n",
    "\n",
    "aux02 = perc_country(aux02)\n",
    "\n",
    "#sns.barplot(x='country_destination', y='delta', data=aux02)"
   ]
  },
  {
   "cell_type": "code",
   "execution_count": 175,
   "metadata": {
    "ExecuteTime": {
     "end_time": "2021-05-21T01:15:20.142046Z",
     "start_time": "2021-05-21T01:15:20.131050Z"
    }
   },
   "outputs": [
    {
     "data": {
      "text/plain": [
       "{'AU': 178.57142857142856,\n",
       " 'CA': 502.8571428571429,\n",
       " 'DE': 365.7142857142857,\n",
       " 'ES': 1038.5714285714287,\n",
       " 'FR': 2464.285714285714,\n",
       " 'GB': 1071.4285714285713,\n",
       " 'IT': 1335.7142857142858,\n",
       " 'NL': 228.57142857142856,\n",
       " 'PT': 0.0}"
      ]
     },
     "execution_count": 175,
     "metadata": {},
     "output_type": "execute_result"
    }
   ],
   "source": [
    "perc_d"
   ]
  },
  {
   "cell_type": "markdown",
   "metadata": {},
   "source": [
    "## 5.2. Variables Impact (Balanced Dataset)"
   ]
  },
  {
   "cell_type": "code",
   "execution_count": 54,
   "metadata": {
    "ExecuteTime": {
     "end_time": "2021-05-16T17:48:32.611216Z",
     "start_time": "2021-05-16T17:48:31.901757Z"
    }
   },
   "outputs": [],
   "source": [
    " df52 = df4.copy() #unbalanced dataset"
   ]
  },
  {
   "cell_type": "markdown",
   "metadata": {},
   "source": [
    "### 5.2.1. Univariate Analysis"
   ]
  },
  {
   "cell_type": "code",
   "execution_count": 55,
   "metadata": {
    "ExecuteTime": {
     "end_time": "2021-05-16T17:48:33.694636Z",
     "start_time": "2021-05-16T17:48:32.613221Z"
    }
   },
   "outputs": [],
   "source": [
    "#profile = ProfileReport(df51, title='Airbnb Booking')\n",
    "#profile.to_notebook_iframe()\n",
    "#profile.to_file(output_file='airbnb_booking_statistics_after_cleaning.html')"
   ]
  },
  {
   "cell_type": "code",
   "execution_count": 56,
   "metadata": {
    "ExecuteTime": {
     "end_time": "2021-05-16T17:48:34.316008Z",
     "start_time": "2021-05-16T17:48:33.696635Z"
    }
   },
   "outputs": [],
   "source": [
    "# ===================== High Correlation  ===================== \n",
    "# days_from_first_active_until_booking x days_from_account_created_until_first_booking\n",
    "# Remove: days_from_first_active_until_booking\n",
    "\n",
    "# year_first_active x year_account_created\n",
    "# Remove: year_first_active\n",
    "\n",
    "# month_first_active x month_account_created\n",
    "# Remove: month_first_active\n",
    "\n",
    "# day_first_active x day_account_created\n",
    "# Remove: day_first_active\n",
    "\n",
    "# day_of_week_first_active x day_of_week_account_created\n",
    "# Remove: day_of_week_first_active\n",
    "\n",
    "# week_of_year_first_active x week_of_year_account_created\n",
    "# Remove: week_of_year_first_active\n",
    "\n",
    "# month_first_booking x week_of_year_first_booking\n",
    "# Remove: month_first_booking\n",
    "\n",
    "# month_account_created x week_of_year_account_created\n",
    "# Remove: month_account_created\n",
    "\n",
    "# year_first_booking x year_account_created\n",
    "# Remove: year_first_booking\n",
    "\n",
    "# week_of_year_first_booking x week_of_year_account_created\n",
    "# Remove: week_of_year_first_booking\n",
    "\n",
    "# affiliate_channel x affiliate_provider\n",
    "# Remove: affiliate_provider\n",
    "\n",
    "# first_device_type x first_browser\n",
    "# Remove: first_browser\n",
    "\n",
    "#first_device_type x sigup_app\n",
    "#Remove: first_device_type"
   ]
  },
  {
   "cell_type": "markdown",
   "metadata": {},
   "source": [
    " ### 5.2.2 Bivariate Analysis"
   ]
  },
  {
   "cell_type": "markdown",
   "metadata": {},
   "source": [
    "###  5.2.3. Multivariate Analysis"
   ]
  },
  {
   "cell_type": "code",
   "execution_count": 57,
   "metadata": {
    "ExecuteTime": {
     "end_time": "2021-05-16T17:48:35.400931Z",
     "start_time": "2021-05-16T17:48:34.318012Z"
    }
   },
   "outputs": [],
   "source": [
    "cols = ['days_from_first_active_until_booking',  'year_first_active',  'month_first_active', 'day_first_active',\n",
    "        'day_of_week_first_active', 'week_of_year_first_active', 'month_first_booking', 'month_account_created',\n",
    "        'year_first_booking', 'week_of_year_first_booking', 'affiliate_provider',\n",
    "        'first_browser', 'first_device_type', 'language'] # high correlation"
   ]
  },
  {
   "cell_type": "markdown",
   "metadata": {
    "heading_collapsed": true
   },
   "source": [
    "# 6.0. Data Preparation"
   ]
  },
  {
   "cell_type": "code",
   "execution_count": 58,
   "metadata": {
    "ExecuteTime": {
     "end_time": "2021-05-16T17:48:36.464101Z",
     "start_time": "2021-05-16T17:48:35.402930Z"
    },
    "hidden": true
   },
   "outputs": [
    {
     "data": {
      "text/plain": [
       "(546589, 16)"
      ]
     },
     "execution_count": 58,
     "metadata": {},
     "output_type": "execute_result"
    }
   ],
   "source": [
    "df6 = df46.drop( cols, axis=1 )\n",
    "df6.shape"
   ]
  },
  {
   "cell_type": "code",
   "execution_count": 59,
   "metadata": {
    "ExecuteTime": {
     "end_time": "2021-05-16T17:48:42.664426Z",
     "start_time": "2021-05-16T17:48:36.467099Z"
    },
    "hidden": true
   },
   "outputs": [
    {
     "data": {
      "text/plain": [
       "signup_flow                                       int64\n",
       "days_from_first_active_until_account_created      int64\n",
       "days_from_account_created_until_first_booking     int64\n",
       "day_first_booking                                 int64\n",
       "day_of_week_first_booking                         int64\n",
       "year_account_created                              int64\n",
       "day_account_created                               int64\n",
       "day_of_week_account_created                       int64\n",
       "week_of_year_account_created                      int64\n",
       "gender                                           object\n",
       "age                                              object\n",
       "signup_method                                    object\n",
       "affiliate_channel                                object\n",
       "first_affiliate_tracked                          object\n",
       "signup_app                                       object\n",
       "country_destination                              object\n",
       "dtype: object"
      ]
     },
     "execution_count": 59,
     "metadata": {},
     "output_type": "execute_result"
    }
   ],
   "source": [
    "df6.dtypes"
   ]
  },
  {
   "cell_type": "markdown",
   "metadata": {
    "hidden": true
   },
   "source": [
    "## 6.1. Rescaling"
   ]
  },
  {
   "cell_type": "code",
   "execution_count": 60,
   "metadata": {
    "ExecuteTime": {
     "end_time": "2021-05-16T17:48:44.003105Z",
     "start_time": "2021-05-16T17:48:42.666186Z"
    },
    "hidden": true
   },
   "outputs": [],
   "source": [
    "ss = pp.StandardScaler()\n",
    "rs = pp.RobustScaler()\n",
    "mms = pp.MinMaxScaler()"
   ]
  },
  {
   "cell_type": "code",
   "execution_count": 61,
   "metadata": {
    "ExecuteTime": {
     "end_time": "2021-05-16T17:48:45.232096Z",
     "start_time": "2021-05-16T17:48:44.005109Z"
    },
    "hidden": true
   },
   "outputs": [],
   "source": [
    "#age - Standardization\n",
    "df6['age'] = ss.fit_transform(df6[['age']].values)\n",
    "\n",
    "#signup_flow - Robust Scaler\n",
    "df6['signup_flow'] = rs.fit_transform(df6[['signup_flow']].values)\n",
    "\n",
    "#days_from_first_active_until_account_created - Robust Scaler\n",
    "df6['days_from_first_active_until_account_created'] = rs.fit_transform(df6[['days_from_first_active_until_account_created']].values)\n",
    "\n",
    "#days_from_account_created_until_first_booking - Robust Scaler\n",
    "df6['days_from_account_created_until_first_booking'] = rs.fit_transform(df6[['days_from_account_created_until_first_booking']].values)\n",
    "\n",
    "#year_account_created - MinMax Scaler\n",
    "df6['year_account_created'] = mms.fit_transform(df6[['year_account_created']].values)"
   ]
  },
  {
   "cell_type": "markdown",
   "metadata": {
    "hidden": true
   },
   "source": [
    "##  6.2. Encoding"
   ]
  },
  {
   "cell_type": "code",
   "execution_count": 62,
   "metadata": {
    "ExecuteTime": {
     "end_time": "2021-05-16T17:48:45.858657Z",
     "start_time": "2021-05-16T17:48:45.234102Z"
    },
    "hidden": true
   },
   "outputs": [],
   "source": [
    " te = TargetEncoder()"
   ]
  },
  {
   "cell_type": "code",
   "execution_count": 63,
   "metadata": {
    "ExecuteTime": {
     "end_time": "2021-05-16T17:48:52.330676Z",
     "start_time": "2021-05-16T17:48:45.860660Z"
    },
    "hidden": true
   },
   "outputs": [
    {
     "name": "stderr",
     "output_type": "stream",
     "text": [
      "C:\\Users\\Henrique\\anaconda3\\lib\\site-packages\\category_encoders\\utils.py:21: FutureWarning: is_categorical is deprecated and will be removed in a future version.  Use is_categorical_dtype instead\n",
      "  elif pd.api.types.is_categorical(cols):\n",
      "C:\\Users\\Henrique\\anaconda3\\lib\\site-packages\\category_encoders\\utils.py:21: FutureWarning: is_categorical is deprecated and will be removed in a future version.  Use is_categorical_dtype instead\n",
      "  elif pd.api.types.is_categorical(cols):\n"
     ]
    }
   ],
   "source": [
    "# gender - One Hot Encoder\n",
    "df6 = pd.get_dummies( df6, prefix=['gender'], columns=['gender'] )\n",
    "\n",
    "# signup_method - One Hot Encoder\n",
    "df6 = pd.get_dummies( df6, prefix=['signup_method'], columns=['signup_method'] )\n",
    "\n",
    "# signup_app - One Hot Encoder\n",
    "df6 = pd.get_dummies( df6, prefix=['signup_app'], columns=['signup_app'] )\n",
    "\n",
    "# affiliate_channel - Target Encoder\n",
    "c = {'NDF':0, 'US':1, 'other':2, 'CA':3, 'FR':4, 'IT':5, 'ES':6, 'GB':7, 'NL':8, 'DE':9, 'AU':10, 'PT':11}\n",
    "df6['affiliate_channel'] = te.fit_transform( df6[['affiliate_channel']].values, df6['country_destination'].map( c ) )\n",
    "\n",
    "# first_affiliate_tracked - Target Encoder\n",
    "df6['first_affiliate_tracked'] = te.fit_transform( df6[['first_affiliate_tracked']].values, df6['country_destination'].map( c ) )"
   ]
  },
  {
   "cell_type": "markdown",
   "metadata": {
    "hidden": true
   },
   "source": [
    "##  6.3. Transformation"
   ]
  },
  {
   "cell_type": "code",
   "execution_count": 64,
   "metadata": {
    "ExecuteTime": {
     "end_time": "2021-05-16T17:49:02.850264Z",
     "start_time": "2021-05-16T17:48:52.332680Z"
    },
    "hidden": true
   },
   "outputs": [],
   "source": [
    " # week_of_year_account_created\n",
    "df6['week_of_year_account_created_sin'] = df6['week_of_year_account_created'].apply( lambda x: np.sin( x * (2*np.pi/52 ) ) )\n",
    "df6['week_of_year_account_created_cos'] = df6['week_of_year_account_created'].apply( lambda x: np.cos( x * (2*np.pi/52 ) ) )\n",
    "\n",
    "# day_of_week_first_booking\n",
    "df6['day_of_week_first_booking_sin'] = df6['day_of_week_first_booking'].apply( lambda x: np.sin( x * (2*np.pi/7 ) ) )\n",
    "df6['day_of_week_first_booking_cos'] = df6['day_of_week_first_booking'].apply( lambda x: np.cos( x * (2*np.pi/7 ) ) )\n",
    "\n",
    "# day_account_created\n",
    "df6['day_account_created_sin'] = df6['day_account_created'].apply( lambda x: np.sin( x * (2*np.pi/31 ) ) )\n",
    "df6['day_account_created_cos'] = df6['day_account_created'].apply( lambda x: np.cos( x * (2*np.pi/31 ) ) )\n",
    "\n",
    "# day_of_week_account_created\n",
    "df6['day_of_week_account_created_sin'] = df6['day_of_week_account_created'].apply( lambda x: np.sin( x * (2*np.pi/7 ) ) )\n",
    "df6['day_of_week_account_created_cos'] = df6['day_of_week_account_created'].apply( lambda x: np.cos( x * (2*np.pi/7 ) ) )"
   ]
  },
  {
   "cell_type": "markdown",
   "metadata": {
    "heading_collapsed": true
   },
   "source": [
    "# 7.0. Feature Seleciotn"
   ]
  },
  {
   "cell_type": "code",
   "execution_count": 65,
   "metadata": {
    "ExecuteTime": {
     "end_time": "2021-05-16T17:49:02.897243Z",
     "start_time": "2021-05-16T17:49:02.852260Z"
    },
    "hidden": true
   },
   "outputs": [],
   "source": [
    " df7 = df6.copy()"
   ]
  },
  {
   "cell_type": "code",
   "execution_count": 66,
   "metadata": {
    "ExecuteTime": {
     "end_time": "2021-05-16T17:49:05.682811Z",
     "start_time": "2021-05-16T17:49:02.899245Z"
    },
    "hidden": true
   },
   "outputs": [],
   "source": [
    "X = df7.drop(['country_destination'], axis=1)\n",
    "y = df7['country_destination'].copy()"
   ]
  },
  {
   "cell_type": "code",
   "execution_count": 67,
   "metadata": {
    "ExecuteTime": {
     "end_time": "2021-05-16T17:49:10.734283Z",
     "start_time": "2021-05-16T17:49:05.684809Z"
    },
    "hidden": true
   },
   "outputs": [],
   "source": [
    "#split dataset into train and test\n",
    "X_train, X_test, y_train, y_test = ms.train_test_split(X, y, test_size=0.2, random_state=32)"
   ]
  },
  {
   "cell_type": "markdown",
   "metadata": {},
   "source": [
    "# 8.0. Machine Learning"
   ]
  },
  {
   "cell_type": "markdown",
   "metadata": {},
   "source": [
    "## 8.1. Baseline Model"
   ]
  },
  {
   "cell_type": "code",
   "execution_count": 68,
   "metadata": {
    "ExecuteTime": {
     "end_time": "2021-05-16T17:49:12.049727Z",
     "start_time": "2021-05-16T17:49:11.290685Z"
    }
   },
   "outputs": [],
   "source": [
    "country_destination_list = df1['country_destination'].drop_duplicates().sort_values().tolist()\n",
    "k_num = y_test.shape[0]\n",
    "country_destination_weights = df1['country_destination'].value_counts(normalize=True).sort_index().tolist()\n",
    "\n",
    "yhat_random = random.choices(population=country_destination_list, \n",
    "                             weights=country_destination_weights,\n",
    "                             k=k_num)"
   ]
  },
  {
   "cell_type": "markdown",
   "metadata": {},
   "source": [
    "### 8.1.1. Baseline Performance"
   ]
  },
  {
   "cell_type": "code",
   "execution_count": 69,
   "metadata": {
    "ExecuteTime": {
     "end_time": "2021-05-16T17:49:42.656519Z",
     "start_time": "2021-05-16T17:49:12.049727Z"
    }
   },
   "outputs": [
    {
     "name": "stdout",
     "output_type": "stream",
     "text": [
      "Accuracy: 0.09158601511187545\n",
      "Balanced Accuracy: 0.08308762180481995\n",
      "Kappa Accuracy: -0.0003502314390733119\n",
      "              precision    recall  f1-score   support\n",
      "\n",
      "          AU       0.07      0.00      0.01      7362\n",
      "          CA       0.08      0.01      0.01      8609\n",
      "          DE       0.08      0.01      0.02      7439\n",
      "          ES       0.08      0.01      0.02     10084\n",
      "          FR       0.08      0.03      0.04      8854\n",
      "          GB       0.09      0.01      0.02     10560\n",
      "          IT       0.07      0.02      0.02      7972\n",
      "         NDF       0.10      0.45      0.16     10901\n",
      "          NL       0.10      0.01      0.01      9547\n",
      "          PT       0.08      0.00      0.00      9501\n",
      "          US       0.09      0.39      0.14      9503\n",
      "       other       0.09      0.07      0.08      8986\n",
      "\n",
      "    accuracy                           0.09    109318\n",
      "   macro avg       0.08      0.08      0.05    109318\n",
      "weighted avg       0.08      0.09      0.05    109318\n",
      "\n"
     ]
    },
    {
     "data": {
      "text/plain": [
       "<AxesSubplot:title={'center':'Confusion Matrix'}, xlabel='Predicted label', ylabel='True label'>"
      ]
     },
     "execution_count": 69,
     "metadata": {},
     "output_type": "execute_result"
    },
    {
     "data": {
      "image/png": "[encoded data removed]",
      "text/plain": [
       "<Figure size 864x864 with 2 Axes>"
      ]
     },
     "metadata": {
      "needs_background": "light"
     },
     "output_type": "display_data"
    }
   ],
   "source": [
    "#accuracy\n",
    "acc_random = m.accuracy_score(y_test, yhat_random)\n",
    "print('Accuracy: {}'.format(acc_random))\n",
    "\n",
    "#balanced accuracy\n",
    "balanced_acc_random = m.balanced_accuracy_score(y_test, yhat_random)\n",
    "print('Balanced Accuracy: {}'.format(balanced_acc_random))\n",
    "\n",
    "#Kappa metrics\n",
    "kappa_random = m.cohen_kappa_score(y_test, yhat_random)\n",
    "print('Kappa Accuracy: {}'.format(kappa_random))\n",
    "\n",
    "#Classification report\n",
    "print( m.classification_report( y_test, yhat_random ) )\n",
    "\n",
    "#Confusion Matrix\n",
    "mt.plot_confusion_matrix( y_test, yhat_random, normalize=False, figsize=(12,12))"
   ]
  },
  {
   "cell_type": "markdown",
   "metadata": {},
   "source": [
    "## 8.2. Neural Network - MLP"
   ]
  },
  {
   "cell_type": "code",
   "execution_count": 70,
   "metadata": {
    "ExecuteTime": {
     "end_time": "2021-05-16T17:49:44.340808Z",
     "start_time": "2021-05-16T17:49:43.613624Z"
    }
   },
   "outputs": [],
   "source": [
    "ohe = pp.OneHotEncoder()\n",
    "y_train_nn = ohe.fit_transform(y_train.values.reshape(-1, 1)).toarray()"
   ]
  },
  {
   "cell_type": "code",
   "execution_count": 71,
   "metadata": {
    "ExecuteTime": {
     "end_time": "2021-05-16T17:49:44.589564Z",
     "start_time": "2021-05-16T17:49:44.340808Z"
    }
   },
   "outputs": [
    {
     "data": {
      "text/plain": [
       "(437271, 31)"
      ]
     },
     "execution_count": 71,
     "metadata": {},
     "output_type": "execute_result"
    }
   ],
   "source": [
    "X_train.shape"
   ]
  },
  {
   "cell_type": "code",
   "execution_count": 72,
   "metadata": {
    "ExecuteTime": {
     "end_time": "2021-05-16T18:12:17.123096Z",
     "start_time": "2021-05-16T17:49:44.593560Z"
    }
   },
   "outputs": [
    {
     "name": "stdout",
     "output_type": "stream",
     "text": [
      "Epoch 1/100\n",
      "13665/13665 [==============================] - 32s 930us/step - loss: 2.2040 - accuracy: 0.2247\n",
      "Epoch 2/100\n",
      "13665/13665 [==============================] - 12s 908us/step - loss: 2.0339 - accuracy: 0.2765\n",
      "Epoch 3/100\n",
      "13665/13665 [==============================] - 12s 911us/step - loss: 1.9827 - accuracy: 0.2948\n",
      "Epoch 4/100\n",
      "13665/13665 [==============================] - 13s 929us/step - loss: 1.9539 - accuracy: 0.3051\n",
      "Epoch 5/100\n",
      "13665/13665 [==============================] - 13s 934us/step - loss: 1.9323 - accuracy: 0.3134\n",
      "Epoch 6/100\n",
      "13665/13665 [==============================] - 12s 910us/step - loss: 1.9222 - accuracy: 0.3170\n",
      "Epoch 7/100\n",
      "13665/13665 [==============================] - 12s 907us/step - loss: 1.9046 - accuracy: 0.3227\n",
      "Epoch 8/100\n",
      "13665/13665 [==============================] - 13s 915us/step - loss: 1.9023 - accuracy: 0.3223\n",
      "Epoch 9/100\n",
      "13665/13665 [==============================] - 13s 926us/step - loss: 1.8943 - accuracy: 0.3250\n",
      "Epoch 10/100\n",
      "13665/13665 [==============================] - 13s 934us/step - loss: 1.8933 - accuracy: 0.3254\n",
      "Epoch 11/100\n",
      "13665/13665 [==============================] - 12s 914us/step - loss: 1.8920 - accuracy: 0.3262\n",
      "Epoch 12/100\n",
      "13665/13665 [==============================] - 12s 906us/step - loss: 1.8864 - accuracy: 0.3284\n",
      "Epoch 13/100\n",
      "13665/13665 [==============================] - 12s 912us/step - loss: 1.8842 - accuracy: 0.3287\n",
      "Epoch 14/100\n",
      "13665/13665 [==============================] - 13s 936us/step - loss: 1.8822 - accuracy: 0.3283\n",
      "Epoch 15/100\n",
      "13665/13665 [==============================] - 13s 928us/step - loss: 1.8808 - accuracy: 0.3301\n",
      "Epoch 16/100\n",
      "13665/13665 [==============================] - 12s 914us/step - loss: 1.8786 - accuracy: 0.3309\n",
      "Epoch 17/100\n",
      "13665/13665 [==============================] - 13s 915us/step - loss: 1.8743 - accuracy: 0.3322\n",
      "Epoch 18/100\n",
      "13665/13665 [==============================] - 13s 918us/step - loss: 1.8770 - accuracy: 0.3308\n",
      "Epoch 19/100\n",
      "13665/13665 [==============================] - 13s 932us/step - loss: 1.8709 - accuracy: 0.3332\n",
      "Epoch 20/100\n",
      "13665/13665 [==============================] - 13s 922us/step - loss: 1.8686 - accuracy: 0.3349\n",
      "Epoch 21/100\n",
      "13665/13665 [==============================] - 13s 925us/step - loss: 1.8706 - accuracy: 0.3346\n",
      "Epoch 22/100\n",
      "13665/13665 [==============================] - 12s 911us/step - loss: 1.8678 - accuracy: 0.3347\n",
      "Epoch 23/100\n",
      "13665/13665 [==============================] - 13s 917us/step - loss: 1.8647 - accuracy: 0.3363\n",
      "Epoch 24/100\n",
      "13665/13665 [==============================] - 13s 920us/step - loss: 1.8639 - accuracy: 0.3368\n",
      "Epoch 25/100\n",
      "13665/13665 [==============================] - 13s 937us/step - loss: 1.8635 - accuracy: 0.3368\n",
      "Epoch 26/100\n",
      "13665/13665 [==============================] - 13s 922us/step - loss: 1.8637 - accuracy: 0.3358\n",
      "Epoch 27/100\n",
      "13665/13665 [==============================] - 13s 917us/step - loss: 1.8639 - accuracy: 0.3366\n",
      "Epoch 28/100\n",
      "13665/13665 [==============================] - 13s 918us/step - loss: 1.8628 - accuracy: 0.3362\n",
      "Epoch 29/100\n",
      "13665/13665 [==============================] - 13s 916us/step - loss: 1.8629 - accuracy: 0.3362\n",
      "Epoch 30/100\n",
      "13665/13665 [==============================] - 13s 935us/step - loss: 1.8612 - accuracy: 0.3378\n",
      "Epoch 31/100\n",
      "13665/13665 [==============================] - 13s 935us/step - loss: 1.8567 - accuracy: 0.3399\n",
      "Epoch 32/100\n",
      "13665/13665 [==============================] - 12s 914us/step - loss: 1.8582 - accuracy: 0.3378\n",
      "Epoch 33/100\n",
      "13665/13665 [==============================] - 13s 917us/step - loss: 1.8589 - accuracy: 0.3367\n",
      "Epoch 34/100\n",
      "13665/13665 [==============================] - 13s 917us/step - loss: 1.8572 - accuracy: 0.3381\n",
      "Epoch 35/100\n",
      "13665/13665 [==============================] - 13s 927us/step - loss: 1.8569 - accuracy: 0.3387\n",
      "Epoch 36/100\n",
      "13665/13665 [==============================] - 13s 928us/step - loss: 1.8551 - accuracy: 0.3382\n",
      "Epoch 37/100\n",
      "13665/13665 [==============================] - 13s 920us/step - loss: 1.8570 - accuracy: 0.3374\n",
      "Epoch 38/100\n",
      "13665/13665 [==============================] - 13s 915us/step - loss: 1.8535 - accuracy: 0.3397\n",
      "Epoch 39/100\n",
      "13665/13665 [==============================] - 13s 917us/step - loss: 1.8520 - accuracy: 0.3402\n",
      "Epoch 40/100\n",
      "13665/13665 [==============================] - 13s 929us/step - loss: 1.8546 - accuracy: 0.3392\n",
      "Epoch 41/100\n",
      "13665/13665 [==============================] - 13s 934us/step - loss: 1.8535 - accuracy: 0.3387\n",
      "Epoch 42/100\n",
      "13665/13665 [==============================] - 13s 926us/step - loss: 1.8533 - accuracy: 0.3390\n",
      "Epoch 43/100\n",
      "13665/13665 [==============================] - 13s 926us/step - loss: 1.8518 - accuracy: 0.3398\n",
      "Epoch 44/100\n",
      "13665/13665 [==============================] - 13s 929us/step - loss: 1.8515 - accuracy: 0.3399\n",
      "Epoch 45/100\n",
      "13665/13665 [==============================] - 13s 919us/step - loss: 1.8503 - accuracy: 0.3404\n",
      "Epoch 46/100\n",
      "13665/13665 [==============================] - 13s 935us/step - loss: 1.8511 - accuracy: 0.3392\n",
      "Epoch 47/100\n",
      "13665/13665 [==============================] - 13s 934us/step - loss: 1.8514 - accuracy: 0.3406\n",
      "Epoch 48/100\n",
      "13665/13665 [==============================] - 12s 908us/step - loss: 1.8505 - accuracy: 0.3408\n",
      "Epoch 49/100\n",
      "13665/13665 [==============================] - 12s 914us/step - loss: 1.8506 - accuracy: 0.3399\n",
      "Epoch 50/100\n",
      "13665/13665 [==============================] - 13s 916us/step - loss: 1.8524 - accuracy: 0.3404\n",
      "Epoch 51/100\n",
      "13665/13665 [==============================] - 13s 938us/step - loss: 1.8488 - accuracy: 0.3416\n",
      "Epoch 52/100\n",
      "13665/13665 [==============================] - 13s 940us/step - loss: 1.8541 - accuracy: 0.3390\n",
      "Epoch 53/100\n",
      "13665/13665 [==============================] - 12s 902us/step - loss: 1.8500 - accuracy: 0.3400\n",
      "Epoch 54/100\n",
      "13665/13665 [==============================] - 12s 913us/step - loss: 1.8509 - accuracy: 0.3411\n",
      "Epoch 55/100\n",
      "13665/13665 [==============================] - 13s 919us/step - loss: 1.8452 - accuracy: 0.3410\n",
      "Epoch 56/100\n",
      "13665/13665 [==============================] - 13s 932us/step - loss: 1.8455 - accuracy: 0.3426\n",
      "Epoch 57/100\n",
      "13665/13665 [==============================] - 13s 936us/step - loss: 1.8458 - accuracy: 0.3434\n",
      "Epoch 58/100\n",
      "13665/13665 [==============================] - 13s 916us/step - loss: 1.8459 - accuracy: 0.3407\n",
      "Epoch 59/100\n",
      "13665/13665 [==============================] - 13s 915us/step - loss: 1.8471 - accuracy: 0.3417\n",
      "Epoch 60/100\n",
      "13665/13665 [==============================] - 13s 917us/step - loss: 1.8458 - accuracy: 0.3426\n",
      "Epoch 61/100\n",
      "13665/13665 [==============================] - 13s 932us/step - loss: 1.8454 - accuracy: 0.3421\n",
      "Epoch 62/100\n",
      "13665/13665 [==============================] - 13s 941us/step - loss: 1.8485 - accuracy: 0.3409\n",
      "Epoch 63/100\n",
      "13665/13665 [==============================] - 13s 919us/step - loss: 1.8460 - accuracy: 0.3409\n",
      "Epoch 64/100\n",
      "13665/13665 [==============================] - 13s 929us/step - loss: 1.8449 - accuracy: 0.3413\n",
      "Epoch 65/100\n",
      "13665/13665 [==============================] - 12s 914us/step - loss: 1.8444 - accuracy: 0.3423\n",
      "Epoch 66/100\n",
      "13665/13665 [==============================] - 13s 925us/step - loss: 1.8449 - accuracy: 0.3426\n",
      "Epoch 67/100\n",
      "13665/13665 [==============================] - 13s 929us/step - loss: 1.8445 - accuracy: 0.3424\n",
      "Epoch 68/100\n",
      "13665/13665 [==============================] - 13s 918us/step - loss: 1.8439 - accuracy: 0.3428\n",
      "Epoch 69/100\n",
      "13665/13665 [==============================] - 12s 913us/step - loss: 1.8444 - accuracy: 0.3415\n",
      "Epoch 70/100\n",
      "13665/13665 [==============================] - 12s 911us/step - loss: 1.8428 - accuracy: 0.3424\n",
      "Epoch 71/100\n",
      "13665/13665 [==============================] - 13s 919us/step - loss: 1.8447 - accuracy: 0.3414\n",
      "Epoch 72/100\n",
      "13665/13665 [==============================] - 13s 930us/step - loss: 1.8439 - accuracy: 0.3423\n",
      "Epoch 73/100\n",
      "13665/13665 [==============================] - 13s 925us/step - loss: 1.8419 - accuracy: 0.3439\n",
      "Epoch 74/100\n",
      "13665/13665 [==============================] - 12s 913us/step - loss: 1.8419 - accuracy: 0.3432\n",
      "Epoch 75/100\n",
      "13665/13665 [==============================] - 13s 915us/step - loss: 1.8436 - accuracy: 0.3419\n",
      "Epoch 76/100\n",
      "13665/13665 [==============================] - 12s 911us/step - loss: 1.8368 - accuracy: 0.3443\n",
      "Epoch 77/100\n",
      "13665/13665 [==============================] - 13s 923us/step - loss: 1.8440 - accuracy: 0.3412\n",
      "Epoch 78/100\n",
      "13665/13665 [==============================] - 13s 927us/step - loss: 1.8395 - accuracy: 0.3434\n",
      "Epoch 79/100\n",
      "13665/13665 [==============================] - 13s 916us/step - loss: 1.8397 - accuracy: 0.3426\n",
      "Epoch 80/100\n",
      "13665/13665 [==============================] - 13s 917us/step - loss: 1.8405 - accuracy: 0.3416\n",
      "Epoch 81/100\n",
      "13665/13665 [==============================] - 13s 917us/step - loss: 1.8403 - accuracy: 0.3422\n",
      "Epoch 82/100\n",
      "13665/13665 [==============================] - 13s 927us/step - loss: 1.8391 - accuracy: 0.3451\n",
      "Epoch 83/100\n",
      "13665/13665 [==============================] - 13s 933us/step - loss: 1.8386 - accuracy: 0.3435\n",
      "Epoch 84/100\n",
      "13665/13665 [==============================] - 13s 923us/step - loss: 1.8382 - accuracy: 0.3436\n",
      "Epoch 85/100\n",
      "13665/13665 [==============================] - 13s 920us/step - loss: 1.8395 - accuracy: 0.3442\n",
      "Epoch 86/100\n",
      "13665/13665 [==============================] - 12s 914us/step - loss: 1.8394 - accuracy: 0.3428\n",
      "Epoch 87/100\n",
      "13665/13665 [==============================] - 13s 922us/step - loss: 1.8397 - accuracy: 0.3427\n",
      "Epoch 88/100\n",
      "13665/13665 [==============================] - 13s 932us/step - loss: 1.8409 - accuracy: 0.3427\n",
      "Epoch 89/100\n",
      "13665/13665 [==============================] - 13s 941us/step - loss: 1.8415 - accuracy: 0.3427\n",
      "Epoch 90/100\n",
      "13665/13665 [==============================] - 13s 919us/step - loss: 1.8409 - accuracy: 0.3436\n",
      "Epoch 91/100\n",
      "13665/13665 [==============================] - 13s 918us/step - loss: 1.8374 - accuracy: 0.3442\n",
      "Epoch 92/100\n",
      "13665/13665 [==============================] - 13s 927us/step - loss: 1.8392 - accuracy: 0.3433\n",
      "Epoch 93/100\n",
      "13665/13665 [==============================] - 13s 934us/step - loss: 1.8410 - accuracy: 0.3425\n",
      "Epoch 94/100\n",
      "13665/13665 [==============================] - 13s 936us/step - loss: 1.8416 - accuracy: 0.3426\n",
      "Epoch 95/100\n",
      "13665/13665 [==============================] - 13s 921us/step - loss: 1.8379 - accuracy: 0.3442\n",
      "Epoch 96/100\n",
      "13665/13665 [==============================] - 13s 918us/step - loss: 1.8382 - accuracy: 0.3437\n",
      "Epoch 97/100\n",
      "13665/13665 [==============================] - 12s 913us/step - loss: 1.8402 - accuracy: 0.3445\n",
      "Epoch 98/100\n",
      "13665/13665 [==============================] - 13s 942us/step - loss: 1.8405 - accuracy: 0.3425\n",
      "Epoch 99/100\n",
      "13665/13665 [==============================] - 13s 945us/step - loss: 1.8390 - accuracy: 0.3436\n",
      "Epoch 100/100\n",
      "13665/13665 [==============================] - 13s 922us/step - loss: 1.8365 - accuracy: 0.3443\n"
     ]
    },
    {
     "data": {
      "text/plain": [
       "<tensorflow.python.keras.callbacks.History at 0x275abe08550>"
      ]
     },
     "execution_count": 72,
     "metadata": {},
     "output_type": "execute_result"
    }
   ],
   "source": [
    "# model definition\n",
    "model = ml.Sequential()\n",
    "model.add(l.Dense(64, input_dim=X_train.shape[1], activation='relu'))\n",
    "model.add(l.Dense(12, activation='softmax'))\n",
    "\n",
    "# model compile\n",
    "model.compile(loss='categorical_crossentropy', optimizer='adam', metrics=['accuracy'])\n",
    "\n",
    "# train model\n",
    "model.fit(X_train, y_train_nn, epochs=100)"
   ]
  },
  {
   "cell_type": "markdown",
   "metadata": {},
   "source": [
    "### 8.2.1. NN Performance"
   ]
  },
  {
   "cell_type": "code",
   "execution_count": 73,
   "metadata": {
    "ExecuteTime": {
     "end_time": "2021-05-16T18:12:19.054101Z",
     "start_time": "2021-05-16T18:12:17.141645Z"
    }
   },
   "outputs": [],
   "source": [
    "#prediction\n",
    "pred_nn = model.predict(X_test)\n",
    "\n",
    "#invert prediction\n",
    "yhat_nn = ohe.inverse_transform(pred_nn\n",
    "                               )\n",
    "\n",
    "#prediction prepare\n",
    "y_test_nn = y_test.to_numpy()\n",
    "yhat_nn = yhat_nn.reshape(1, -1)[0]"
   ]
  },
  {
   "cell_type": "code",
   "execution_count": 74,
   "metadata": {
    "ExecuteTime": {
     "end_time": "2021-05-16T18:12:23.458083Z",
     "start_time": "2021-05-16T18:12:19.054101Z"
    }
   },
   "outputs": [
    {
     "name": "stdout",
     "output_type": "stream",
     "text": [
      "Accuracy: 0.34310909456814065\n",
      "Balanced Accuracy: 0.3284984726129669\n",
      "Kappa Accuracy: 0.2823602743261677\n"
     ]
    },
    {
     "data": {
      "text/plain": [
       "<AxesSubplot:title={'center':'Confusion Matrix'}, xlabel='Predicted label', ylabel='True label'>"
      ]
     },
     "execution_count": 74,
     "metadata": {},
     "output_type": "execute_result"
    },
    {
     "data": {
      "image/png": "[encoded data removed]",
      "text/plain": [
       "<Figure size 864x864 with 2 Axes>"
      ]
     },
     "metadata": {
      "needs_background": "light"
     },
     "output_type": "display_data"
    }
   ],
   "source": [
    "#accuracy\n",
    "acc_nn = m.accuracy_score(y_test_nn, yhat_nn)\n",
    "print('Accuracy: {}'.format(acc_nn))\n",
    "\n",
    "#balanced accuracy\n",
    "balanced_acc_nn = m.balanced_accuracy_score(y_test_nn, yhat_nn)\n",
    "print('Balanced Accuracy: {}'.format(balanced_acc_nn))\n",
    "\n",
    "#Kappa metrics\n",
    "kappa_nn = m.cohen_kappa_score(y_test_nn, yhat_nn)\n",
    "print('Kappa Accuracy: {}'.format(kappa_nn))\n",
    "\n",
    "#confusion matrix\n",
    "mt.plot_confusion_matrix(y_test_nn, yhat_nn, normalize=False, figsize=(12,12))"
   ]
  },
  {
   "cell_type": "markdown",
   "metadata": {
    "ExecuteTime": {
     "end_time": "2021-04-25T22:02:10.795631Z",
     "start_time": "2021-04-25T22:02:10.777644Z"
    }
   },
   "source": [
    "### 8.2.2. NN Performance - Cross-Validation"
   ]
  },
  {
   "cell_type": "code",
   "execution_count": 75,
   "metadata": {
    "ExecuteTime": {
     "end_time": "2021-05-16T19:30:31.488684Z",
     "start_time": "2021-05-16T18:12:23.460080Z"
    }
   },
   "outputs": [
    {
     "name": "stdout",
     "output_type": "stream",
     "text": [
      "Fold Number: 1/5\n",
      "Fold Number: 2/5\n",
      "Fold Number: 3/5\n",
      "Fold Number: 4/5\n",
      "Fold Number: 5/5\n"
     ]
    }
   ],
   "source": [
    "# generate k-fold\n",
    "num_folds = 5\n",
    "kfold = ms.StratifiedKFold(n_splits=num_folds, shuffle=True, random_state=32)\n",
    "\n",
    "balanced_acc_list = []\n",
    "kappa_acc_list = []\n",
    "\n",
    "i = 1\n",
    "\n",
    "#for train_ix, val_ix in kfold.split(X_train, y_train):\n",
    "    print('Fold Number: {}/{}'.format(i, num_folds))\n",
    "    \n",
    "    #get fold\n",
    "    x_train_fold = X_train.iloc[train_ix]\n",
    "    y_train_fold = y_train.iloc[train_ix]\n",
    "    \n",
    "    x_val_fold = X_train.iloc[val_ix]\n",
    "    y_val_fold = y_train.iloc[val_ix]\n",
    "    \n",
    "    #target hot-enconding\n",
    "    ohe = pp.OneHotEncoder()\n",
    "    y_train_fold_nn = ohe.fit_transform(y_train_fold.values.reshape(-1,1)).toarray()\n",
    "    \n",
    "    #model definition\n",
    "    model = ml.Sequential()\n",
    "    model.add(l.Dense(256, input_dim=X_train.shape[1], activation='relu'))\n",
    "    model.add(l.Dense(12, activation='softmax'))\n",
    "    \n",
    "    #compile model\n",
    "    model.compile(loss='categorical_crossentropy', optimizer='adam', metrics=['accuracy'])\n",
    "    \n",
    "    #training model\n",
    "    model.fit(x_train_fold, y_train_fold_nn, epochs=100, batch_size=32, verbose=0)\n",
    "    \n",
    "    #prediction\n",
    "    pred_nn = model.predict(x_val_fold)\n",
    "    yhat_nn = ohe.inverse_transform(pred_nn)\n",
    "    \n",
    "    #prepare data\n",
    "    y_test_nn = y_val_fold.to_numpy()\n",
    "    yhat_nn = yhat_nn.reshape(1, -1)[0]\n",
    "    \n",
    "    #metrics\n",
    "    ##Balanced Accuracy\n",
    "    baanced_acc_nn = m.balanced_accuracy_score(y_test_nn, yhat_nn)\n",
    "    balanced_acc_list.append(balanced_acc_nn)\n",
    "    \n",
    "    ##Kappa Metrics\n",
    "    kappa_acc_nn = m.cohen_kappa_score(y_test_nn, yhat_nn)\n",
    "    kappa_acc_list.append(kappa_acc_nn)\n",
    "    \n",
    "    i+=1\n"
   ]
  },
  {
   "cell_type": "code",
   "execution_count": 76,
   "metadata": {
    "ExecuteTime": {
     "end_time": "2021-05-16T19:30:31.726512Z",
     "start_time": "2021-05-16T19:30:31.528661Z"
    }
   },
   "outputs": [],
   "source": [
    "pickle.dump(balanced_acc_list, open('balanced_acc_list.pkl','wb'))\n",
    "pickle.dump(kappa_acc_list, open('kappa_acc_list.pkl','wb'))"
   ]
  },
  {
   "cell_type": "code",
   "execution_count": null,
   "metadata": {},
   "outputs": [],
   "source": [
    "balanced_acc_list = pickle.load(open('C:/Users/Henrique/repos/Airbnb/airbnb_predict_first_booking/balanced_acc_list.pkl', 'rb'))\n",
    "kappa_acc_list.pkl = pickle.load(open('C:/Users/Henrique/repos/Airbnb/airbnb_predict_first_booking/kappa_acc_list.pkl.pkl', 'rb'))"
   ]
  },
  {
   "cell_type": "code",
   "execution_count": 77,
   "metadata": {
    "ExecuteTime": {
     "end_time": "2021-05-16T19:30:32.041230Z",
     "start_time": "2021-05-16T19:30:31.849348Z"
    }
   },
   "outputs": [
    {
     "name": "stdout",
     "output_type": "stream",
     "text": [
      "Avg Balanced Accuracy: 0.33 +/- 0.0\n",
      "Avg Kappa Accuracy: 0.4 +/- 0.0\n"
     ]
    }
   ],
   "source": [
    "print('Avg Balanced Accuracy: {} +/- {}'.format(np.round(np.mean(balanced_acc_list),2),\n",
    "                                                np.round(np.std(balanced_acc_list),4)))\n",
    "print('Avg Kappa Accuracy: {} +/- {}'.format(np.round(np.mean(kappa_acc_list),2),\n",
    "                                             np.round(np.std(kappa_acc_list)),4))"
   ]
  },
  {
   "cell_type": "code",
   "execution_count": null,
   "metadata": {},
   "outputs": [],
   "source": []
  }
 ],
 "metadata": {
  "kernelspec": {
   "display_name": "Python 3",
   "language": "python",
   "name": "python3"
  },
  "language_info": {
   "codemirror_mode": {
    "name": "ipython",
    "version": 3
   },
   "file_extension": ".py",
   "mimetype": "text/x-python",
   "name": "python",
   "nbconvert_exporter": "python",
   "pygments_lexer": "ipython3",
   "version": "3.8.5"
  }
 },
 "nbformat": 4,
 "nbformat_minor": 4
}
